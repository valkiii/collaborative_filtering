{
 "metadata": {
  "language_info": {
   "codemirror_mode": {
    "name": "ipython",
    "version": 3
   },
   "file_extension": ".py",
   "mimetype": "text/x-python",
   "name": "python",
   "nbconvert_exporter": "python",
   "pygments_lexer": "ipython3",
   "version": "3.8.5-final"
  },
  "orig_nbformat": 2,
  "kernelspec": {
   "name": "python385jvsc74a57bd0e0999b5a854c9b6266d2044c3f63afb6ced6374340be65f90773ef6ca75ef785",
   "display_name": "Python 3.8.5 64-bit (conda)"
  }
 },
 "nbformat": 4,
 "nbformat_minor": 2,
 "cells": [
  {
   "cell_type": "code",
   "execution_count": 1,
   "metadata": {},
   "outputs": [],
   "source": [
    "# Source: https://github.com/aayushmnit/cookbook/blob/master/recsys.py\n",
    "# https://towardsdatascience.com/solving-business-usecases-by-recommender-system-using-lightfm-4ba7b3ac8e62"
   ]
  },
  {
   "cell_type": "code",
   "execution_count": 2,
   "metadata": {},
   "outputs": [
    {
     "output_type": "stream",
     "name": "stderr",
     "text": [
      "C:\\Users\\daape\\anaconda3\\lib\\site-packages\\lightfm\\_lightfm_fast.py:9: UserWarning: LightFM was compiled without OpenMP support. Only a single thread will be used.\n  warnings.warn(\n"
     ]
    }
   ],
   "source": [
    "import sys\n",
    "import os\n",
    "from recsys import *\n",
    "from generic_preprocessing import *\n",
    "from lightfm.data import Dataset"
   ]
  },
  {
   "cell_type": "code",
   "execution_count": null,
   "metadata": {},
   "outputs": [],
   "source": [
    "def feature_colon_value(my_list):\n",
    "    \"\"\"\n",
    "    Takes as input a list and prepends the columns names to respective values in the list.\n",
    "    For example: if my_list = [24,M,technician,85711],\n",
    "    resultant output = ['age:24', 'sex:M', 'occupation:technician', 'zipcode:85711']\n",
    "    \"\"\"\n",
    "    result = []\n",
    "    ll = ['age:','sex:', 'occupation:', 'zip_code:']\n",
    "    aa = my_list\n",
    "    for x,y in zip(ll,aa):\n",
    "        res = str(x) +\"\"+ str(y)\n",
    "        result.append(res)\n",
    "    return result"
   ]
  },
  {
   "cell_type": "code",
   "execution_count": 4,
   "metadata": {},
   "outputs": [],
   "source": [
    "#User's data\n",
    "users_cols = ['user_id', 'age', 'sex', 'occupation', 'zip_code']\n",
    "users = pd.read_csv('ml-100k/u.user', sep='|', names=users_cols, parse_dates=True) \n",
    "#Ratings\n",
    "rating_cols = ['user_id', 'movie_id', 'rating', 'unix_timestamp']\n",
    "ratings = pd.read_csv('ml-100k/u.data', sep='\\t', names=rating_cols)\n",
    "#Movies\n",
    "movie_cols = ['movie_id', 'title', 'release_date', 'video_release_date', 'imdb_url']\n",
    "movies = pd.read_csv('ml-100k/u.item', sep='|', names=movie_cols, usecols=range(5),encoding='latin-1')"
   ]
  },
  {
   "cell_type": "code",
   "execution_count": 5,
   "metadata": {},
   "outputs": [],
   "source": [
    "#Merging movie data with their ratings\n",
    "movie_ratings = pd.merge(movies, ratings)\n",
    "#merging movie_ratings data with the User's dataframe\n",
    "df = pd.merge(movie_ratings, users)"
   ]
  },
  {
   "cell_type": "code",
   "execution_count": 6,
   "metadata": {},
   "outputs": [],
   "source": [
    "users['zip_code'] =  users['zip_code'].astype(str)"
   ]
  },
  {
   "cell_type": "code",
   "execution_count": 53,
   "metadata": {},
   "outputs": [],
   "source": [
    "#Pivot Table(This creates a matrix of users and movie_ratings)\n",
    "interactions = ratings.pivot_table(index=['user_id'],columns=['movie_id'],values='rating').reset_index(drop=True)\n",
    "interactions.fillna( 0, inplace = True )\n"
   ]
  },
  {
   "cell_type": "code",
   "execution_count": 54,
   "metadata": {},
   "outputs": [
    {
     "output_type": "execute_result",
     "data": {
      "text/plain": [
       "movie_id  1     2     3     4     5     6     7     8     9     10    ...  \\\n",
       "0          5.0   3.0   4.0   3.0   3.0   5.0   4.0   1.0   5.0   3.0  ...   \n",
       "1          4.0   0.0   0.0   0.0   0.0   0.0   0.0   0.0   0.0   2.0  ...   \n",
       "2          0.0   0.0   0.0   0.0   0.0   0.0   0.0   0.0   0.0   0.0  ...   \n",
       "3          0.0   0.0   0.0   0.0   0.0   0.0   0.0   0.0   0.0   0.0  ...   \n",
       "4          4.0   3.0   0.0   0.0   0.0   0.0   0.0   0.0   0.0   0.0  ...   \n",
       "\n",
       "movie_id  1673  1674  1675  1676  1677  1678  1679  1680  1681  1682  \n",
       "0          0.0   0.0   0.0   0.0   0.0   0.0   0.0   0.0   0.0   0.0  \n",
       "1          0.0   0.0   0.0   0.0   0.0   0.0   0.0   0.0   0.0   0.0  \n",
       "2          0.0   0.0   0.0   0.0   0.0   0.0   0.0   0.0   0.0   0.0  \n",
       "3          0.0   0.0   0.0   0.0   0.0   0.0   0.0   0.0   0.0   0.0  \n",
       "4          0.0   0.0   0.0   0.0   0.0   0.0   0.0   0.0   0.0   0.0  \n",
       "\n",
       "[5 rows x 1682 columns]"
      ],
      "text/html": "<div>\n<style scoped>\n    .dataframe tbody tr th:only-of-type {\n        vertical-align: middle;\n    }\n\n    .dataframe tbody tr th {\n        vertical-align: top;\n    }\n\n    .dataframe thead th {\n        text-align: right;\n    }\n</style>\n<table border=\"1\" class=\"dataframe\">\n  <thead>\n    <tr style=\"text-align: right;\">\n      <th>movie_id</th>\n      <th>1</th>\n      <th>2</th>\n      <th>3</th>\n      <th>4</th>\n      <th>5</th>\n      <th>6</th>\n      <th>7</th>\n      <th>8</th>\n      <th>9</th>\n      <th>10</th>\n      <th>...</th>\n      <th>1673</th>\n      <th>1674</th>\n      <th>1675</th>\n      <th>1676</th>\n      <th>1677</th>\n      <th>1678</th>\n      <th>1679</th>\n      <th>1680</th>\n      <th>1681</th>\n      <th>1682</th>\n    </tr>\n  </thead>\n  <tbody>\n    <tr>\n      <th>0</th>\n      <td>5.0</td>\n      <td>3.0</td>\n      <td>4.0</td>\n      <td>3.0</td>\n      <td>3.0</td>\n      <td>5.0</td>\n      <td>4.0</td>\n      <td>1.0</td>\n      <td>5.0</td>\n      <td>3.0</td>\n      <td>...</td>\n      <td>0.0</td>\n      <td>0.0</td>\n      <td>0.0</td>\n      <td>0.0</td>\n      <td>0.0</td>\n      <td>0.0</td>\n      <td>0.0</td>\n      <td>0.0</td>\n      <td>0.0</td>\n      <td>0.0</td>\n    </tr>\n    <tr>\n      <th>1</th>\n      <td>4.0</td>\n      <td>0.0</td>\n      <td>0.0</td>\n      <td>0.0</td>\n      <td>0.0</td>\n      <td>0.0</td>\n      <td>0.0</td>\n      <td>0.0</td>\n      <td>0.0</td>\n      <td>2.0</td>\n      <td>...</td>\n      <td>0.0</td>\n      <td>0.0</td>\n      <td>0.0</td>\n      <td>0.0</td>\n      <td>0.0</td>\n      <td>0.0</td>\n      <td>0.0</td>\n      <td>0.0</td>\n      <td>0.0</td>\n      <td>0.0</td>\n    </tr>\n    <tr>\n      <th>2</th>\n      <td>0.0</td>\n      <td>0.0</td>\n      <td>0.0</td>\n      <td>0.0</td>\n      <td>0.0</td>\n      <td>0.0</td>\n      <td>0.0</td>\n      <td>0.0</td>\n      <td>0.0</td>\n      <td>0.0</td>\n      <td>...</td>\n      <td>0.0</td>\n      <td>0.0</td>\n      <td>0.0</td>\n      <td>0.0</td>\n      <td>0.0</td>\n      <td>0.0</td>\n      <td>0.0</td>\n      <td>0.0</td>\n      <td>0.0</td>\n      <td>0.0</td>\n    </tr>\n    <tr>\n      <th>3</th>\n      <td>0.0</td>\n      <td>0.0</td>\n      <td>0.0</td>\n      <td>0.0</td>\n      <td>0.0</td>\n      <td>0.0</td>\n      <td>0.0</td>\n      <td>0.0</td>\n      <td>0.0</td>\n      <td>0.0</td>\n      <td>...</td>\n      <td>0.0</td>\n      <td>0.0</td>\n      <td>0.0</td>\n      <td>0.0</td>\n      <td>0.0</td>\n      <td>0.0</td>\n      <td>0.0</td>\n      <td>0.0</td>\n      <td>0.0</td>\n      <td>0.0</td>\n    </tr>\n    <tr>\n      <th>4</th>\n      <td>4.0</td>\n      <td>3.0</td>\n      <td>0.0</td>\n      <td>0.0</td>\n      <td>0.0</td>\n      <td>0.0</td>\n      <td>0.0</td>\n      <td>0.0</td>\n      <td>0.0</td>\n      <td>0.0</td>\n      <td>...</td>\n      <td>0.0</td>\n      <td>0.0</td>\n      <td>0.0</td>\n      <td>0.0</td>\n      <td>0.0</td>\n      <td>0.0</td>\n      <td>0.0</td>\n      <td>0.0</td>\n      <td>0.0</td>\n      <td>0.0</td>\n    </tr>\n  </tbody>\n</table>\n<p>5 rows × 1682 columns</p>\n</div>"
     },
     "metadata": {},
     "execution_count": 54
    }
   ],
   "source": [
    "interactions.head()"
   ]
  },
  {
   "cell_type": "code",
   "execution_count": 55,
   "metadata": {},
   "outputs": [],
   "source": [
    "interaction = create_interaction_matrix(df = ratings,\n",
    "                                         user_col = 'user_id',\n",
    "                                         item_col = 'movie_id',\n",
    "                                         rating_col = 'rating',\n",
    "                                         threshold = '3')"
   ]
  },
  {
   "cell_type": "code",
   "execution_count": 56,
   "metadata": {},
   "outputs": [
    {
     "output_type": "execute_result",
     "data": {
      "text/plain": [
       "movie_id  1     2     3     4     5     6     7     8     9     10    ...  \\\n",
       "user_id                                                               ...   \n",
       "1          5.0   3.0   4.0   3.0   3.0   5.0   4.0   1.0   5.0   3.0  ...   \n",
       "2          4.0   0.0   0.0   0.0   0.0   0.0   0.0   0.0   0.0   2.0  ...   \n",
       "3          0.0   0.0   0.0   0.0   0.0   0.0   0.0   0.0   0.0   0.0  ...   \n",
       "4          0.0   0.0   0.0   0.0   0.0   0.0   0.0   0.0   0.0   0.0  ...   \n",
       "5          4.0   3.0   0.0   0.0   0.0   0.0   0.0   0.0   0.0   0.0  ...   \n",
       "\n",
       "movie_id  1673  1674  1675  1676  1677  1678  1679  1680  1681  1682  \n",
       "user_id                                                               \n",
       "1          0.0   0.0   0.0   0.0   0.0   0.0   0.0   0.0   0.0   0.0  \n",
       "2          0.0   0.0   0.0   0.0   0.0   0.0   0.0   0.0   0.0   0.0  \n",
       "3          0.0   0.0   0.0   0.0   0.0   0.0   0.0   0.0   0.0   0.0  \n",
       "4          0.0   0.0   0.0   0.0   0.0   0.0   0.0   0.0   0.0   0.0  \n",
       "5          0.0   0.0   0.0   0.0   0.0   0.0   0.0   0.0   0.0   0.0  \n",
       "\n",
       "[5 rows x 1682 columns]"
      ],
      "text/html": "<div>\n<style scoped>\n    .dataframe tbody tr th:only-of-type {\n        vertical-align: middle;\n    }\n\n    .dataframe tbody tr th {\n        vertical-align: top;\n    }\n\n    .dataframe thead th {\n        text-align: right;\n    }\n</style>\n<table border=\"1\" class=\"dataframe\">\n  <thead>\n    <tr style=\"text-align: right;\">\n      <th>movie_id</th>\n      <th>1</th>\n      <th>2</th>\n      <th>3</th>\n      <th>4</th>\n      <th>5</th>\n      <th>6</th>\n      <th>7</th>\n      <th>8</th>\n      <th>9</th>\n      <th>10</th>\n      <th>...</th>\n      <th>1673</th>\n      <th>1674</th>\n      <th>1675</th>\n      <th>1676</th>\n      <th>1677</th>\n      <th>1678</th>\n      <th>1679</th>\n      <th>1680</th>\n      <th>1681</th>\n      <th>1682</th>\n    </tr>\n    <tr>\n      <th>user_id</th>\n      <th></th>\n      <th></th>\n      <th></th>\n      <th></th>\n      <th></th>\n      <th></th>\n      <th></th>\n      <th></th>\n      <th></th>\n      <th></th>\n      <th></th>\n      <th></th>\n      <th></th>\n      <th></th>\n      <th></th>\n      <th></th>\n      <th></th>\n      <th></th>\n      <th></th>\n      <th></th>\n      <th></th>\n    </tr>\n  </thead>\n  <tbody>\n    <tr>\n      <th>1</th>\n      <td>5.0</td>\n      <td>3.0</td>\n      <td>4.0</td>\n      <td>3.0</td>\n      <td>3.0</td>\n      <td>5.0</td>\n      <td>4.0</td>\n      <td>1.0</td>\n      <td>5.0</td>\n      <td>3.0</td>\n      <td>...</td>\n      <td>0.0</td>\n      <td>0.0</td>\n      <td>0.0</td>\n      <td>0.0</td>\n      <td>0.0</td>\n      <td>0.0</td>\n      <td>0.0</td>\n      <td>0.0</td>\n      <td>0.0</td>\n      <td>0.0</td>\n    </tr>\n    <tr>\n      <th>2</th>\n      <td>4.0</td>\n      <td>0.0</td>\n      <td>0.0</td>\n      <td>0.0</td>\n      <td>0.0</td>\n      <td>0.0</td>\n      <td>0.0</td>\n      <td>0.0</td>\n      <td>0.0</td>\n      <td>2.0</td>\n      <td>...</td>\n      <td>0.0</td>\n      <td>0.0</td>\n      <td>0.0</td>\n      <td>0.0</td>\n      <td>0.0</td>\n      <td>0.0</td>\n      <td>0.0</td>\n      <td>0.0</td>\n      <td>0.0</td>\n      <td>0.0</td>\n    </tr>\n    <tr>\n      <th>3</th>\n      <td>0.0</td>\n      <td>0.0</td>\n      <td>0.0</td>\n      <td>0.0</td>\n      <td>0.0</td>\n      <td>0.0</td>\n      <td>0.0</td>\n      <td>0.0</td>\n      <td>0.0</td>\n      <td>0.0</td>\n      <td>...</td>\n      <td>0.0</td>\n      <td>0.0</td>\n      <td>0.0</td>\n      <td>0.0</td>\n      <td>0.0</td>\n      <td>0.0</td>\n      <td>0.0</td>\n      <td>0.0</td>\n      <td>0.0</td>\n      <td>0.0</td>\n    </tr>\n    <tr>\n      <th>4</th>\n      <td>0.0</td>\n      <td>0.0</td>\n      <td>0.0</td>\n      <td>0.0</td>\n      <td>0.0</td>\n      <td>0.0</td>\n      <td>0.0</td>\n      <td>0.0</td>\n      <td>0.0</td>\n      <td>0.0</td>\n      <td>...</td>\n      <td>0.0</td>\n      <td>0.0</td>\n      <td>0.0</td>\n      <td>0.0</td>\n      <td>0.0</td>\n      <td>0.0</td>\n      <td>0.0</td>\n      <td>0.0</td>\n      <td>0.0</td>\n      <td>0.0</td>\n    </tr>\n    <tr>\n      <th>5</th>\n      <td>4.0</td>\n      <td>3.0</td>\n      <td>0.0</td>\n      <td>0.0</td>\n      <td>0.0</td>\n      <td>0.0</td>\n      <td>0.0</td>\n      <td>0.0</td>\n      <td>0.0</td>\n      <td>0.0</td>\n      <td>...</td>\n      <td>0.0</td>\n      <td>0.0</td>\n      <td>0.0</td>\n      <td>0.0</td>\n      <td>0.0</td>\n      <td>0.0</td>\n      <td>0.0</td>\n      <td>0.0</td>\n      <td>0.0</td>\n      <td>0.0</td>\n    </tr>\n  </tbody>\n</table>\n<p>5 rows × 1682 columns</p>\n</div>"
     },
     "metadata": {},
     "execution_count": 56
    }
   ],
   "source": [
    "interaction.head()"
   ]
  },
  {
   "cell_type": "code",
   "execution_count": 17,
   "metadata": {},
   "outputs": [],
   "source": [
    "user_dict = create_user_dict(interactions=interactions)"
   ]
  },
  {
   "cell_type": "code",
   "execution_count": 18,
   "metadata": {},
   "outputs": [],
   "source": [
    "movies_dict = create_item_dict(df = movies,\n",
    "                               id_col = 'movie_id',\n",
    "                               name_col = 'title')"
   ]
  },
  {
   "cell_type": "code",
   "execution_count": 20,
   "metadata": {},
   "outputs": [],
   "source": [
    "uf = []\n",
    "col = ['age']*len(users.age.unique()) + ['sex']*len(users.sex.unique()) + ['occupation']*len(users.occupation.unique()) + ['zip_code']*len(users['zip_code'].unique())\n",
    "unique_f1 = list(users.age.unique()) + list(users.sex.unique()) + list(users.occupation.unique()) + list(users['zip_code'].unique())\n",
    "#print('f1:', unique_f1)\n",
    "for x,y in zip(col, unique_f1):\n",
    "    res = str(x)+ \":\" +str(y)\n",
    "    uf.append(res)"
   ]
  },
  {
   "cell_type": "code",
   "execution_count": 21,
   "metadata": {},
   "outputs": [],
   "source": [
    "dataset1 = Dataset()\n",
    "dataset1.fit(\n",
    "        users.user_id.unique(), # all the users\n",
    "        movies.movie_id.unique(), # all the items\n",
    "        user_features = uf\n",
    ")"
   ]
  },
  {
   "cell_type": "code",
   "execution_count": 22,
   "metadata": {},
   "outputs": [
    {
     "output_type": "execute_result",
     "data": {
      "text/plain": [
       "943"
      ]
     },
     "metadata": {},
     "execution_count": 22
    }
   ],
   "source": [
    "len(users.user_id.unique())"
   ]
  },
  {
   "cell_type": "code",
   "execution_count": 23,
   "metadata": {},
   "outputs": [],
   "source": [
    "ll = ['age','sex', 'occupation', 'zip_code']\n",
    "ad_subset = users[['age','sex', 'occupation', 'zip_code']] \n",
    "ad_list = [list(x) for x in ad_subset.values]"
   ]
  },
  {
   "cell_type": "code",
   "execution_count": 24,
   "metadata": {
    "tags": []
   },
   "outputs": [],
   "source": [
    "feature_list = []\n",
    "for item in ad_list:\n",
    "    feature_list.append(feature_colon_value(item))"
   ]
  },
  {
   "cell_type": "code",
   "execution_count": 25,
   "metadata": {},
   "outputs": [],
   "source": [
    "user_tuple = list(zip(users.user_id, feature_list))"
   ]
  },
  {
   "cell_type": "code",
   "execution_count": 26,
   "metadata": {},
   "outputs": [
    {
     "output_type": "execute_result",
     "data": {
      "text/plain": [
       "matrix([[1., 0., 0., ..., 0., 0., 0.],\n",
       "        [0., 1., 0., ..., 0., 0., 0.],\n",
       "        [0., 0., 1., ..., 0., 0., 0.],\n",
       "        ...,\n",
       "        [0., 0., 0., ..., 1., 0., 0.],\n",
       "        [0., 0., 0., ..., 0., 1., 0.],\n",
       "        [0., 0., 0., ..., 0., 0., 1.]], dtype=float32)"
      ]
     },
     "metadata": {},
     "execution_count": 26
    }
   ],
   "source": [
    "user_features = dataset1.build_user_features(user_tuple, normalize= False)\n",
    "user_features.todense()"
   ]
  },
  {
   "cell_type": "code",
   "execution_count": 27,
   "metadata": {},
   "outputs": [
    {
     "output_type": "execute_result",
     "data": {
      "text/plain": [
       "943"
      ]
     },
     "metadata": {},
     "execution_count": 27
    }
   ],
   "source": [
    "len(interactions)"
   ]
  },
  {
   "cell_type": "code",
   "execution_count": 28,
   "metadata": {},
   "outputs": [
    {
     "output_type": "execute_result",
     "data": {
      "text/plain": [
       "(943, 1822)"
      ]
     },
     "metadata": {},
     "execution_count": 28
    }
   ],
   "source": [
    "user_features.shape"
   ]
  },
  {
   "cell_type": "code",
   "execution_count": 31,
   "metadata": {},
   "outputs": [],
   "source": [
    "mf_model = runMF(interactions = interactions,\n",
    "                 n_components = 30,\n",
    "                 loss = 'warp',\n",
    "                 k = 15,\n",
    "                 epoch = 30,\n",
    "                 n_jobs = 4,\n",
    "                 user_features=user_features)"
   ]
  },
  {
   "cell_type": "code",
   "execution_count": 34,
   "metadata": {},
   "outputs": [
    {
     "output_type": "stream",
     "name": "stdout",
     "text": [
      "Known Likes:\n1- Fox and the Hound, The (1981)\n2- Dave (1993)\n3- Singin' in the Rain (1952)\n4- In the Line of Fire (1993)\n5- Manchurian Candidate, The (1962)\n6- Stand by Me (1986)\n7- Chinatown (1974)\n8- Grifters, The (1990)\n9- Rear Window (1954)\n10- American in Paris, An (1951)\n\n Recommended Items:\n1- Sleepless in Seattle (1993)\n2- Mrs. Doubtfire (1993)\n3- Grease (1978)\n4- Dances with Wolves (1990)\n5- Indiana Jones and the Last Crusade (1989)\n6- While You Were Sleeping (1995)\n7- Psycho (1960)\n8- Princess Bride, The (1987)\n9- Blues Brothers, The (1980)\n10- Four Weddings and a Funeral (1994)\n"
     ]
    }
   ],
   "source": [
    "rec_list = sample_recommendation_user(model = mf_model, \n",
    "                                      interactions = interactions, \n",
    "                                      user_id = 15, \n",
    "                                      user_dict = user_dict,\n",
    "                                      item_dict = movies_dict, \n",
    "                                      threshold = 4,\n",
    "                                      nrec_items = 10)"
   ]
  },
  {
   "cell_type": "code",
   "execution_count": 48,
   "metadata": {},
   "outputs": [],
   "source": [
    "\n",
    "list_of_users = sample_recommendation_item(model = mf_model,\n",
    "                           interactions = interactions,\n",
    "                           item_id = 1,\n",
    "                           user_dict = user_dict,\n",
    "                           item_dict = movies_dict,\n",
    "                           number_of_user = 15)"
   ]
  },
  {
   "cell_type": "code",
   "execution_count": 49,
   "metadata": {},
   "outputs": [
    {
     "output_type": "execute_result",
     "data": {
      "text/plain": [
       "[799, 878, 894, 358, 102, 230, 92, 758, 237, 437, 548, 66, 119, 673, 512]"
      ]
     },
     "metadata": {},
     "execution_count": 49
    }
   ],
   "source": [
    "list_of_users"
   ]
  },
  {
   "cell_type": "code",
   "execution_count": 47,
   "metadata": {},
   "outputs": [
    {
     "output_type": "stream",
     "name": "stdout",
     "text": [
      "Known Likes:\n1- Michael (1996)\n2- Happy Gilmore (1996)\n3- Godfather, The (1972)\n4- Phenomenon (1996)\n\n Recommended Items:\n1- Twister (1996)\n2- Independence Day (ID4) (1996)\n3- Mission: Impossible (1996)\n4- Liar Liar (1997)\n5- Mr. Holland's Opus (1995)\n6- Rock, The (1996)\n7- Grumpier Old Men (1995)\n8- Toy Story (1995)\n9- Dante's Peak (1997)\n10- Ransom (1996)\n"
     ]
    }
   ],
   "source": [
    "sample_recommendation_user(model = mf_model, \n",
    "                                      interactions = interactions, \n",
    "                                      user_id = 878, \n",
    "                                      user_dict = user_dict,\n",
    "                                      item_dict = movies_dict, \n",
    "                                      threshold = 4,\n",
    "                                      nrec_items = 10)"
   ]
  },
  {
   "cell_type": "code",
   "execution_count": 45,
   "metadata": {},
   "outputs": [
    {
     "output_type": "stream",
     "name": "stdout",
     "text": [
      "Known Likes:\n1- Rosewood (1997)\n2- Sling Blade (1996)\n\n Recommended Items:\n1- Liar Liar (1997)\n2- Mr. Holland's Opus (1995)\n3- Air Force One (1997)\n4- Dante's Peak (1997)\n5- English Patient, The (1996)\n6- Jungle2Jungle (1997)\n7- Murder at 1600 (1997)\n8- Saint, The (1997)\n9- Contact (1997)\n10- Jerry Maguire (1996)\n"
     ]
    }
   ],
   "source": [
    "rec_list = sample_recommendation_user(model = mf_model, \n",
    "                                      interactions = interactions, \n",
    "                                      user_id = 799, \n",
    "                                      user_dict = user_dict,\n",
    "                                      item_dict = movies_dict, \n",
    "                                      threshold = 4,\n",
    "                                      nrec_items = 10)"
   ]
  },
  {
   "cell_type": "code",
   "execution_count": 36,
   "metadata": {},
   "outputs": [],
   "source": [
    "item_item_dist = create_item_embedding_distance_matrix(model = mf_model,\n",
    "                                                       interactions = interactions)"
   ]
  },
  {
   "cell_type": "code",
   "execution_count": 44,
   "metadata": {},
   "outputs": [
    {
     "output_type": "stream",
     "name": "stdout",
     "text": [
      "Item of interest :Twelve Monkeys (1995)\nItem similar to the above item:\n1- Fargo (1996)\n2- Independence Day (ID4) (1996)\n3- Toy Story (1995)\n4- Star Trek: First Contact (1996)\n5- Heat (1995)\n6- Star Wars (1977)\n7- Arrival, The (1996)\n8- Rock, The (1996)\n9- Mars Attacks! (1996)\n10- Long Kiss Goodnight, The (1996)\n"
     ]
    }
   ],
   "source": [
    "\n",
    "rec_list = item_item_recommendation(item_embedding_distance_matrix = item_item_dist,\n",
    "                                    item_id = 7,\n",
    "                                    item_dict = movies_dict,\n",
    "                                    n_items = 10)"
   ]
  },
  {
   "cell_type": "code",
   "execution_count": 34,
   "metadata": {},
   "outputs": [
    {
     "output_type": "execute_result",
     "data": {
      "text/plain": [
       "movieId    1         2         3         4         5         6         7       \\\n",
       "movieId                                                                         \n",
       "1        1.000000  0.685415  0.376671  0.070300  0.390729  0.492168  0.258641   \n",
       "2        0.685415  1.000000  0.531024  0.060557  0.544537  0.479063  0.335959   \n",
       "3        0.376671  0.531024  1.000000  0.444430  0.581024  0.399764  0.663089   \n",
       "4        0.070300  0.060557  0.444430  1.000000  0.571677  0.041805  0.654426   \n",
       "5        0.390729  0.544537  0.581024  0.571677  1.000000  0.172447  0.638122   \n",
       "...           ...       ...       ...       ...       ...       ...       ...   \n",
       "193581  -0.517201 -0.549564 -0.415541  0.108240 -0.072113 -0.542651 -0.252462   \n",
       "193583  -0.568411 -0.558431 -0.471689  0.017557 -0.120023 -0.502524 -0.320727   \n",
       "193585  -0.534294 -0.610248 -0.578754  0.028752 -0.191747 -0.553692 -0.340490   \n",
       "193587  -0.505178 -0.606481 -0.564530  0.018055 -0.163329 -0.525788 -0.393446   \n",
       "193609  -0.574958 -0.508038 -0.490232 -0.062271 -0.226064 -0.479605 -0.275526   \n",
       "\n",
       "movieId    8         9         10      ...    193565    193567    193571  \\\n",
       "movieId                                ...                                 \n",
       "1        0.232002  0.341891  0.707808  ... -0.587525 -0.710694 -0.540378   \n",
       "2        0.287156  0.206342  0.774636  ... -0.604303 -0.710902 -0.560751   \n",
       "3        0.449790  0.445221  0.586137  ... -0.497700 -0.563245 -0.587954   \n",
       "4        0.501068  0.359884  0.198039  ...  0.061032 -0.048778 -0.013043   \n",
       "5        0.409900  0.370303  0.467759  ... -0.163891 -0.249522 -0.149966   \n",
       "...           ...       ...       ...  ...       ...       ...       ...   \n",
       "193581  -0.068887 -0.104291 -0.589592  ...  0.933080  0.929667  0.929815   \n",
       "193583  -0.081031 -0.036005 -0.583178  ...  0.945526  0.932422  0.958786   \n",
       "193585  -0.137744 -0.155284 -0.656588  ...  0.935510  0.919403  0.960033   \n",
       "193587  -0.135215 -0.110009 -0.634498  ...  0.945878  0.927634  0.973316   \n",
       "193609  -0.203306 -0.279022 -0.538510  ...  0.512203  0.654220  0.623937   \n",
       "\n",
       "movieId    193573    193579    193581    193583    193585    193587    193609  \n",
       "movieId                                                                        \n",
       "1       -0.507455 -0.528808 -0.517201 -0.568411 -0.534294 -0.505178 -0.574958  \n",
       "2       -0.554280 -0.548169 -0.549564 -0.558431 -0.610248 -0.606481 -0.508038  \n",
       "3       -0.504504 -0.571322 -0.415541 -0.471689 -0.578754 -0.564530 -0.490232  \n",
       "4        0.044382 -0.053773  0.108240  0.017557  0.028752  0.018055 -0.062271  \n",
       "5       -0.154211 -0.163822 -0.072113 -0.120023 -0.191747 -0.163329 -0.226064  \n",
       "...           ...       ...       ...       ...       ...       ...       ...  \n",
       "193581   0.956851  0.914449  1.000000  0.963489  0.928506  0.958628  0.555825  \n",
       "193583   0.956567  0.961523  0.963489  1.000000  0.944145  0.970327  0.611128  \n",
       "193585   0.970913  0.924770  0.928506  0.944145  1.000000  0.964682  0.596296  \n",
       "193587   0.961604  0.965037  0.958628  0.970327  0.964682  1.000000  0.615658  \n",
       "193609   0.574806  0.656351  0.555825  0.611128  0.596296  0.615658  1.000000  \n",
       "\n",
       "[9724 rows x 9724 columns]"
      ],
      "text/html": "<div>\n<style scoped>\n    .dataframe tbody tr th:only-of-type {\n        vertical-align: middle;\n    }\n\n    .dataframe tbody tr th {\n        vertical-align: top;\n    }\n\n    .dataframe thead th {\n        text-align: right;\n    }\n</style>\n<table border=\"1\" class=\"dataframe\">\n  <thead>\n    <tr style=\"text-align: right;\">\n      <th>movieId</th>\n      <th>1</th>\n      <th>2</th>\n      <th>3</th>\n      <th>4</th>\n      <th>5</th>\n      <th>6</th>\n      <th>7</th>\n      <th>8</th>\n      <th>9</th>\n      <th>10</th>\n      <th>...</th>\n      <th>193565</th>\n      <th>193567</th>\n      <th>193571</th>\n      <th>193573</th>\n      <th>193579</th>\n      <th>193581</th>\n      <th>193583</th>\n      <th>193585</th>\n      <th>193587</th>\n      <th>193609</th>\n    </tr>\n    <tr>\n      <th>movieId</th>\n      <th></th>\n      <th></th>\n      <th></th>\n      <th></th>\n      <th></th>\n      <th></th>\n      <th></th>\n      <th></th>\n      <th></th>\n      <th></th>\n      <th></th>\n      <th></th>\n      <th></th>\n      <th></th>\n      <th></th>\n      <th></th>\n      <th></th>\n      <th></th>\n      <th></th>\n      <th></th>\n      <th></th>\n    </tr>\n  </thead>\n  <tbody>\n    <tr>\n      <th>1</th>\n      <td>1.000000</td>\n      <td>0.685415</td>\n      <td>0.376671</td>\n      <td>0.070300</td>\n      <td>0.390729</td>\n      <td>0.492168</td>\n      <td>0.258641</td>\n      <td>0.232002</td>\n      <td>0.341891</td>\n      <td>0.707808</td>\n      <td>...</td>\n      <td>-0.587525</td>\n      <td>-0.710694</td>\n      <td>-0.540378</td>\n      <td>-0.507455</td>\n      <td>-0.528808</td>\n      <td>-0.517201</td>\n      <td>-0.568411</td>\n      <td>-0.534294</td>\n      <td>-0.505178</td>\n      <td>-0.574958</td>\n    </tr>\n    <tr>\n      <th>2</th>\n      <td>0.685415</td>\n      <td>1.000000</td>\n      <td>0.531024</td>\n      <td>0.060557</td>\n      <td>0.544537</td>\n      <td>0.479063</td>\n      <td>0.335959</td>\n      <td>0.287156</td>\n      <td>0.206342</td>\n      <td>0.774636</td>\n      <td>...</td>\n      <td>-0.604303</td>\n      <td>-0.710902</td>\n      <td>-0.560751</td>\n      <td>-0.554280</td>\n      <td>-0.548169</td>\n      <td>-0.549564</td>\n      <td>-0.558431</td>\n      <td>-0.610248</td>\n      <td>-0.606481</td>\n      <td>-0.508038</td>\n    </tr>\n    <tr>\n      <th>3</th>\n      <td>0.376671</td>\n      <td>0.531024</td>\n      <td>1.000000</td>\n      <td>0.444430</td>\n      <td>0.581024</td>\n      <td>0.399764</td>\n      <td>0.663089</td>\n      <td>0.449790</td>\n      <td>0.445221</td>\n      <td>0.586137</td>\n      <td>...</td>\n      <td>-0.497700</td>\n      <td>-0.563245</td>\n      <td>-0.587954</td>\n      <td>-0.504504</td>\n      <td>-0.571322</td>\n      <td>-0.415541</td>\n      <td>-0.471689</td>\n      <td>-0.578754</td>\n      <td>-0.564530</td>\n      <td>-0.490232</td>\n    </tr>\n    <tr>\n      <th>4</th>\n      <td>0.070300</td>\n      <td>0.060557</td>\n      <td>0.444430</td>\n      <td>1.000000</td>\n      <td>0.571677</td>\n      <td>0.041805</td>\n      <td>0.654426</td>\n      <td>0.501068</td>\n      <td>0.359884</td>\n      <td>0.198039</td>\n      <td>...</td>\n      <td>0.061032</td>\n      <td>-0.048778</td>\n      <td>-0.013043</td>\n      <td>0.044382</td>\n      <td>-0.053773</td>\n      <td>0.108240</td>\n      <td>0.017557</td>\n      <td>0.028752</td>\n      <td>0.018055</td>\n      <td>-0.062271</td>\n    </tr>\n    <tr>\n      <th>5</th>\n      <td>0.390729</td>\n      <td>0.544537</td>\n      <td>0.581024</td>\n      <td>0.571677</td>\n      <td>1.000000</td>\n      <td>0.172447</td>\n      <td>0.638122</td>\n      <td>0.409900</td>\n      <td>0.370303</td>\n      <td>0.467759</td>\n      <td>...</td>\n      <td>-0.163891</td>\n      <td>-0.249522</td>\n      <td>-0.149966</td>\n      <td>-0.154211</td>\n      <td>-0.163822</td>\n      <td>-0.072113</td>\n      <td>-0.120023</td>\n      <td>-0.191747</td>\n      <td>-0.163329</td>\n      <td>-0.226064</td>\n    </tr>\n    <tr>\n      <th>...</th>\n      <td>...</td>\n      <td>...</td>\n      <td>...</td>\n      <td>...</td>\n      <td>...</td>\n      <td>...</td>\n      <td>...</td>\n      <td>...</td>\n      <td>...</td>\n      <td>...</td>\n      <td>...</td>\n      <td>...</td>\n      <td>...</td>\n      <td>...</td>\n      <td>...</td>\n      <td>...</td>\n      <td>...</td>\n      <td>...</td>\n      <td>...</td>\n      <td>...</td>\n      <td>...</td>\n    </tr>\n    <tr>\n      <th>193581</th>\n      <td>-0.517201</td>\n      <td>-0.549564</td>\n      <td>-0.415541</td>\n      <td>0.108240</td>\n      <td>-0.072113</td>\n      <td>-0.542651</td>\n      <td>-0.252462</td>\n      <td>-0.068887</td>\n      <td>-0.104291</td>\n      <td>-0.589592</td>\n      <td>...</td>\n      <td>0.933080</td>\n      <td>0.929667</td>\n      <td>0.929815</td>\n      <td>0.956851</td>\n      <td>0.914449</td>\n      <td>1.000000</td>\n      <td>0.963489</td>\n      <td>0.928506</td>\n      <td>0.958628</td>\n      <td>0.555825</td>\n    </tr>\n    <tr>\n      <th>193583</th>\n      <td>-0.568411</td>\n      <td>-0.558431</td>\n      <td>-0.471689</td>\n      <td>0.017557</td>\n      <td>-0.120023</td>\n      <td>-0.502524</td>\n      <td>-0.320727</td>\n      <td>-0.081031</td>\n      <td>-0.036005</td>\n      <td>-0.583178</td>\n      <td>...</td>\n      <td>0.945526</td>\n      <td>0.932422</td>\n      <td>0.958786</td>\n      <td>0.956567</td>\n      <td>0.961523</td>\n      <td>0.963489</td>\n      <td>1.000000</td>\n      <td>0.944145</td>\n      <td>0.970327</td>\n      <td>0.611128</td>\n    </tr>\n    <tr>\n      <th>193585</th>\n      <td>-0.534294</td>\n      <td>-0.610248</td>\n      <td>-0.578754</td>\n      <td>0.028752</td>\n      <td>-0.191747</td>\n      <td>-0.553692</td>\n      <td>-0.340490</td>\n      <td>-0.137744</td>\n      <td>-0.155284</td>\n      <td>-0.656588</td>\n      <td>...</td>\n      <td>0.935510</td>\n      <td>0.919403</td>\n      <td>0.960033</td>\n      <td>0.970913</td>\n      <td>0.924770</td>\n      <td>0.928506</td>\n      <td>0.944145</td>\n      <td>1.000000</td>\n      <td>0.964682</td>\n      <td>0.596296</td>\n    </tr>\n    <tr>\n      <th>193587</th>\n      <td>-0.505178</td>\n      <td>-0.606481</td>\n      <td>-0.564530</td>\n      <td>0.018055</td>\n      <td>-0.163329</td>\n      <td>-0.525788</td>\n      <td>-0.393446</td>\n      <td>-0.135215</td>\n      <td>-0.110009</td>\n      <td>-0.634498</td>\n      <td>...</td>\n      <td>0.945878</td>\n      <td>0.927634</td>\n      <td>0.973316</td>\n      <td>0.961604</td>\n      <td>0.965037</td>\n      <td>0.958628</td>\n      <td>0.970327</td>\n      <td>0.964682</td>\n      <td>1.000000</td>\n      <td>0.615658</td>\n    </tr>\n    <tr>\n      <th>193609</th>\n      <td>-0.574958</td>\n      <td>-0.508038</td>\n      <td>-0.490232</td>\n      <td>-0.062271</td>\n      <td>-0.226064</td>\n      <td>-0.479605</td>\n      <td>-0.275526</td>\n      <td>-0.203306</td>\n      <td>-0.279022</td>\n      <td>-0.538510</td>\n      <td>...</td>\n      <td>0.512203</td>\n      <td>0.654220</td>\n      <td>0.623937</td>\n      <td>0.574806</td>\n      <td>0.656351</td>\n      <td>0.555825</td>\n      <td>0.611128</td>\n      <td>0.596296</td>\n      <td>0.615658</td>\n      <td>1.000000</td>\n    </tr>\n  </tbody>\n</table>\n<p>9724 rows × 9724 columns</p>\n</div>"
     },
     "metadata": {},
     "execution_count": 34
    }
   ],
   "source": [
    "item_item_dist"
   ]
  }
 ]
}