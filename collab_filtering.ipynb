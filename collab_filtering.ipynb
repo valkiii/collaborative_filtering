{
 "metadata": {
  "language_info": {
   "codemirror_mode": {
    "name": "ipython",
    "version": 3
   },
   "file_extension": ".py",
   "mimetype": "text/x-python",
   "name": "python",
   "nbconvert_exporter": "python",
   "pygments_lexer": "ipython3",
   "version": "3.8.5-final"
  },
  "orig_nbformat": 2,
  "kernelspec": {
   "name": "python385jvsc74a57bd0e0999b5a854c9b6266d2044c3f63afb6ced6374340be65f90773ef6ca75ef785",
   "display_name": "Python 3.8.5 64-bit (conda)"
  }
 },
 "nbformat": 4,
 "nbformat_minor": 2,
 "cells": [
  {
   "cell_type": "code",
   "execution_count": 15,
   "metadata": {},
   "outputs": [],
   "source": [
    "# Source: https://github.com/rakeshranjan001/Movie-Recommendation-System-Collaborative-filtering-MovieLens-100k-/blob/master/Python%20Code.py"
   ]
  },
  {
   "cell_type": "code",
   "execution_count": 16,
   "metadata": {},
   "outputs": [],
   "source": [
    "import numpy as np\n",
    "import pandas as pd\n",
    "from sklearn.metrics import pairwise_distances\n",
    "from scipy.spatial.distance import cosine, correlation\n",
    "\n",
    "#Loading movielens data\n",
    "\n",
    "#User's data\n",
    "users_cols = ['user_id', 'age', 'sex', 'occupation', 'zip_code']\n",
    "users = pd.read_csv('ml-100k/u.user', sep='|', names=users_cols, parse_dates=True) \n",
    "#Ratings\n",
    "rating_cols = ['user_id', 'movie_id', 'rating', 'unix_timestamp']\n",
    "ratings = pd.read_csv('ml-100k/u.data', sep='\\t', names=rating_cols)\n",
    "#Movies\n",
    "movie_cols = ['movie_id', 'title', 'release_date', 'video_release_date', 'imdb_url']\n",
    "movies = pd.read_csv('ml-100k/u.item', sep='|', names=movie_cols, usecols=range(5),encoding='latin-1')"
   ]
  },
  {
   "cell_type": "code",
   "execution_count": 17,
   "metadata": {},
   "outputs": [],
   "source": [
    "#Merging movie data with their ratings\n",
    "movie_ratings = pd.merge(movies, ratings)\n",
    "#merging movie_ratings data with the User's dataframe\n",
    "df = pd.merge(movie_ratings, users)"
   ]
  },
  {
   "cell_type": "code",
   "execution_count": 18,
   "metadata": {},
   "outputs": [
    {
     "output_type": "execute_result",
     "data": {
      "text/plain": [
       "   movie_id                  title release_date  video_release_date  \\\n",
       "0         1       Toy Story (1995)  01-Jan-1995                 NaN   \n",
       "1         4      Get Shorty (1995)  01-Jan-1995                 NaN   \n",
       "2         5         Copycat (1995)  01-Jan-1995                 NaN   \n",
       "3         7  Twelve Monkeys (1995)  01-Jan-1995                 NaN   \n",
       "4         8            Babe (1995)  01-Jan-1995                 NaN   \n",
       "\n",
       "                                            imdb_url  user_id  rating  \\\n",
       "0  http://us.imdb.com/M/title-exact?Toy%20Story%2...      308       4   \n",
       "1  http://us.imdb.com/M/title-exact?Get%20Shorty%...      308       5   \n",
       "2  http://us.imdb.com/M/title-exact?Copycat%20(1995)      308       4   \n",
       "3  http://us.imdb.com/M/title-exact?Twelve%20Monk...      308       4   \n",
       "4     http://us.imdb.com/M/title-exact?Babe%20(1995)      308       5   \n",
       "\n",
       "   unix_timestamp  age sex occupation zip_code  \n",
       "0       887736532   60   M    retired    95076  \n",
       "1       887737890   60   M    retired    95076  \n",
       "2       887739608   60   M    retired    95076  \n",
       "3       887738847   60   M    retired    95076  \n",
       "4       887736696   60   M    retired    95076  "
      ],
      "text/html": "<div>\n<style scoped>\n    .dataframe tbody tr th:only-of-type {\n        vertical-align: middle;\n    }\n\n    .dataframe tbody tr th {\n        vertical-align: top;\n    }\n\n    .dataframe thead th {\n        text-align: right;\n    }\n</style>\n<table border=\"1\" class=\"dataframe\">\n  <thead>\n    <tr style=\"text-align: right;\">\n      <th></th>\n      <th>movie_id</th>\n      <th>title</th>\n      <th>release_date</th>\n      <th>video_release_date</th>\n      <th>imdb_url</th>\n      <th>user_id</th>\n      <th>rating</th>\n      <th>unix_timestamp</th>\n      <th>age</th>\n      <th>sex</th>\n      <th>occupation</th>\n      <th>zip_code</th>\n    </tr>\n  </thead>\n  <tbody>\n    <tr>\n      <th>0</th>\n      <td>1</td>\n      <td>Toy Story (1995)</td>\n      <td>01-Jan-1995</td>\n      <td>NaN</td>\n      <td>http://us.imdb.com/M/title-exact?Toy%20Story%2...</td>\n      <td>308</td>\n      <td>4</td>\n      <td>887736532</td>\n      <td>60</td>\n      <td>M</td>\n      <td>retired</td>\n      <td>95076</td>\n    </tr>\n    <tr>\n      <th>1</th>\n      <td>4</td>\n      <td>Get Shorty (1995)</td>\n      <td>01-Jan-1995</td>\n      <td>NaN</td>\n      <td>http://us.imdb.com/M/title-exact?Get%20Shorty%...</td>\n      <td>308</td>\n      <td>5</td>\n      <td>887737890</td>\n      <td>60</td>\n      <td>M</td>\n      <td>retired</td>\n      <td>95076</td>\n    </tr>\n    <tr>\n      <th>2</th>\n      <td>5</td>\n      <td>Copycat (1995)</td>\n      <td>01-Jan-1995</td>\n      <td>NaN</td>\n      <td>http://us.imdb.com/M/title-exact?Copycat%20(1995)</td>\n      <td>308</td>\n      <td>4</td>\n      <td>887739608</td>\n      <td>60</td>\n      <td>M</td>\n      <td>retired</td>\n      <td>95076</td>\n    </tr>\n    <tr>\n      <th>3</th>\n      <td>7</td>\n      <td>Twelve Monkeys (1995)</td>\n      <td>01-Jan-1995</td>\n      <td>NaN</td>\n      <td>http://us.imdb.com/M/title-exact?Twelve%20Monk...</td>\n      <td>308</td>\n      <td>4</td>\n      <td>887738847</td>\n      <td>60</td>\n      <td>M</td>\n      <td>retired</td>\n      <td>95076</td>\n    </tr>\n    <tr>\n      <th>4</th>\n      <td>8</td>\n      <td>Babe (1995)</td>\n      <td>01-Jan-1995</td>\n      <td>NaN</td>\n      <td>http://us.imdb.com/M/title-exact?Babe%20(1995)</td>\n      <td>308</td>\n      <td>5</td>\n      <td>887736696</td>\n      <td>60</td>\n      <td>M</td>\n      <td>retired</td>\n      <td>95076</td>\n    </tr>\n  </tbody>\n</table>\n</div>"
     },
     "metadata": {},
     "execution_count": 18
    }
   ],
   "source": [
    "df.head()"
   ]
  },
  {
   "cell_type": "code",
   "execution_count": 19,
   "metadata": {},
   "outputs": [],
   "source": [
    "#pre-processing\n",
    "#dropping colums that aren't needed\n",
    "df.drop(df.columns[[3,4,7]], axis=1, inplace=True)\n",
    "ratings.drop( \"unix_timestamp\", inplace = True, axis = 1 ) \n",
    "movies.drop(movies.columns[[3,4]], inplace = True, axis = 1 )"
   ]
  },
  {
   "cell_type": "code",
   "execution_count": 20,
   "metadata": {},
   "outputs": [
    {
     "output_type": "execute_result",
     "data": {
      "text/plain": [
       "   movie_id                  title release_date  user_id  rating  age sex  \\\n",
       "0         1       Toy Story (1995)  01-Jan-1995      308       4   60   M   \n",
       "1         4      Get Shorty (1995)  01-Jan-1995      308       5   60   M   \n",
       "2         5         Copycat (1995)  01-Jan-1995      308       4   60   M   \n",
       "3         7  Twelve Monkeys (1995)  01-Jan-1995      308       4   60   M   \n",
       "4         8            Babe (1995)  01-Jan-1995      308       5   60   M   \n",
       "\n",
       "  occupation zip_code  \n",
       "0    retired    95076  \n",
       "1    retired    95076  \n",
       "2    retired    95076  \n",
       "3    retired    95076  \n",
       "4    retired    95076  "
      ],
      "text/html": "<div>\n<style scoped>\n    .dataframe tbody tr th:only-of-type {\n        vertical-align: middle;\n    }\n\n    .dataframe tbody tr th {\n        vertical-align: top;\n    }\n\n    .dataframe thead th {\n        text-align: right;\n    }\n</style>\n<table border=\"1\" class=\"dataframe\">\n  <thead>\n    <tr style=\"text-align: right;\">\n      <th></th>\n      <th>movie_id</th>\n      <th>title</th>\n      <th>release_date</th>\n      <th>user_id</th>\n      <th>rating</th>\n      <th>age</th>\n      <th>sex</th>\n      <th>occupation</th>\n      <th>zip_code</th>\n    </tr>\n  </thead>\n  <tbody>\n    <tr>\n      <th>0</th>\n      <td>1</td>\n      <td>Toy Story (1995)</td>\n      <td>01-Jan-1995</td>\n      <td>308</td>\n      <td>4</td>\n      <td>60</td>\n      <td>M</td>\n      <td>retired</td>\n      <td>95076</td>\n    </tr>\n    <tr>\n      <th>1</th>\n      <td>4</td>\n      <td>Get Shorty (1995)</td>\n      <td>01-Jan-1995</td>\n      <td>308</td>\n      <td>5</td>\n      <td>60</td>\n      <td>M</td>\n      <td>retired</td>\n      <td>95076</td>\n    </tr>\n    <tr>\n      <th>2</th>\n      <td>5</td>\n      <td>Copycat (1995)</td>\n      <td>01-Jan-1995</td>\n      <td>308</td>\n      <td>4</td>\n      <td>60</td>\n      <td>M</td>\n      <td>retired</td>\n      <td>95076</td>\n    </tr>\n    <tr>\n      <th>3</th>\n      <td>7</td>\n      <td>Twelve Monkeys (1995)</td>\n      <td>01-Jan-1995</td>\n      <td>308</td>\n      <td>4</td>\n      <td>60</td>\n      <td>M</td>\n      <td>retired</td>\n      <td>95076</td>\n    </tr>\n    <tr>\n      <th>4</th>\n      <td>8</td>\n      <td>Babe (1995)</td>\n      <td>01-Jan-1995</td>\n      <td>308</td>\n      <td>5</td>\n      <td>60</td>\n      <td>M</td>\n      <td>retired</td>\n      <td>95076</td>\n    </tr>\n  </tbody>\n</table>\n</div>"
     },
     "metadata": {},
     "execution_count": 20
    }
   ],
   "source": [
    "df.head()"
   ]
  },
  {
   "cell_type": "code",
   "execution_count": 21,
   "metadata": {},
   "outputs": [],
   "source": [
    "#Pivot Table(This creates a matrix of users and movie_ratings)\n",
    "ratings_matrix = ratings.pivot_table(index=['movie_id'],columns=['user_id'],values='rating').reset_index(drop=True)\n",
    "ratings_matrix.fillna( 0, inplace = True )\n"
   ]
  },
  {
   "cell_type": "code",
   "execution_count": 23,
   "metadata": {},
   "outputs": [],
   "source": [
    "#Cosine Similarity(Creates a cosine matrix of similaraties ..... which is the pairwise distances\n",
    "# between two items )\n",
    "\n",
    "movie_similarity = 1 - pairwise_distances( ratings_matrix.values, metric=\"cosine\" )\n",
    "np.fill_diagonal( movie_similarity, 0 ) \n",
    "ratings_matrix = pd.DataFrame( movie_similarity )"
   ]
  },
  {
   "cell_type": "code",
   "execution_count": 24,
   "metadata": {},
   "outputs": [
    {
     "output_type": "execute_result",
     "data": {
      "text/plain": [
       "          0         1         2         3         4         5         6     \\\n",
       "0     0.000000  0.402382  0.330245  0.454938  0.286714  0.116344  0.620979   \n",
       "1     0.402382  0.000000  0.273069  0.502571  0.318836  0.083563  0.383403   \n",
       "2     0.330245  0.273069  0.000000  0.324866  0.212957  0.106722  0.372921   \n",
       "3     0.454938  0.502571  0.324866  0.000000  0.334239  0.090308  0.489283   \n",
       "4     0.286714  0.318836  0.212957  0.334239  0.000000  0.037299  0.334769   \n",
       "...        ...       ...       ...       ...       ...       ...       ...   \n",
       "1677  0.000000  0.000000  0.000000  0.000000  0.000000  0.000000  0.000000   \n",
       "1678  0.000000  0.000000  0.000000  0.000000  0.000000  0.000000  0.000000   \n",
       "1679  0.000000  0.000000  0.000000  0.000000  0.000000  0.000000  0.000000   \n",
       "1680  0.047183  0.078299  0.000000  0.056413  0.000000  0.000000  0.051498   \n",
       "1681  0.047183  0.078299  0.096875  0.075218  0.094211  0.000000  0.051498   \n",
       "\n",
       "          7         8         9     ...      1672  1673      1674      1675  \\\n",
       "0     0.481114  0.496288  0.273935  ...  0.035387   0.0  0.000000  0.000000   \n",
       "1     0.337002  0.255252  0.171082  ...  0.000000   0.0  0.000000  0.000000   \n",
       "2     0.200794  0.273669  0.158104  ...  0.000000   0.0  0.000000  0.000000   \n",
       "3     0.490236  0.419044  0.252561  ...  0.000000   0.0  0.094022  0.094022   \n",
       "4     0.259161  0.272448  0.055453  ...  0.000000   0.0  0.000000  0.000000   \n",
       "...        ...       ...       ...  ...       ...   ...       ...       ...   \n",
       "1677  0.000000  0.000000  0.000000  ...  0.000000   0.0  0.000000  0.000000   \n",
       "1678  0.000000  0.000000  0.000000  ...  0.000000   0.0  0.000000  0.000000   \n",
       "1679  0.000000  0.000000  0.000000  ...  0.000000   0.0  0.000000  0.000000   \n",
       "1680  0.082033  0.057360  0.000000  ...  0.000000   0.0  0.000000  0.000000   \n",
       "1681  0.000000  0.071700  0.000000  ...  0.000000   0.0  0.000000  0.000000   \n",
       "\n",
       "          1676  1677  1678  1679      1680      1681  \n",
       "0     0.035387   0.0   0.0   0.0  0.047183  0.047183  \n",
       "1     0.000000   0.0   0.0   0.0  0.078299  0.078299  \n",
       "2     0.032292   0.0   0.0   0.0  0.000000  0.096875  \n",
       "3     0.037609   0.0   0.0   0.0  0.056413  0.075218  \n",
       "4     0.000000   0.0   0.0   0.0  0.000000  0.094211  \n",
       "...        ...   ...   ...   ...       ...       ...  \n",
       "1677  0.000000   0.0   1.0   1.0  0.000000  0.000000  \n",
       "1678  0.000000   1.0   0.0   1.0  0.000000  0.000000  \n",
       "1679  0.000000   1.0   1.0   0.0  0.000000  0.000000  \n",
       "1680  0.000000   0.0   0.0   0.0  0.000000  0.000000  \n",
       "1681  0.000000   0.0   0.0   0.0  0.000000  0.000000  \n",
       "\n",
       "[1682 rows x 1682 columns]"
      ],
      "text/html": "<div>\n<style scoped>\n    .dataframe tbody tr th:only-of-type {\n        vertical-align: middle;\n    }\n\n    .dataframe tbody tr th {\n        vertical-align: top;\n    }\n\n    .dataframe thead th {\n        text-align: right;\n    }\n</style>\n<table border=\"1\" class=\"dataframe\">\n  <thead>\n    <tr style=\"text-align: right;\">\n      <th></th>\n      <th>0</th>\n      <th>1</th>\n      <th>2</th>\n      <th>3</th>\n      <th>4</th>\n      <th>5</th>\n      <th>6</th>\n      <th>7</th>\n      <th>8</th>\n      <th>9</th>\n      <th>...</th>\n      <th>1672</th>\n      <th>1673</th>\n      <th>1674</th>\n      <th>1675</th>\n      <th>1676</th>\n      <th>1677</th>\n      <th>1678</th>\n      <th>1679</th>\n      <th>1680</th>\n      <th>1681</th>\n    </tr>\n  </thead>\n  <tbody>\n    <tr>\n      <th>0</th>\n      <td>0.000000</td>\n      <td>0.402382</td>\n      <td>0.330245</td>\n      <td>0.454938</td>\n      <td>0.286714</td>\n      <td>0.116344</td>\n      <td>0.620979</td>\n      <td>0.481114</td>\n      <td>0.496288</td>\n      <td>0.273935</td>\n      <td>...</td>\n      <td>0.035387</td>\n      <td>0.0</td>\n      <td>0.000000</td>\n      <td>0.000000</td>\n      <td>0.035387</td>\n      <td>0.0</td>\n      <td>0.0</td>\n      <td>0.0</td>\n      <td>0.047183</td>\n      <td>0.047183</td>\n    </tr>\n    <tr>\n      <th>1</th>\n      <td>0.402382</td>\n      <td>0.000000</td>\n      <td>0.273069</td>\n      <td>0.502571</td>\n      <td>0.318836</td>\n      <td>0.083563</td>\n      <td>0.383403</td>\n      <td>0.337002</td>\n      <td>0.255252</td>\n      <td>0.171082</td>\n      <td>...</td>\n      <td>0.000000</td>\n      <td>0.0</td>\n      <td>0.000000</td>\n      <td>0.000000</td>\n      <td>0.000000</td>\n      <td>0.0</td>\n      <td>0.0</td>\n      <td>0.0</td>\n      <td>0.078299</td>\n      <td>0.078299</td>\n    </tr>\n    <tr>\n      <th>2</th>\n      <td>0.330245</td>\n      <td>0.273069</td>\n      <td>0.000000</td>\n      <td>0.324866</td>\n      <td>0.212957</td>\n      <td>0.106722</td>\n      <td>0.372921</td>\n      <td>0.200794</td>\n      <td>0.273669</td>\n      <td>0.158104</td>\n      <td>...</td>\n      <td>0.000000</td>\n      <td>0.0</td>\n      <td>0.000000</td>\n      <td>0.000000</td>\n      <td>0.032292</td>\n      <td>0.0</td>\n      <td>0.0</td>\n      <td>0.0</td>\n      <td>0.000000</td>\n      <td>0.096875</td>\n    </tr>\n    <tr>\n      <th>3</th>\n      <td>0.454938</td>\n      <td>0.502571</td>\n      <td>0.324866</td>\n      <td>0.000000</td>\n      <td>0.334239</td>\n      <td>0.090308</td>\n      <td>0.489283</td>\n      <td>0.490236</td>\n      <td>0.419044</td>\n      <td>0.252561</td>\n      <td>...</td>\n      <td>0.000000</td>\n      <td>0.0</td>\n      <td>0.094022</td>\n      <td>0.094022</td>\n      <td>0.037609</td>\n      <td>0.0</td>\n      <td>0.0</td>\n      <td>0.0</td>\n      <td>0.056413</td>\n      <td>0.075218</td>\n    </tr>\n    <tr>\n      <th>4</th>\n      <td>0.286714</td>\n      <td>0.318836</td>\n      <td>0.212957</td>\n      <td>0.334239</td>\n      <td>0.000000</td>\n      <td>0.037299</td>\n      <td>0.334769</td>\n      <td>0.259161</td>\n      <td>0.272448</td>\n      <td>0.055453</td>\n      <td>...</td>\n      <td>0.000000</td>\n      <td>0.0</td>\n      <td>0.000000</td>\n      <td>0.000000</td>\n      <td>0.000000</td>\n      <td>0.0</td>\n      <td>0.0</td>\n      <td>0.0</td>\n      <td>0.000000</td>\n      <td>0.094211</td>\n    </tr>\n    <tr>\n      <th>...</th>\n      <td>...</td>\n      <td>...</td>\n      <td>...</td>\n      <td>...</td>\n      <td>...</td>\n      <td>...</td>\n      <td>...</td>\n      <td>...</td>\n      <td>...</td>\n      <td>...</td>\n      <td>...</td>\n      <td>...</td>\n      <td>...</td>\n      <td>...</td>\n      <td>...</td>\n      <td>...</td>\n      <td>...</td>\n      <td>...</td>\n      <td>...</td>\n      <td>...</td>\n      <td>...</td>\n    </tr>\n    <tr>\n      <th>1677</th>\n      <td>0.000000</td>\n      <td>0.000000</td>\n      <td>0.000000</td>\n      <td>0.000000</td>\n      <td>0.000000</td>\n      <td>0.000000</td>\n      <td>0.000000</td>\n      <td>0.000000</td>\n      <td>0.000000</td>\n      <td>0.000000</td>\n      <td>...</td>\n      <td>0.000000</td>\n      <td>0.0</td>\n      <td>0.000000</td>\n      <td>0.000000</td>\n      <td>0.000000</td>\n      <td>0.0</td>\n      <td>1.0</td>\n      <td>1.0</td>\n      <td>0.000000</td>\n      <td>0.000000</td>\n    </tr>\n    <tr>\n      <th>1678</th>\n      <td>0.000000</td>\n      <td>0.000000</td>\n      <td>0.000000</td>\n      <td>0.000000</td>\n      <td>0.000000</td>\n      <td>0.000000</td>\n      <td>0.000000</td>\n      <td>0.000000</td>\n      <td>0.000000</td>\n      <td>0.000000</td>\n      <td>...</td>\n      <td>0.000000</td>\n      <td>0.0</td>\n      <td>0.000000</td>\n      <td>0.000000</td>\n      <td>0.000000</td>\n      <td>1.0</td>\n      <td>0.0</td>\n      <td>1.0</td>\n      <td>0.000000</td>\n      <td>0.000000</td>\n    </tr>\n    <tr>\n      <th>1679</th>\n      <td>0.000000</td>\n      <td>0.000000</td>\n      <td>0.000000</td>\n      <td>0.000000</td>\n      <td>0.000000</td>\n      <td>0.000000</td>\n      <td>0.000000</td>\n      <td>0.000000</td>\n      <td>0.000000</td>\n      <td>0.000000</td>\n      <td>...</td>\n      <td>0.000000</td>\n      <td>0.0</td>\n      <td>0.000000</td>\n      <td>0.000000</td>\n      <td>0.000000</td>\n      <td>1.0</td>\n      <td>1.0</td>\n      <td>0.0</td>\n      <td>0.000000</td>\n      <td>0.000000</td>\n    </tr>\n    <tr>\n      <th>1680</th>\n      <td>0.047183</td>\n      <td>0.078299</td>\n      <td>0.000000</td>\n      <td>0.056413</td>\n      <td>0.000000</td>\n      <td>0.000000</td>\n      <td>0.051498</td>\n      <td>0.082033</td>\n      <td>0.057360</td>\n      <td>0.000000</td>\n      <td>...</td>\n      <td>0.000000</td>\n      <td>0.0</td>\n      <td>0.000000</td>\n      <td>0.000000</td>\n      <td>0.000000</td>\n      <td>0.0</td>\n      <td>0.0</td>\n      <td>0.0</td>\n      <td>0.000000</td>\n      <td>0.000000</td>\n    </tr>\n    <tr>\n      <th>1681</th>\n      <td>0.047183</td>\n      <td>0.078299</td>\n      <td>0.096875</td>\n      <td>0.075218</td>\n      <td>0.094211</td>\n      <td>0.000000</td>\n      <td>0.051498</td>\n      <td>0.000000</td>\n      <td>0.071700</td>\n      <td>0.000000</td>\n      <td>...</td>\n      <td>0.000000</td>\n      <td>0.0</td>\n      <td>0.000000</td>\n      <td>0.000000</td>\n      <td>0.000000</td>\n      <td>0.0</td>\n      <td>0.0</td>\n      <td>0.0</td>\n      <td>0.000000</td>\n      <td>0.000000</td>\n    </tr>\n  </tbody>\n</table>\n<p>1682 rows × 1682 columns</p>\n</div>"
     },
     "metadata": {},
     "execution_count": 24
    }
   ],
   "source": [
    "ratings_matrix"
   ]
  },
  {
   "cell_type": "code",
   "execution_count": 48,
   "metadata": {},
   "outputs": [
    {
     "output_type": "execute_result",
     "data": {
      "text/plain": [
       "      movie_id                            title release_date  similarity\n",
       "678        679       Conan the Barbarian (1981)  01-Jan-1981    0.091899\n",
       "1128      1129         Chungking Express (1994)  16-Feb-1996    0.067402\n",
       "949        950                   Georgia (1995)  01-Jan-1995    0.074231\n",
       "349        350                    Fallen (1998)  16-Jan-1998    0.048087\n",
       "1666      1667            Next Step, The (1995)  13-Jun-1997    0.000000\n",
       "947        948                Booty Call (1997)  28-Feb-1997    0.018525\n",
       "1595      1596         Nemesis 2: Nebula (1995)  01-Jan-1995    0.000000\n",
       "254        255  My Best Friend's Wedding (1997)  20-Jun-1997    0.120875\n",
       "1097      1098    Flirting With Disaster (1996)  22-Mar-1996    0.288783\n",
       "253        254            Batman & Robin (1997)  20-Jun-1997    0.039369"
      ],
      "text/html": "<div>\n<style scoped>\n    .dataframe tbody tr th:only-of-type {\n        vertical-align: middle;\n    }\n\n    .dataframe tbody tr th {\n        vertical-align: top;\n    }\n\n    .dataframe thead th {\n        text-align: right;\n    }\n</style>\n<table border=\"1\" class=\"dataframe\">\n  <thead>\n    <tr style=\"text-align: right;\">\n      <th></th>\n      <th>movie_id</th>\n      <th>title</th>\n      <th>release_date</th>\n      <th>similarity</th>\n    </tr>\n  </thead>\n  <tbody>\n    <tr>\n      <th>678</th>\n      <td>679</td>\n      <td>Conan the Barbarian (1981)</td>\n      <td>01-Jan-1981</td>\n      <td>0.091899</td>\n    </tr>\n    <tr>\n      <th>1128</th>\n      <td>1129</td>\n      <td>Chungking Express (1994)</td>\n      <td>16-Feb-1996</td>\n      <td>0.067402</td>\n    </tr>\n    <tr>\n      <th>949</th>\n      <td>950</td>\n      <td>Georgia (1995)</td>\n      <td>01-Jan-1995</td>\n      <td>0.074231</td>\n    </tr>\n    <tr>\n      <th>349</th>\n      <td>350</td>\n      <td>Fallen (1998)</td>\n      <td>16-Jan-1998</td>\n      <td>0.048087</td>\n    </tr>\n    <tr>\n      <th>1666</th>\n      <td>1667</td>\n      <td>Next Step, The (1995)</td>\n      <td>13-Jun-1997</td>\n      <td>0.000000</td>\n    </tr>\n    <tr>\n      <th>947</th>\n      <td>948</td>\n      <td>Booty Call (1997)</td>\n      <td>28-Feb-1997</td>\n      <td>0.018525</td>\n    </tr>\n    <tr>\n      <th>1595</th>\n      <td>1596</td>\n      <td>Nemesis 2: Nebula (1995)</td>\n      <td>01-Jan-1995</td>\n      <td>0.000000</td>\n    </tr>\n    <tr>\n      <th>254</th>\n      <td>255</td>\n      <td>My Best Friend's Wedding (1997)</td>\n      <td>20-Jun-1997</td>\n      <td>0.120875</td>\n    </tr>\n    <tr>\n      <th>1097</th>\n      <td>1098</td>\n      <td>Flirting With Disaster (1996)</td>\n      <td>22-Mar-1996</td>\n      <td>0.288783</td>\n    </tr>\n    <tr>\n      <th>253</th>\n      <td>254</td>\n      <td>Batman &amp; Robin (1997)</td>\n      <td>20-Jun-1997</td>\n      <td>0.039369</td>\n    </tr>\n  </tbody>\n</table>\n</div>"
     },
     "metadata": {},
     "execution_count": 48
    }
   ],
   "source": [
    "movies.sample(10)"
   ]
  },
  {
   "cell_type": "code",
   "execution_count": 53,
   "metadata": {},
   "outputs": [],
   "source": [
    "#Recommender\n",
    "\n",
    "try:\n",
    "    #user_inp=input('Enter the reference movie title based on which recommendations are to be made: ')\n",
    "    user_inp=\"Star Wars (1977)\"\n",
    "    inp=movies[movies['title']==user_inp].index.tolist()\n",
    "    inp=inp[0]\n",
    "    \n",
    "    movies['similarity'] = ratings_matrix.iloc[inp]\n",
    "    movies.columns = ['movie_id', 'title', 'release_date','similarity']\n",
    "    movies.head(5)\n",
    "    \n",
    "except:\n",
    "    print(\"Sorry, the movie is not in the database!\")"
   ]
  },
  {
   "cell_type": "code",
   "execution_count": 54,
   "metadata": {},
   "outputs": [
    {
     "output_type": "stream",
     "name": "stdout",
     "text": [
      "Recommended movies based on your choice of  Star Wars (1977) : \n      movie_id                                      title release_date  \\\n173       174             Raiders of the Lost Ark (1981)  01-Jan-1981   \n171       172            Empire Strikes Back, The (1980)  01-Jan-1980   \n0           1                           Toy Story (1995)  01-Jan-1995   \n126       127                      Godfather, The (1972)  01-Jan-1972   \n120       121              Independence Day (ID4) (1996)  03-Jul-1996   \n209       210  Indiana Jones and the Last Crusade (1989)  01-Jan-1989   \n99        100                               Fargo (1996)  14-Feb-1997   \n97         98           Silence of the Lambs, The (1991)  01-Jan-1991   \n221       222            Star Trek: First Contact (1996)  22-Nov-1996   \n\n     similarity  \n173    0.764885  \n171    0.749819  \n0      0.734572  \n126    0.697332  \n120    0.692837  \n209    0.689343  \n99     0.686533  \n97     0.676428  \n221    0.673975  \n"
     ]
    }
   ],
   "source": [
    "print(\"Recommended movies based on your choice of \",user_inp ,\": \\n\", movies.sort_values( [\"similarity\"], ascending = False )[1:10])"
   ]
  }
 ]
}