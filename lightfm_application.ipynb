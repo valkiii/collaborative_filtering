{
 "metadata": {
  "language_info": {
   "codemirror_mode": {
    "name": "ipython",
    "version": 3
   },
   "file_extension": ".py",
   "mimetype": "text/x-python",
   "name": "python",
   "nbconvert_exporter": "python",
   "pygments_lexer": "ipython3",
   "version": "3.8.5-final"
  },
  "orig_nbformat": 2,
  "kernelspec": {
   "name": "python385jvsc74a57bd0e0999b5a854c9b6266d2044c3f63afb6ced6374340be65f90773ef6ca75ef785",
   "display_name": "Python 3.8.5 64-bit (conda)"
  }
 },
 "nbformat": 4,
 "nbformat_minor": 2,
 "cells": [
  {
   "cell_type": "code",
   "execution_count": 54,
   "metadata": {},
   "outputs": [
    {
     "output_type": "stream",
     "name": "stderr",
     "text": [
      "C:\\Users\\daape\\anaconda3\\lib\\site-packages\\lightfm\\_lightfm_fast.py:9: UserWarning: LightFM was compiled without OpenMP support. Only a single thread will be used.\n  warnings.warn(\n"
     ]
    }
   ],
   "source": [
    "import pandas as pd\n",
    "import numpy as np\n",
    "from lightfm import LightFM\n",
    "from scipy import sparse\n"
   ]
  },
  {
   "cell_type": "code",
   "execution_count": 55,
   "metadata": {},
   "outputs": [
    {
     "output_type": "execute_result",
     "data": {
      "text/plain": [
       "  user item  r\n",
       "0   u1   i1  1\n",
       "1   u1   i3  2\n",
       "2   u2   i2  1\n",
       "3   u2   i3  3\n",
       "4   u3   i1  4\n",
       "5   u3   i4  5\n",
       "6   u3   i2  2"
      ],
      "text/html": "<div>\n<style scoped>\n    .dataframe tbody tr th:only-of-type {\n        vertical-align: middle;\n    }\n\n    .dataframe tbody tr th {\n        vertical-align: top;\n    }\n\n    .dataframe thead th {\n        text-align: right;\n    }\n</style>\n<table border=\"1\" class=\"dataframe\">\n  <thead>\n    <tr style=\"text-align: right;\">\n      <th></th>\n      <th>user</th>\n      <th>item</th>\n      <th>r</th>\n    </tr>\n  </thead>\n  <tbody>\n    <tr>\n      <th>0</th>\n      <td>u1</td>\n      <td>i1</td>\n      <td>1</td>\n    </tr>\n    <tr>\n      <th>1</th>\n      <td>u1</td>\n      <td>i3</td>\n      <td>2</td>\n    </tr>\n    <tr>\n      <th>2</th>\n      <td>u2</td>\n      <td>i2</td>\n      <td>1</td>\n    </tr>\n    <tr>\n      <th>3</th>\n      <td>u2</td>\n      <td>i3</td>\n      <td>3</td>\n    </tr>\n    <tr>\n      <th>4</th>\n      <td>u3</td>\n      <td>i1</td>\n      <td>4</td>\n    </tr>\n    <tr>\n      <th>5</th>\n      <td>u3</td>\n      <td>i4</td>\n      <td>5</td>\n    </tr>\n    <tr>\n      <th>6</th>\n      <td>u3</td>\n      <td>i2</td>\n      <td>2</td>\n    </tr>\n  </tbody>\n</table>\n</div>"
     },
     "metadata": {},
     "execution_count": 55
    }
   ],
   "source": [
    "# create dummy dataset\n",
    "data = {'user': ['u1','u1','u2','u2', 'u3', 'u3', 'u3'], \n",
    "        'item': ['i1', 'i3', 'i2', 'i3', 'i1', 'i4', 'i2'], \n",
    "        'r': [1,2,1,3,4,5,2]\n",
    "       }\n",
    "df = pd.DataFrame(data,  columns = ['user', 'item', 'r'])\n",
    "df"
   ]
  },
  {
   "cell_type": "code",
   "execution_count": 56,
   "metadata": {},
   "outputs": [
    {
     "output_type": "execute_result",
     "data": {
      "text/plain": [
       "  user  f1  f2  f3  loc\n",
       "0   u1   1   1   0  del\n",
       "1   u2   0   1   0  mum\n",
       "2   u3   1   1   1  del"
      ],
      "text/html": "<div>\n<style scoped>\n    .dataframe tbody tr th:only-of-type {\n        vertical-align: middle;\n    }\n\n    .dataframe tbody tr th {\n        vertical-align: top;\n    }\n\n    .dataframe thead th {\n        text-align: right;\n    }\n</style>\n<table border=\"1\" class=\"dataframe\">\n  <thead>\n    <tr style=\"text-align: right;\">\n      <th></th>\n      <th>user</th>\n      <th>f1</th>\n      <th>f2</th>\n      <th>f3</th>\n      <th>loc</th>\n    </tr>\n  </thead>\n  <tbody>\n    <tr>\n      <th>0</th>\n      <td>u1</td>\n      <td>1</td>\n      <td>1</td>\n      <td>0</td>\n      <td>del</td>\n    </tr>\n    <tr>\n      <th>1</th>\n      <td>u2</td>\n      <td>0</td>\n      <td>1</td>\n      <td>0</td>\n      <td>mum</td>\n    </tr>\n    <tr>\n      <th>2</th>\n      <td>u3</td>\n      <td>1</td>\n      <td>1</td>\n      <td>1</td>\n      <td>del</td>\n    </tr>\n  </tbody>\n</table>\n</div>"
     },
     "metadata": {},
     "execution_count": 56
    }
   ],
   "source": [
    "\n",
    "#dummy item features\n",
    "data = {'user': ['u1','u2','u3'], \n",
    "        'f1': [1, 0, 1], \n",
    "        'f2': [1, 1, 1],\n",
    "        'f3': [0, 0, 1],\n",
    "        'loc': ['del', 'mum', 'del']\n",
    "       }\n",
    "features = pd.DataFrame(data,  columns = ['user', 'f1', 'f2', 'f3', 'loc'])\n",
    "features"
   ]
  },
  {
   "cell_type": "code",
   "execution_count": 57,
   "metadata": {},
   "outputs": [
    {
     "output_type": "stream",
     "name": "stdout",
     "text": [
      "f1:1\nf1:0\nf2:1\nf3:0\nf3:1\nloc:del\nloc:mum\n"
     ]
    }
   ],
   "source": [
    "uf = []\n",
    "col = ['f1']*len(features.f1.unique()) + ['f2']*len(features.f2.unique()) + ['f3']*len(features.f3.unique()) + ['loc']*len(features['loc'].unique())\n",
    "unique_f1 = list(features.f1.unique()) + list(features.f2.unique()) + list(features.f3.unique()) + list(features['loc'].unique())\n",
    "#print('f1:', unique_f1)\n",
    "for x,y in zip(col, unique_f1):\n",
    "    res = str(x)+ \":\" +str(y)\n",
    "    uf.append(res)\n",
    "    print(res)"
   ]
  },
  {
   "cell_type": "code",
   "execution_count": 58,
   "metadata": {},
   "outputs": [],
   "source": [
    "from lightfm.data import Dataset\n",
    "# we call fit to supply userid, item id and user/item features\n",
    "dataset1 = Dataset()\n",
    "dataset1.fit(\n",
    "        df['user'].unique(), # all the users\n",
    "        df['item'].unique(), # all the items\n",
    "        #user_features = ['f1:1', 'f1:0', 'f2:1', 'f2:0', 'f3:1', 'f3:0', 'loc:mum', 'loc:del']\n",
    "        user_features = uf\n",
    ")"
   ]
  },
  {
   "cell_type": "code",
   "execution_count": 59,
   "metadata": {},
   "outputs": [
    {
     "output_type": "execute_result",
     "data": {
      "text/plain": [
       "matrix([[1, 1, 0, 0],\n",
       "        [0, 1, 1, 0],\n",
       "        [1, 0, 1, 1]])"
      ]
     },
     "metadata": {},
     "execution_count": 59
    }
   ],
   "source": [
    "(interactions, weights) = dataset1.build_interactions([(x[0], x[1], x[2]) for x in df.values ])\n",
    "interactions.todense()\n"
   ]
  },
  {
   "cell_type": "code",
   "execution_count": 62,
   "metadata": {},
   "outputs": [
    {
     "output_type": "execute_result",
     "data": {
      "text/plain": [
       "array([['u1', 'i1', 1],\n",
       "       ['u1', 'i3', 2],\n",
       "       ['u2', 'i2', 1],\n",
       "       ['u2', 'i3', 3],\n",
       "       ['u3', 'i1', 4],\n",
       "       ['u3', 'i4', 5],\n",
       "       ['u3', 'i2', 2]], dtype=object)"
      ]
     },
     "metadata": {},
     "execution_count": 62
    }
   ],
   "source": [
    "df.values"
   ]
  },
  {
   "cell_type": "code",
   "execution_count": 60,
   "metadata": {},
   "outputs": [
    {
     "output_type": "execute_result",
     "data": {
      "text/plain": [
       "matrix([[1., 2., 0., 0.],\n",
       "        [0., 3., 1., 0.],\n",
       "        [4., 0., 2., 5.]], dtype=float32)"
      ]
     },
     "metadata": {},
     "execution_count": 60
    }
   ],
   "source": [
    "weights.todense()\n"
   ]
  },
  {
   "cell_type": "code",
   "execution_count": 9,
   "metadata": {},
   "outputs": [],
   "source": [
    "def feature_colon_value(my_list):\n",
    "    \"\"\"\n",
    "    Takes as input a list and prepends the columns names to respective values in the list.\n",
    "    For example: if my_list = [1,1,0,'del'],\n",
    "    resultant output = ['f1:1', 'f2:1', 'f3:0', 'loc:del']\n",
    "   \n",
    "    \"\"\"\n",
    "    result = []\n",
    "    ll = ['f1:','f2:', 'f3:', 'loc:']\n",
    "    aa = my_list\n",
    "    for x,y in zip(ll,aa):\n",
    "        res = str(x) +\"\"+ str(y)\n",
    "        result.append(res)\n",
    "    return result"
   ]
  },
  {
   "cell_type": "code",
   "execution_count": 10,
   "metadata": {},
   "outputs": [
    {
     "output_type": "stream",
     "name": "stdout",
     "text": [
      "['f1:1', 'f2:1', 'f3:0', 'loc:del']\n['f1:0', 'f2:1', 'f3:0', 'loc:mum']\n['f1:1', 'f2:1', 'f3:1', 'loc:del']\nFinal output: [['f1:1', 'f2:1', 'f3:0', 'loc:del'], ['f1:0', 'f2:1', 'f3:0', 'loc:mum'], ['f1:1', 'f2:1', 'f3:1', 'loc:del']]\n"
     ]
    }
   ],
   "source": [
    "ad_subset = features[[\"f1\", 'f2','f3', 'loc']] \n",
    "ad_list = [list(x) for x in ad_subset.values]\n",
    "feature_list = []\n",
    "for item in ad_list:\n",
    "    feature_list.append(feature_colon_value(item))\n",
    "    print(feature_colon_value(item))\n",
    "print(f'Final output: {feature_list}')"
   ]
  },
  {
   "cell_type": "code",
   "execution_count": 11,
   "metadata": {},
   "outputs": [
    {
     "output_type": "execute_result",
     "data": {
      "text/plain": [
       "[('u1', ['f1:1', 'f2:1', 'f3:0', 'loc:del']),\n",
       " ('u2', ['f1:0', 'f2:1', 'f3:0', 'loc:mum']),\n",
       " ('u3', ['f1:1', 'f2:1', 'f3:1', 'loc:del'])]"
      ]
     },
     "metadata": {},
     "execution_count": 11
    }
   ],
   "source": [
    "\n",
    "user_tuple = list(zip(features.user, feature_list))\n",
    "user_tuple"
   ]
  },
  {
   "cell_type": "code",
   "execution_count": 12,
   "metadata": {},
   "outputs": [
    {
     "output_type": "execute_result",
     "data": {
      "text/plain": [
       "matrix([[1., 0., 0., 1., 0., 1., 1., 0., 1., 0.],\n",
       "        [0., 1., 0., 0., 1., 1., 1., 0., 0., 1.],\n",
       "        [0., 0., 1., 1., 0., 1., 0., 1., 1., 0.]], dtype=float32)"
      ]
     },
     "metadata": {},
     "execution_count": 12
    }
   ],
   "source": [
    "user_features = dataset1.build_user_features(user_tuple, normalize= False)\n",
    "user_features.todense()"
   ]
  },
  {
   "cell_type": "code",
   "execution_count": 13,
   "metadata": {},
   "outputs": [
    {
     "output_type": "execute_result",
     "data": {
      "text/plain": [
       "matrix([[1., 0., 0., 1., 0., 1., 1., 0., 1., 0.],\n",
       "        [0., 1., 0., 0., 1., 1., 1., 0., 0., 1.],\n",
       "        [0., 0., 1., 1., 0., 1., 0., 1., 1., 0.]], dtype=float32)"
      ]
     },
     "metadata": {},
     "execution_count": 13
    }
   ],
   "source": [
    "user_features.todense() # rows are the users and columns are the user features : total 10 features. WHY 10 see below\n"
   ]
  },
  {
   "cell_type": "code",
   "execution_count": 14,
   "metadata": {},
   "outputs": [
    {
     "output_type": "execute_result",
     "data": {
      "text/plain": [
       "({'u1': 0, 'u2': 1, 'u3': 2},\n",
       " {'u1': 0,\n",
       "  'u2': 1,\n",
       "  'u3': 2,\n",
       "  'f1:1': 3,\n",
       "  'f1:0': 4,\n",
       "  'f2:1': 5,\n",
       "  'f3:0': 6,\n",
       "  'f3:1': 7,\n",
       "  'loc:del': 8,\n",
       "  'loc:mum': 9},\n",
       " {'i1': 0, 'i3': 1, 'i2': 2, 'i4': 3},\n",
       " {'i1': 0, 'i3': 1, 'i2': 2, 'i4': 3})"
      ]
     },
     "metadata": {},
     "execution_count": 14
    }
   ],
   "source": [
    "user_id_map, user_feature_map, item_id_map, item_feature_map = dataset1.mapping()\n",
    "dataset1.mapping()"
   ]
  },
  {
   "cell_type": "code",
   "execution_count": 15,
   "metadata": {},
   "outputs": [
    {
     "output_type": "execute_result",
     "data": {
      "text/plain": [
       "{'u1': 0,\n",
       " 'u2': 1,\n",
       " 'u3': 2,\n",
       " 'f1:1': 3,\n",
       " 'f1:0': 4,\n",
       " 'f2:1': 5,\n",
       " 'f3:0': 6,\n",
       " 'f3:1': 7,\n",
       " 'loc:del': 8,\n",
       " 'loc:mum': 9}"
      ]
     },
     "metadata": {},
     "execution_count": 15
    }
   ],
   "source": [
    "user_feature_map\n"
   ]
  },
  {
   "cell_type": "code",
   "execution_count": 16,
   "metadata": {},
   "outputs": [
    {
     "output_type": "execute_result",
     "data": {
      "text/plain": [
       "<lightfm.lightfm.LightFM at 0x1d8d217ff40>"
      ]
     },
     "metadata": {},
     "execution_count": 16
    }
   ],
   "source": [
    "model = LightFM(loss='warp')\n",
    "model.fit(interactions, # spase matrix representing whether user u and item i interacted\n",
    "      user_features= user_features, # we have built the sparse matrix above\n",
    "      sample_weight= weights, # spase matrix representing how much value to give to user u and item i inetraction: i.e ratings\n",
    "      epochs=10)"
   ]
  },
  {
   "cell_type": "code",
   "execution_count": 17,
   "metadata": {},
   "outputs": [
    {
     "output_type": "stream",
     "name": "stdout",
     "text": [
      "Hybrid training set AUC: 0.8333333\n"
     ]
    }
   ],
   "source": [
    "from lightfm.evaluation import auc_score\n",
    "train_auc = auc_score(model,\n",
    "                      interactions,\n",
    "                      user_features=user_features\n",
    "                     ).mean()\n",
    "print('Hybrid training set AUC: %s' % train_auc)"
   ]
  },
  {
   "cell_type": "code",
   "execution_count": 33,
   "metadata": {},
   "outputs": [
    {
     "output_type": "execute_result",
     "data": {
      "text/plain": [
       "array([-0.19939537, -0.43822837, -0.3052704 , -0.30423003], dtype=float32)"
      ]
     },
     "metadata": {},
     "execution_count": 33
    }
   ],
   "source": [
    "# predict for existing user\n",
    "user_x = user_id_map['u2']\n",
    "n_users, n_items = interactions.shape # no of users * no of items\n",
    "model.predict(user_x, np.arange(n_items)) # means predict for all\n"
   ]
  },
  {
   "cell_type": "code",
   "execution_count": 31,
   "metadata": {},
   "outputs": [
    {
     "output_type": "execute_result",
     "data": {
      "text/plain": [
       "array([0, 1, 2, 3])"
      ]
     },
     "metadata": {},
     "execution_count": 31
    }
   ],
   "source": [
    "np.arange(n_items)"
   ]
  },
  {
   "cell_type": "code",
   "execution_count": 19,
   "metadata": {},
   "outputs": [],
   "source": [
    "# predict for new user\n",
    "user_feature_list = ['f1:1', 'f2:1', 'f3:0', 'loc:del']"
   ]
  },
  {
   "cell_type": "code",
   "execution_count": 26,
   "metadata": {},
   "outputs": [],
   "source": [
    "def format_newuser_input(user_feature_map, user_feature_list):\n",
    "  #user_feature_map = user_feature_map  \n",
    "  num_features = len(user_feature_list)\n",
    "  normalised_val = 1.0 \n",
    "  target_indices = []\n",
    "  for feature in user_feature_list:\n",
    "    try:\n",
    "        target_indices.append(user_feature_map[feature])\n",
    "    except KeyError:\n",
    "        print(\"new user feature encountered '{}'\".format(feature))\n",
    "        pass\n",
    "  #print(\"target indices: {}\".format(target_indices))\n",
    "  new_user_features = np.zeros(len(user_feature_map.keys()))\n",
    "  for i in target_indices:\n",
    "    new_user_features[i] = normalised_val\n",
    "  new_user_features = sparse.csr_matrix(new_user_features)\n",
    "  return(new_user_features)"
   ]
  },
  {
   "cell_type": "code",
   "execution_count": 27,
   "metadata": {},
   "outputs": [],
   "source": [
    "new_user_features = format_newuser_input(user_feature_map, user_feature_list)\n"
   ]
  },
  {
   "cell_type": "code",
   "execution_count": 28,
   "metadata": {},
   "outputs": [
    {
     "output_type": "execute_result",
     "data": {
      "text/plain": [
       "matrix([[0., 0., 0., 1., 0., 1., 1., 0., 1., 0.]])"
      ]
     },
     "metadata": {},
     "execution_count": 28
    }
   ],
   "source": [
    "new_user_features.todense()"
   ]
  },
  {
   "cell_type": "code",
   "execution_count": 29,
   "metadata": {},
   "outputs": [
    {
     "output_type": "execute_result",
     "data": {
      "text/plain": [
       "array([-1.7443225, -2.4255936, -2.0747423, -1.8524776], dtype=float32)"
      ]
     },
     "metadata": {},
     "execution_count": 29
    }
   ],
   "source": [
    "\n",
    "model.predict(0, np.arange(n_items), user_features=new_user_features) # Here 0 means pick the first row of the user_features sparse matrix"
   ]
  },
  {
   "cell_type": "code",
   "execution_count": null,
   "metadata": {},
   "outputs": [],
   "source": []
  },
  {
   "cell_type": "code",
   "execution_count": null,
   "metadata": {},
   "outputs": [],
   "source": []
  },
  {
   "cell_type": "code",
   "execution_count": null,
   "metadata": {},
   "outputs": [],
   "source": []
  },
  {
   "cell_type": "code",
   "execution_count": null,
   "metadata": {},
   "outputs": [],
   "source": []
  },
  {
   "cell_type": "code",
   "execution_count": null,
   "metadata": {},
   "outputs": [],
   "source": []
  },
  {
   "cell_type": "code",
   "execution_count": null,
   "metadata": {},
   "outputs": [],
   "source": []
  },
  {
   "cell_type": "code",
   "execution_count": 49,
   "metadata": {},
   "outputs": [],
   "source": [
    "def f2(a,b,**kwargs):\n",
    "    if 'power' in kwargs.keys():\n",
    "        print(a**b)\n",
    "    else:\n",
    "        print (a*b)"
   ]
  },
  {
   "cell_type": "code",
   "execution_count": 50,
   "metadata": {},
   "outputs": [],
   "source": [
    "def f1(a,b,**kwargs):\n",
    "    if 'power' in kwargs.keys():\n",
    "        return f2(a,b,**kwargs)\n",
    "    return f2(a,b)"
   ]
  },
  {
   "cell_type": "code",
   "execution_count": 51,
   "metadata": {},
   "outputs": [
    {
     "output_type": "stream",
     "name": "stdout",
     "text": [
      "8\n"
     ]
    }
   ],
   "source": [
    "arguments = {'power':True}\n",
    "f1(a=2,b=3,**arguments)"
   ]
  },
  {
   "cell_type": "code",
   "execution_count": 53,
   "metadata": {},
   "outputs": [
    {
     "output_type": "stream",
     "name": "stdout",
     "text": [
      "v\n"
     ]
    }
   ],
   "source": [
    "a = [1,2]\n",
    "if a:\n",
    "    print('v')\n",
    "else:\n",
    "    print('a')"
   ]
  },
  {
   "cell_type": "code",
   "execution_count": null,
   "metadata": {},
   "outputs": [],
   "source": []
  }
 ]
}