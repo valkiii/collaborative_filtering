{
 "metadata": {
  "language_info": {
   "codemirror_mode": {
    "name": "ipython",
    "version": 3
   },
   "file_extension": ".py",
   "mimetype": "text/x-python",
   "name": "python",
   "nbconvert_exporter": "python",
   "pygments_lexer": "ipython3",
   "version": "3.8.5-final"
  },
  "orig_nbformat": 2,
  "kernelspec": {
   "name": "python385jvsc74a57bd0e0999b5a854c9b6266d2044c3f63afb6ced6374340be65f90773ef6ca75ef785",
   "display_name": "Python 3.8.5 64-bit (conda)"
  }
 },
 "nbformat": 4,
 "nbformat_minor": 2,
 "cells": [
  {
   "cell_type": "code",
   "execution_count": 5,
   "metadata": {
    "tags": []
   },
   "outputs": [],
   "source": [
    "# Source: https://medium.com/analytics-vidhya/recommendation-system-using-collaborative-filtering-cc310e641fde"
   ]
  },
  {
   "cell_type": "code",
   "execution_count": 7,
   "metadata": {},
   "outputs": [
    {
     "output_type": "execute_result",
     "data": {
      "text/plain": [
       "   user_id  age sex  occupation zip_code\n",
       "0        1   24   M  technician    85711\n",
       "1        2   53   F       other    94043\n",
       "2        3   23   M      writer    32067\n",
       "3        4   24   M  technician    43537\n",
       "4        5   33   F       other    15213"
      ],
      "text/html": "<div>\n<style scoped>\n    .dataframe tbody tr th:only-of-type {\n        vertical-align: middle;\n    }\n\n    .dataframe tbody tr th {\n        vertical-align: top;\n    }\n\n    .dataframe thead th {\n        text-align: right;\n    }\n</style>\n<table border=\"1\" class=\"dataframe\">\n  <thead>\n    <tr style=\"text-align: right;\">\n      <th></th>\n      <th>user_id</th>\n      <th>age</th>\n      <th>sex</th>\n      <th>occupation</th>\n      <th>zip_code</th>\n    </tr>\n  </thead>\n  <tbody>\n    <tr>\n      <th>0</th>\n      <td>1</td>\n      <td>24</td>\n      <td>M</td>\n      <td>technician</td>\n      <td>85711</td>\n    </tr>\n    <tr>\n      <th>1</th>\n      <td>2</td>\n      <td>53</td>\n      <td>F</td>\n      <td>other</td>\n      <td>94043</td>\n    </tr>\n    <tr>\n      <th>2</th>\n      <td>3</td>\n      <td>23</td>\n      <td>M</td>\n      <td>writer</td>\n      <td>32067</td>\n    </tr>\n    <tr>\n      <th>3</th>\n      <td>4</td>\n      <td>24</td>\n      <td>M</td>\n      <td>technician</td>\n      <td>43537</td>\n    </tr>\n    <tr>\n      <th>4</th>\n      <td>5</td>\n      <td>33</td>\n      <td>F</td>\n      <td>other</td>\n      <td>15213</td>\n    </tr>\n  </tbody>\n</table>\n</div>"
     },
     "metadata": {},
     "execution_count": 7
    }
   ],
   "source": [
    "import numpy as np\n",
    "import pandas as pd\n",
    "from sklearn.metrics.pairwise import cosine_similarity\n",
    "from sklearn.metrics import mean_squared_error\n",
    "from sklearn.model_selection import train_test_split\n",
    "from surprise import Reader, Dataset, KNNBasic\n",
    "from surprise.model_selection import cross_validate\n",
    "from surprise import SVD\n",
    "\n",
    "r_cols = ['user_id', 'movie_id', 'rating', 'timestamp']\n",
    "ratings = pd.read_csv('ml-100k/u.data',  sep='\\t', names=r_cols,\n",
    "encoding='latin-1')\n",
    "ratings.head()\n",
    "i_cols = ['movie_id', 'title' ,'release date','video release date', 'IMDb URL', 'unknown', 'Action', 'Adventure',\n",
    "'Animation', 'Children\\'s', 'Comedy', 'Crime', 'Documentary', 'Drama', 'Fantasy',\n",
    "'Film-Noir', 'Horror', 'Musical', 'Mystery', 'Romance', 'Sci-Fi', 'Thriller', 'War', 'Western']\n",
    "movies = pd.read_csv('ml-100k/u.item',  sep='|', names=i_cols, encoding='latin-1')\n",
    "movies.head()\n",
    "u_cols = ['user_id', 'age', 'sex', 'occupation', 'zip_code']\n",
    "users = pd.read_csv('ml-100k/u.user', sep='|', names=u_cols,\n",
    "encoding='latin-1')\n",
    "users.head()"
   ]
  },
  {
   "cell_type": "code",
   "execution_count": 9,
   "metadata": {},
   "outputs": [],
   "source": [
    "#Assign X as the original ratings dataframe and y as the user_id column of ratings.\n",
    "X = ratings.copy()\n",
    "y = ratings['user_id']\n",
    "#Split into training and test datasets, stratified along user_id\n",
    "X_train, X_test, y_train, y_test = train_test_split(X, y, test_size = 0.25, stratify=y,random_state=42)"
   ]
  },
  {
   "cell_type": "code",
   "execution_count": 10,
   "metadata": {},
   "outputs": [
    {
     "output_type": "execute_result",
     "data": {
      "text/plain": [
       "       user_id  movie_id  rating  timestamp\n",
       "94871      889       684       2  880180376\n",
       "45252      135       203       4  879857797\n",
       "90833      774       674       2  888557683\n",
       "1570       161        98       4  891171357\n",
       "46935      506       578       3  885135881"
      ],
      "text/html": "<div>\n<style scoped>\n    .dataframe tbody tr th:only-of-type {\n        vertical-align: middle;\n    }\n\n    .dataframe tbody tr th {\n        vertical-align: top;\n    }\n\n    .dataframe thead th {\n        text-align: right;\n    }\n</style>\n<table border=\"1\" class=\"dataframe\">\n  <thead>\n    <tr style=\"text-align: right;\">\n      <th></th>\n      <th>user_id</th>\n      <th>movie_id</th>\n      <th>rating</th>\n      <th>timestamp</th>\n    </tr>\n  </thead>\n  <tbody>\n    <tr>\n      <th>94871</th>\n      <td>889</td>\n      <td>684</td>\n      <td>2</td>\n      <td>880180376</td>\n    </tr>\n    <tr>\n      <th>45252</th>\n      <td>135</td>\n      <td>203</td>\n      <td>4</td>\n      <td>879857797</td>\n    </tr>\n    <tr>\n      <th>90833</th>\n      <td>774</td>\n      <td>674</td>\n      <td>2</td>\n      <td>888557683</td>\n    </tr>\n    <tr>\n      <th>1570</th>\n      <td>161</td>\n      <td>98</td>\n      <td>4</td>\n      <td>891171357</td>\n    </tr>\n    <tr>\n      <th>46935</th>\n      <td>506</td>\n      <td>578</td>\n      <td>3</td>\n      <td>885135881</td>\n    </tr>\n  </tbody>\n</table>\n</div>"
     },
     "metadata": {},
     "execution_count": 10
    }
   ],
   "source": [
    "X_train.head()"
   ]
  },
  {
   "cell_type": "code",
   "execution_count": 11,
   "metadata": {},
   "outputs": [],
   "source": [
    "df_ratings = X_train.pivot(index='user_id', columns='movie_id', values='rating')"
   ]
  },
  {
   "cell_type": "code",
   "execution_count": 13,
   "metadata": {},
   "outputs": [
    {
     "output_type": "execute_result",
     "data": {
      "text/plain": [
       "movie_id  1     2     3     4     5     6     7     8     9     10    ...  \\\n",
       "user_id                                                               ...   \n",
       "1          5.0   3.0   4.0   3.0   3.0   5.0   4.0   1.0   5.0   3.0  ...   \n",
       "2          NaN   NaN   NaN   NaN   NaN   NaN   NaN   NaN   NaN   2.0  ...   \n",
       "3          NaN   NaN   NaN   NaN   NaN   NaN   NaN   NaN   NaN   NaN  ...   \n",
       "4          NaN   NaN   NaN   NaN   NaN   NaN   NaN   NaN   NaN   NaN  ...   \n",
       "5          NaN   3.0   NaN   NaN   NaN   NaN   NaN   NaN   NaN   NaN  ...   \n",
       "\n",
       "movie_id  1669  1670  1671  1673  1674  1675  1676  1679  1681  1682  \n",
       "user_id                                                               \n",
       "1          NaN   NaN   NaN   NaN   NaN   NaN   NaN   NaN   NaN   NaN  \n",
       "2          NaN   NaN   NaN   NaN   NaN   NaN   NaN   NaN   NaN   NaN  \n",
       "3          NaN   NaN   NaN   NaN   NaN   NaN   NaN   NaN   NaN   NaN  \n",
       "4          NaN   NaN   NaN   NaN   NaN   NaN   NaN   NaN   NaN   NaN  \n",
       "5          NaN   NaN   NaN   NaN   NaN   NaN   NaN   NaN   NaN   NaN  \n",
       "\n",
       "[5 rows x 1647 columns]"
      ],
      "text/html": "<div>\n<style scoped>\n    .dataframe tbody tr th:only-of-type {\n        vertical-align: middle;\n    }\n\n    .dataframe tbody tr th {\n        vertical-align: top;\n    }\n\n    .dataframe thead th {\n        text-align: right;\n    }\n</style>\n<table border=\"1\" class=\"dataframe\">\n  <thead>\n    <tr style=\"text-align: right;\">\n      <th>movie_id</th>\n      <th>1</th>\n      <th>2</th>\n      <th>3</th>\n      <th>4</th>\n      <th>5</th>\n      <th>6</th>\n      <th>7</th>\n      <th>8</th>\n      <th>9</th>\n      <th>10</th>\n      <th>...</th>\n      <th>1669</th>\n      <th>1670</th>\n      <th>1671</th>\n      <th>1673</th>\n      <th>1674</th>\n      <th>1675</th>\n      <th>1676</th>\n      <th>1679</th>\n      <th>1681</th>\n      <th>1682</th>\n    </tr>\n    <tr>\n      <th>user_id</th>\n      <th></th>\n      <th></th>\n      <th></th>\n      <th></th>\n      <th></th>\n      <th></th>\n      <th></th>\n      <th></th>\n      <th></th>\n      <th></th>\n      <th></th>\n      <th></th>\n      <th></th>\n      <th></th>\n      <th></th>\n      <th></th>\n      <th></th>\n      <th></th>\n      <th></th>\n      <th></th>\n      <th></th>\n    </tr>\n  </thead>\n  <tbody>\n    <tr>\n      <th>1</th>\n      <td>5.0</td>\n      <td>3.0</td>\n      <td>4.0</td>\n      <td>3.0</td>\n      <td>3.0</td>\n      <td>5.0</td>\n      <td>4.0</td>\n      <td>1.0</td>\n      <td>5.0</td>\n      <td>3.0</td>\n      <td>...</td>\n      <td>NaN</td>\n      <td>NaN</td>\n      <td>NaN</td>\n      <td>NaN</td>\n      <td>NaN</td>\n      <td>NaN</td>\n      <td>NaN</td>\n      <td>NaN</td>\n      <td>NaN</td>\n      <td>NaN</td>\n    </tr>\n    <tr>\n      <th>2</th>\n      <td>NaN</td>\n      <td>NaN</td>\n      <td>NaN</td>\n      <td>NaN</td>\n      <td>NaN</td>\n      <td>NaN</td>\n      <td>NaN</td>\n      <td>NaN</td>\n      <td>NaN</td>\n      <td>2.0</td>\n      <td>...</td>\n      <td>NaN</td>\n      <td>NaN</td>\n      <td>NaN</td>\n      <td>NaN</td>\n      <td>NaN</td>\n      <td>NaN</td>\n      <td>NaN</td>\n      <td>NaN</td>\n      <td>NaN</td>\n      <td>NaN</td>\n    </tr>\n    <tr>\n      <th>3</th>\n      <td>NaN</td>\n      <td>NaN</td>\n      <td>NaN</td>\n      <td>NaN</td>\n      <td>NaN</td>\n      <td>NaN</td>\n      <td>NaN</td>\n      <td>NaN</td>\n      <td>NaN</td>\n      <td>NaN</td>\n      <td>...</td>\n      <td>NaN</td>\n      <td>NaN</td>\n      <td>NaN</td>\n      <td>NaN</td>\n      <td>NaN</td>\n      <td>NaN</td>\n      <td>NaN</td>\n      <td>NaN</td>\n      <td>NaN</td>\n      <td>NaN</td>\n    </tr>\n    <tr>\n      <th>4</th>\n      <td>NaN</td>\n      <td>NaN</td>\n      <td>NaN</td>\n      <td>NaN</td>\n      <td>NaN</td>\n      <td>NaN</td>\n      <td>NaN</td>\n      <td>NaN</td>\n      <td>NaN</td>\n      <td>NaN</td>\n      <td>...</td>\n      <td>NaN</td>\n      <td>NaN</td>\n      <td>NaN</td>\n      <td>NaN</td>\n      <td>NaN</td>\n      <td>NaN</td>\n      <td>NaN</td>\n      <td>NaN</td>\n      <td>NaN</td>\n      <td>NaN</td>\n    </tr>\n    <tr>\n      <th>5</th>\n      <td>NaN</td>\n      <td>3.0</td>\n      <td>NaN</td>\n      <td>NaN</td>\n      <td>NaN</td>\n      <td>NaN</td>\n      <td>NaN</td>\n      <td>NaN</td>\n      <td>NaN</td>\n      <td>NaN</td>\n      <td>...</td>\n      <td>NaN</td>\n      <td>NaN</td>\n      <td>NaN</td>\n      <td>NaN</td>\n      <td>NaN</td>\n      <td>NaN</td>\n      <td>NaN</td>\n      <td>NaN</td>\n      <td>NaN</td>\n      <td>NaN</td>\n    </tr>\n  </tbody>\n</table>\n<p>5 rows × 1647 columns</p>\n</div>"
     },
     "metadata": {},
     "execution_count": 13
    }
   ],
   "source": [
    "df_ratings.head()"
   ]
  },
  {
   "cell_type": "code",
   "execution_count": 15,
   "metadata": {},
   "outputs": [],
   "source": [
    "df_ratings_dummy = df_ratings.copy().fillna(0)\n",
    "df_ratings_dummy.head()\n",
    "\n",
    "#cosine similarity of the ratings\n",
    "similarity_matrix = cosine_similarity(df_ratings_dummy, df_ratings_dummy)\n",
    "similarity_matrix_df = pd.DataFrame(similarity_matrix, index=df_ratings.index, columns=df_ratings.index)\n",
    "#calculate ratings using weighted sum of cosine similarity\n",
    "#function to calculate ratings\n",
    "\n",
    "def calculate_ratings(id_movie, id_user):\n",
    "    if id_movie in df_ratings:\n",
    "        cosine_scores = similarity_matrix_df[id_user] #similarity of id_user with every other user\n",
    "        ratings_scores = df_ratings[id_movie]      #ratings of every other user for the movie id_movie\n",
    "        #won't consider users who havent rated id_movie so drop similarity scores and ratings corresponsing to np.nan\n",
    "        index_not_rated = ratings_scores[ratings_scores.isnull()].index\n",
    "        ratings_scores = ratings_scores.dropna()\n",
    "        cosine_scores = cosine_scores.drop(index_not_rated)\n",
    "        ratings_movie = np.dot(ratings_scores, cosine_scores)/cosine_scores.sum()\n",
    "    else:\n",
    "        return 2.5\n",
    "    return ratings_movie"
   ]
  },
  {
   "cell_type": "code",
   "execution_count": 16,
   "metadata": {},
   "outputs": [
    {
     "output_type": "execute_result",
     "data": {
      "text/plain": [
       "2.992640921879571"
      ]
     },
     "metadata": {},
     "execution_count": 16
    }
   ],
   "source": [
    "calculate_ratings(3,150) #predicts rating for user_id 150 and movie_id 3"
   ]
  },
  {
   "cell_type": "code",
   "execution_count": 19,
   "metadata": {},
   "outputs": [],
   "source": [
    "def score_on_test_set():\n",
    "    user_movie_pairs = zip(X_test['movie_id'], X_test['user_id'])\n",
    "    predicted_ratings = np.array([calculate_ratings(movie, user) for (movie,user) in user_movie_pairs])\n",
    "    true_ratings = np.array(X_test['rating'])\n",
    "    score = np.sqrt(mean_squared_error(true_ratings, predicted_ratings))\n",
    "    return score\n"
   ]
  },
  {
   "cell_type": "code",
   "execution_count": 20,
   "metadata": {},
   "outputs": [
    {
     "output_type": "stream",
     "name": "stdout",
     "text": [
      "1.0172812824757378\n"
     ]
    }
   ],
   "source": [
    "test_set_score = score_on_test_set()\n",
    "print(test_set_score)"
   ]
  },
  {
   "cell_type": "code",
   "execution_count": 22,
   "metadata": {},
   "outputs": [],
   "source": [
    "ratings = ratings.drop(columns='timestamp')\n",
    "reader = Reader()"
   ]
  },
  {
   "cell_type": "code",
   "execution_count": 23,
   "metadata": {},
   "outputs": [],
   "source": [
    "data = Dataset.load_from_df(ratings, reader)"
   ]
  },
  {
   "cell_type": "code",
   "execution_count": 25,
   "metadata": {},
   "outputs": [
    {
     "output_type": "stream",
     "name": "stdout",
     "text": [
      "Computing the msd similarity matrix...\n",
      "Done computing similarity matrix.\n",
      "Computing the msd similarity matrix...\n",
      "Done computing similarity matrix.\n",
      "Computing the msd similarity matrix...\n",
      "Done computing similarity matrix.\n"
     ]
    },
    {
     "output_type": "execute_result",
     "data": {
      "text/plain": [
       "{'test_rmse': array([0.99534595, 0.98967781, 0.98314695]),\n",
       " 'test_mae': array([0.78635298, 0.78138899, 0.77937173]),\n",
       " 'fit_time': (0.21518683433532715, 0.21919846534729004, 0.2252044677734375),\n",
       " 'test_time': (3.7133727073669434, 3.9711122512817383, 3.825474977493286)}"
      ]
     },
     "metadata": {},
     "execution_count": 25
    }
   ],
   "source": [
    "knn = KNNBasic()\n",
    "#Evaluating the performance in terms of RMSE\n",
    "cross_validate(knn, data, measures=['RMSE', 'mae'], cv = 3)"
   ]
  },
  {
   "cell_type": "code",
   "execution_count": 26,
   "metadata": {},
   "outputs": [
    {
     "output_type": "execute_result",
     "data": {
      "text/plain": [
       "{'test_rmse': array([0.94958505, 0.94137546, 0.94674985]),\n",
       " 'fit_time': (2.699955701828003, 2.7194700241088867, 2.701453447341919),\n",
       " 'test_time': (0.1631488800048828, 0.31028151512145996, 0.16214799880981445)}"
      ]
     },
     "metadata": {},
     "execution_count": 26
    }
   ],
   "source": [
    "#Define the SVD algorithm object\n",
    "svd = SVD()\n",
    "#Evaluate the performance in terms of RMSE\n",
    "cross_validate(svd, data, measures=['RMSE'], cv = 3)"
   ]
  },
  {
   "cell_type": "code",
   "execution_count": 27,
   "metadata": {},
   "outputs": [
    {
     "output_type": "execute_result",
     "data": {
      "text/plain": [
       "       user_id  movie_id  rating\n",
       "172          5         2       3\n",
       "439          5        17       4\n",
       "673          5       439       1\n",
       "679          5       225       2\n",
       "922          5       110       1\n",
       "...        ...       ...     ...\n",
       "93172        5       419       3\n",
       "94436        5       375       3\n",
       "95021        5       373       3\n",
       "96918        5       368       1\n",
       "99848        5       174       5\n",
       "\n",
       "[175 rows x 3 columns]"
      ],
      "text/html": "<div>\n<style scoped>\n    .dataframe tbody tr th:only-of-type {\n        vertical-align: middle;\n    }\n\n    .dataframe tbody tr th {\n        vertical-align: top;\n    }\n\n    .dataframe thead th {\n        text-align: right;\n    }\n</style>\n<table border=\"1\" class=\"dataframe\">\n  <thead>\n    <tr style=\"text-align: right;\">\n      <th></th>\n      <th>user_id</th>\n      <th>movie_id</th>\n      <th>rating</th>\n    </tr>\n  </thead>\n  <tbody>\n    <tr>\n      <th>172</th>\n      <td>5</td>\n      <td>2</td>\n      <td>3</td>\n    </tr>\n    <tr>\n      <th>439</th>\n      <td>5</td>\n      <td>17</td>\n      <td>4</td>\n    </tr>\n    <tr>\n      <th>673</th>\n      <td>5</td>\n      <td>439</td>\n      <td>1</td>\n    </tr>\n    <tr>\n      <th>679</th>\n      <td>5</td>\n      <td>225</td>\n      <td>2</td>\n    </tr>\n    <tr>\n      <th>922</th>\n      <td>5</td>\n      <td>110</td>\n      <td>1</td>\n    </tr>\n    <tr>\n      <th>...</th>\n      <td>...</td>\n      <td>...</td>\n      <td>...</td>\n    </tr>\n    <tr>\n      <th>93172</th>\n      <td>5</td>\n      <td>419</td>\n      <td>3</td>\n    </tr>\n    <tr>\n      <th>94436</th>\n      <td>5</td>\n      <td>375</td>\n      <td>3</td>\n    </tr>\n    <tr>\n      <th>95021</th>\n      <td>5</td>\n      <td>373</td>\n      <td>3</td>\n    </tr>\n    <tr>\n      <th>96918</th>\n      <td>5</td>\n      <td>368</td>\n      <td>1</td>\n    </tr>\n    <tr>\n      <th>99848</th>\n      <td>5</td>\n      <td>174</td>\n      <td>5</td>\n    </tr>\n  </tbody>\n</table>\n<p>175 rows × 3 columns</p>\n</div>"
     },
     "metadata": {},
     "execution_count": 27
    }
   ],
   "source": [
    "trainset = data.build_full_trainset()\n",
    "svd.fit(trainset)\n",
    "ratings[ratings['user_id'] == 5]"
   ]
  },
  {
   "cell_type": "code",
   "execution_count": 37,
   "metadata": {},
   "outputs": [],
   "source": [
    "rating_predicted = svd.predict(3, 150)[3]\n"
   ]
  },
  {
   "cell_type": "code",
   "execution_count": 38,
   "metadata": {},
   "outputs": [
    {
     "output_type": "execute_result",
     "data": {
      "text/plain": [
       "       user_id  movie_id  rating  timestamp\n",
       "33745      237       489       4  879376381\n",
       "93837      535       156       2  879617613\n",
       "19779      176       303       3  886047118\n",
       "76325       83       756       4  883867791\n",
       "10309      232       204       4  888549515"
      ],
      "text/html": "<div>\n<style scoped>\n    .dataframe tbody tr th:only-of-type {\n        vertical-align: middle;\n    }\n\n    .dataframe tbody tr th {\n        vertical-align: top;\n    }\n\n    .dataframe thead th {\n        text-align: right;\n    }\n</style>\n<table border=\"1\" class=\"dataframe\">\n  <thead>\n    <tr style=\"text-align: right;\">\n      <th></th>\n      <th>user_id</th>\n      <th>movie_id</th>\n      <th>rating</th>\n      <th>timestamp</th>\n    </tr>\n  </thead>\n  <tbody>\n    <tr>\n      <th>33745</th>\n      <td>237</td>\n      <td>489</td>\n      <td>4</td>\n      <td>879376381</td>\n    </tr>\n    <tr>\n      <th>93837</th>\n      <td>535</td>\n      <td>156</td>\n      <td>2</td>\n      <td>879617613</td>\n    </tr>\n    <tr>\n      <th>19779</th>\n      <td>176</td>\n      <td>303</td>\n      <td>3</td>\n      <td>886047118</td>\n    </tr>\n    <tr>\n      <th>76325</th>\n      <td>83</td>\n      <td>756</td>\n      <td>4</td>\n      <td>883867791</td>\n    </tr>\n    <tr>\n      <th>10309</th>\n      <td>232</td>\n      <td>204</td>\n      <td>4</td>\n      <td>888549515</td>\n    </tr>\n  </tbody>\n</table>\n</div>"
     },
     "metadata": {},
     "execution_count": 38
    }
   ],
   "source": [
    "X_test.head()"
   ]
  },
  {
   "cell_type": "code",
   "execution_count": 40,
   "metadata": {},
   "outputs": [
    {
     "output_type": "execute_result",
     "data": {
      "text/plain": [
       "33745    237\n",
       "93837    535\n",
       "19779    176\n",
       "76325     83\n",
       "10309    232\n",
       "        ... \n",
       "82918    747\n",
       "86390    758\n",
       "34211    198\n",
       "73488    870\n",
       "1828     234\n",
       "Name: user_id, Length: 25000, dtype: int64"
      ]
     },
     "metadata": {},
     "execution_count": 40
    }
   ],
   "source": [
    "y_test"
   ]
  },
  {
   "cell_type": "code",
   "execution_count": 99,
   "metadata": {},
   "outputs": [],
   "source": [
    "v1 = [svd.predict(1, i)[3] for i in range(len(df_ratings.columns))]\n",
    "v2 = [svd.predict(3, i)[3] for i in range(len(df_ratings.columns))]\n",
    "v3 = [svd.predict(5, i)[3] for i in range(len(df_ratings.columns))]"
   ]
  },
  {
   "cell_type": "code",
   "execution_count": 113,
   "metadata": {},
   "outputs": [],
   "source": [
    "v1 = list()\n",
    "v2 = list()\n",
    "v3 = list()\n",
    "for i in range(1,len(df_ratings.columns)):\n",
    "    try:\n",
    "        v2.append(calculate_ratings(1,i))\n",
    "        v1.append(svd.predict(1, i)[3])\n",
    "        v3.append(calculate_ratings(2,i))\n",
    "    except:\n",
    "        continue"
   ]
  },
  {
   "cell_type": "code",
   "execution_count": 114,
   "metadata": {},
   "outputs": [],
   "source": [
    "import matplotlib.pyplot as plt\n",
    "%matplotlib inline"
   ]
  },
  {
   "cell_type": "code",
   "execution_count": 115,
   "metadata": {},
   "outputs": [
    {
     "output_type": "display_data",
     "data": {
      "text/plain": "<Figure size 432x288 with 1 Axes>",
      "image/svg+xml": "<?xml version=\"1.0\" encoding=\"utf-8\" standalone=\"no\"?>\r\n<!DOCTYPE svg PUBLIC \"-//W3C//DTD SVG 1.1//EN\"\r\n  \"http://www.w3.org/Graphics/SVG/1.1/DTD/svg11.dtd\">\r\n<!-- Created with matplotlib (https://matplotlib.org/) -->\r\n<svg height=\"249.473939pt\" version=\"1.1\" viewBox=\"0 0 375.2875 249.473939\" width=\"375.2875pt\" xmlns=\"http://www.w3.org/2000/svg\" xmlns:xlink=\"http://www.w3.org/1999/xlink\">\r\n <metadata>\r\n  <rdf:RDF xmlns:cc=\"http://creativecommons.org/ns#\" xmlns:dc=\"http://purl.org/dc/elements/1.1/\" xmlns:rdf=\"http://www.w3.org/1999/02/22-rdf-syntax-ns#\">\r\n   <cc:Work>\r\n    <dc:type rdf:resource=\"http://purl.org/dc/dcmitype/StillImage\"/>\r\n    <dc:date>2021-04-13T22:24:15.562215</dc:date>\r\n    <dc:format>image/svg+xml</dc:format>\r\n    <dc:creator>\r\n     <cc:Agent>\r\n      <dc:title>Matplotlib v3.3.2, https://matplotlib.org/</dc:title>\r\n     </cc:Agent>\r\n    </dc:creator>\r\n   </cc:Work>\r\n  </rdf:RDF>\r\n </metadata>\r\n <defs>\r\n  <style type=\"text/css\">*{stroke-linecap:butt;stroke-linejoin:round;}</style>\r\n </defs>\r\n <g id=\"figure_1\">\r\n  <g id=\"patch_1\">\r\n   <path d=\"M 0 249.473939 \r\nL 375.2875 249.473939 \r\nL 375.2875 0 \r\nL 0 0 \r\nz\r\n\" style=\"fill:none;\"/>\r\n  </g>\r\n  <g id=\"axes_1\">\r\n   <g id=\"patch_2\">\r\n    <path d=\"M 33.2875 225.595814 \r\nL 368.0875 225.595814 \r\nL 368.0875 8.155814 \r\nL 33.2875 8.155814 \r\nz\r\n\" style=\"fill:#ffffff;\"/>\r\n   </g>\r\n   <g id=\"patch_3\">\r\n    <path clip-path=\"url(#p3294990b91)\" d=\"M 48.505682 225.595814 \r\nL 63.723864 225.595814 \r\nL 63.723864 222.376865 \r\nL 48.505682 222.376865 \r\nz\r\n\" style=\"fill:#1f77b4;opacity:0.3;\"/>\r\n   </g>\r\n   <g id=\"patch_4\">\r\n    <path clip-path=\"url(#p3294990b91)\" d=\"M 63.723864 225.595814 \r\nL 78.942045 225.595814 \r\nL 78.942045 219.157916 \r\nL 63.723864 219.157916 \r\nz\r\n\" style=\"fill:#1f77b4;opacity:0.3;\"/>\r\n   </g>\r\n   <g id=\"patch_5\">\r\n    <path clip-path=\"url(#p3294990b91)\" d=\"M 78.942045 225.595814 \r\nL 94.160227 225.595814 \r\nL 94.160227 212.720018 \r\nL 78.942045 212.720018 \r\nz\r\n\" style=\"fill:#1f77b4;opacity:0.3;\"/>\r\n   </g>\r\n   <g id=\"patch_6\">\r\n    <path clip-path=\"url(#p3294990b91)\" d=\"M 94.160227 225.595814 \r\nL 109.378409 225.595814 \r\nL 109.378409 206.28212 \r\nL 94.160227 206.28212 \r\nz\r\n\" style=\"fill:#1f77b4;opacity:0.3;\"/>\r\n   </g>\r\n   <g id=\"patch_7\">\r\n    <path clip-path=\"url(#p3294990b91)\" d=\"M 109.378409 225.595814 \r\nL 124.596591 225.595814 \r\nL 124.596591 199.844222 \r\nL 109.378409 199.844222 \r\nz\r\n\" style=\"fill:#1f77b4;opacity:0.3;\"/>\r\n   </g>\r\n   <g id=\"patch_8\">\r\n    <path clip-path=\"url(#p3294990b91)\" d=\"M 124.596591 225.595814 \r\nL 139.814773 225.595814 \r\nL 139.814773 175.165614 \r\nL 124.596591 175.165614 \r\nz\r\n\" style=\"fill:#1f77b4;opacity:0.3;\"/>\r\n   </g>\r\n   <g id=\"patch_9\">\r\n    <path clip-path=\"url(#p3294990b91)\" d=\"M 139.814773 225.595814 \r\nL 155.032955 225.595814 \r\nL 155.032955 168.727716 \r\nL 139.814773 168.727716 \r\nz\r\n\" style=\"fill:#1f77b4;opacity:0.3;\"/>\r\n   </g>\r\n   <g id=\"patch_10\">\r\n    <path clip-path=\"url(#p3294990b91)\" d=\"M 155.032955 225.595814 \r\nL 170.251136 225.595814 \r\nL 170.251136 154.778937 \r\nL 155.032955 154.778937 \r\nz\r\n\" style=\"fill:#1f77b4;opacity:0.3;\"/>\r\n   </g>\r\n   <g id=\"patch_11\">\r\n    <path clip-path=\"url(#p3294990b91)\" d=\"M 170.251136 225.595814 \r\nL 185.469318 225.595814 \r\nL 185.469318 141.903142 \r\nL 170.251136 141.903142 \r\nz\r\n\" style=\"fill:#1f77b4;opacity:0.3;\"/>\r\n   </g>\r\n   <g id=\"patch_12\">\r\n    <path clip-path=\"url(#p3294990b91)\" d=\"M 185.469318 225.595814 \r\nL 200.6875 225.595814 \r\nL 200.6875 133.319278 \r\nL 185.469318 133.319278 \r\nz\r\n\" style=\"fill:#1f77b4;opacity:0.3;\"/>\r\n   </g>\r\n   <g id=\"patch_13\">\r\n    <path clip-path=\"url(#p3294990b91)\" d=\"M 200.6875 225.595814 \r\nL 215.905682 225.595814 \r\nL 215.905682 124.735414 \r\nL 200.6875 124.735414 \r\nz\r\n\" style=\"fill:#1f77b4;opacity:0.3;\"/>\r\n   </g>\r\n   <g id=\"patch_14\">\r\n    <path clip-path=\"url(#p3294990b91)\" d=\"M 215.905682 225.595814 \r\nL 231.123864 225.595814 \r\nL 231.123864 147.268057 \r\nL 215.905682 147.268057 \r\nz\r\n\" style=\"fill:#1f77b4;opacity:0.3;\"/>\r\n   </g>\r\n   <g id=\"patch_15\">\r\n    <path clip-path=\"url(#p3294990b91)\" d=\"M 231.123864 225.595814 \r\nL 246.342045 225.595814 \r\nL 246.342045 149.414023 \r\nL 231.123864 149.414023 \r\nz\r\n\" style=\"fill:#1f77b4;opacity:0.3;\"/>\r\n   </g>\r\n   <g id=\"patch_16\">\r\n    <path clip-path=\"url(#p3294990b91)\" d=\"M 246.342045 225.595814 \r\nL 261.560227 225.595814 \r\nL 261.560227 137.61121 \r\nL 246.342045 137.61121 \r\nz\r\n\" style=\"fill:#1f77b4;opacity:0.3;\"/>\r\n   </g>\r\n   <g id=\"patch_17\">\r\n    <path clip-path=\"url(#p3294990b91)\" d=\"M 261.560227 225.595814 \r\nL 276.778409 225.595814 \r\nL 276.778409 153.705955 \r\nL 261.560227 153.705955 \r\nz\r\n\" style=\"fill:#1f77b4;opacity:0.3;\"/>\r\n   </g>\r\n   <g id=\"patch_18\">\r\n    <path clip-path=\"url(#p3294990b91)\" d=\"M 276.778409 225.595814 \r\nL 291.996591 225.595814 \r\nL 291.996591 152.632972 \r\nL 276.778409 152.632972 \r\nz\r\n\" style=\"fill:#1f77b4;opacity:0.3;\"/>\r\n   </g>\r\n   <g id=\"patch_19\">\r\n    <path clip-path=\"url(#p3294990b91)\" d=\"M 291.996591 225.595814 \r\nL 307.214773 225.595814 \r\nL 307.214773 185.895444 \r\nL 291.996591 185.895444 \r\nz\r\n\" style=\"fill:#1f77b4;opacity:0.3;\"/>\r\n   </g>\r\n   <g id=\"patch_20\">\r\n    <path clip-path=\"url(#p3294990b91)\" d=\"M 307.214773 225.595814 \r\nL 322.432955 225.595814 \r\nL 322.432955 193.406325 \r\nL 307.214773 193.406325 \r\nz\r\n\" style=\"fill:#1f77b4;opacity:0.3;\"/>\r\n   </g>\r\n   <g id=\"patch_21\">\r\n    <path clip-path=\"url(#p3294990b91)\" d=\"M 322.432955 225.595814 \r\nL 337.651136 225.595814 \r\nL 337.651136 204.136154 \r\nL 322.432955 204.136154 \r\nz\r\n\" style=\"fill:#1f77b4;opacity:0.3;\"/>\r\n   </g>\r\n   <g id=\"patch_22\">\r\n    <path clip-path=\"url(#p3294990b91)\" d=\"M 337.651136 225.595814 \r\nL 352.869318 225.595814 \r\nL 352.869318 217.01195 \r\nL 337.651136 217.01195 \r\nz\r\n\" style=\"fill:#1f77b4;opacity:0.3;\"/>\r\n   </g>\r\n   <g id=\"patch_23\">\r\n    <path clip-path=\"url(#p3294990b91)\" d=\"M 241.057514 225.595814 \r\nL 242.574221 225.595814 \r\nL 242.574221 222.376865 \r\nL 241.057514 222.376865 \r\nz\r\n\" style=\"fill:#ff7f0e;opacity:0.4;\"/>\r\n   </g>\r\n   <g id=\"patch_24\">\r\n    <path clip-path=\"url(#p3294990b91)\" d=\"M 242.574221 225.595814 \r\nL 244.090928 225.595814 \r\nL 244.090928 220.230899 \r\nL 242.574221 220.230899 \r\nz\r\n\" style=\"fill:#ff7f0e;opacity:0.4;\"/>\r\n   </g>\r\n   <g id=\"patch_25\">\r\n    <path clip-path=\"url(#p3294990b91)\" d=\"M 244.090928 225.595814 \r\nL 245.607635 225.595814 \r\nL 245.607635 220.230899 \r\nL 244.090928 220.230899 \r\nz\r\n\" style=\"fill:#ff7f0e;opacity:0.4;\"/>\r\n   </g>\r\n   <g id=\"patch_26\">\r\n    <path clip-path=\"url(#p3294990b91)\" d=\"M 245.607635 225.595814 \r\nL 247.124343 225.595814 \r\nL 247.124343 207.355103 \r\nL 245.607635 207.355103 \r\nz\r\n\" style=\"fill:#ff7f0e;opacity:0.4;\"/>\r\n   </g>\r\n   <g id=\"patch_27\">\r\n    <path clip-path=\"url(#p3294990b91)\" d=\"M 247.124343 225.595814 \r\nL 248.64105 225.595814 \r\nL 248.64105 193.406325 \r\nL 247.124343 193.406325 \r\nz\r\n\" style=\"fill:#ff7f0e;opacity:0.4;\"/>\r\n   </g>\r\n   <g id=\"patch_28\">\r\n    <path clip-path=\"url(#p3294990b91)\" d=\"M 248.64105 225.595814 \r\nL 250.157757 225.595814 \r\nL 250.157757 190.187376 \r\nL 248.64105 190.187376 \r\nz\r\n\" style=\"fill:#ff7f0e;opacity:0.4;\"/>\r\n   </g>\r\n   <g id=\"patch_29\">\r\n    <path clip-path=\"url(#p3294990b91)\" d=\"M 250.157757 225.595814 \r\nL 251.674464 225.595814 \r\nL 251.674464 177.31158 \r\nL 250.157757 177.31158 \r\nz\r\n\" style=\"fill:#ff7f0e;opacity:0.4;\"/>\r\n   </g>\r\n   <g id=\"patch_30\">\r\n    <path clip-path=\"url(#p3294990b91)\" d=\"M 251.674464 225.595814 \r\nL 253.191171 225.595814 \r\nL 253.191171 161.216835 \r\nL 251.674464 161.216835 \r\nz\r\n\" style=\"fill:#ff7f0e;opacity:0.4;\"/>\r\n   </g>\r\n   <g id=\"patch_31\">\r\n    <path clip-path=\"url(#p3294990b91)\" d=\"M 253.191171 225.595814 \r\nL 254.707878 225.595814 \r\nL 254.707878 121.516465 \r\nL 253.191171 121.516465 \r\nz\r\n\" style=\"fill:#ff7f0e;opacity:0.4;\"/>\r\n   </g>\r\n   <g id=\"patch_32\">\r\n    <path clip-path=\"url(#p3294990b91)\" d=\"M 254.707878 225.595814 \r\nL 256.224585 225.595814 \r\nL 256.224585 88.253993 \r\nL 254.707878 88.253993 \r\nz\r\n\" style=\"fill:#ff7f0e;opacity:0.4;\"/>\r\n   </g>\r\n   <g id=\"patch_33\">\r\n    <path clip-path=\"url(#p3294990b91)\" d=\"M 256.224585 225.595814 \r\nL 257.741292 225.595814 \r\nL 257.741292 74.305214 \r\nL 256.224585 74.305214 \r\nz\r\n\" style=\"fill:#ff7f0e;opacity:0.4;\"/>\r\n   </g>\r\n   <g id=\"patch_34\">\r\n    <path clip-path=\"url(#p3294990b91)\" d=\"M 257.741292 225.595814 \r\nL 259.257999 225.595814 \r\nL 259.257999 38.896776 \r\nL 257.741292 38.896776 \r\nz\r\n\" style=\"fill:#ff7f0e;opacity:0.4;\"/>\r\n   </g>\r\n   <g id=\"patch_35\">\r\n    <path clip-path=\"url(#p3294990b91)\" d=\"M 259.257999 225.595814 \r\nL 260.774706 225.595814 \r\nL 260.774706 101.129789 \r\nL 259.257999 101.129789 \r\nz\r\n\" style=\"fill:#ff7f0e;opacity:0.4;\"/>\r\n   </g>\r\n   <g id=\"patch_36\">\r\n    <path clip-path=\"url(#p3294990b91)\" d=\"M 260.774706 225.595814 \r\nL 262.291413 225.595814 \r\nL 262.291413 168.727716 \r\nL 260.774706 168.727716 \r\nz\r\n\" style=\"fill:#ff7f0e;opacity:0.4;\"/>\r\n   </g>\r\n   <g id=\"patch_37\">\r\n    <path clip-path=\"url(#p3294990b91)\" d=\"M 262.291413 225.595814 \r\nL 263.808121 225.595814 \r\nL 263.808121 201.990188 \r\nL 262.291413 201.990188 \r\nz\r\n\" style=\"fill:#ff7f0e;opacity:0.4;\"/>\r\n   </g>\r\n   <g id=\"patch_38\">\r\n    <path clip-path=\"url(#p3294990b91)\" d=\"M 263.808121 225.595814 \r\nL 265.324828 225.595814 \r\nL 265.324828 219.157916 \r\nL 263.808121 219.157916 \r\nz\r\n\" style=\"fill:#ff7f0e;opacity:0.4;\"/>\r\n   </g>\r\n   <g id=\"patch_39\">\r\n    <path clip-path=\"url(#p3294990b91)\" d=\"M 265.324828 225.595814 \r\nL 266.841535 225.595814 \r\nL 266.841535 219.157916 \r\nL 265.324828 219.157916 \r\nz\r\n\" style=\"fill:#ff7f0e;opacity:0.4;\"/>\r\n   </g>\r\n   <g id=\"patch_40\">\r\n    <path clip-path=\"url(#p3294990b91)\" d=\"M 266.841535 225.595814 \r\nL 268.358242 225.595814 \r\nL 268.358242 224.522831 \r\nL 266.841535 224.522831 \r\nz\r\n\" style=\"fill:#ff7f0e;opacity:0.4;\"/>\r\n   </g>\r\n   <g id=\"patch_41\">\r\n    <path clip-path=\"url(#p3294990b91)\" d=\"M 268.358242 225.595814 \r\nL 269.874949 225.595814 \r\nL 269.874949 225.595814 \r\nL 268.358242 225.595814 \r\nz\r\n\" style=\"fill:#ff7f0e;opacity:0.4;\"/>\r\n   </g>\r\n   <g id=\"patch_42\">\r\n    <path clip-path=\"url(#p3294990b91)\" d=\"M 269.874949 225.595814 \r\nL 271.391656 225.595814 \r\nL 271.391656 224.522831 \r\nL 269.874949 224.522831 \r\nz\r\n\" style=\"fill:#ff7f0e;opacity:0.4;\"/>\r\n   </g>\r\n   <g id=\"patch_43\">\r\n    <path clip-path=\"url(#p3294990b91)\" d=\"M 169.272649 225.595814 \r\nL 171.497303 225.595814 \r\nL 171.497303 224.522831 \r\nL 169.272649 224.522831 \r\nz\r\n\" style=\"fill:#2ca02c;opacity:0.4;\"/>\r\n   </g>\r\n   <g id=\"patch_44\">\r\n    <path clip-path=\"url(#p3294990b91)\" d=\"M 171.497303 225.595814 \r\nL 173.721957 225.595814 \r\nL 173.721957 225.595814 \r\nL 171.497303 225.595814 \r\nz\r\n\" style=\"fill:#2ca02c;opacity:0.4;\"/>\r\n   </g>\r\n   <g id=\"patch_45\">\r\n    <path clip-path=\"url(#p3294990b91)\" d=\"M 173.721957 225.595814 \r\nL 175.946611 225.595814 \r\nL 175.946611 225.595814 \r\nL 173.721957 225.595814 \r\nz\r\n\" style=\"fill:#2ca02c;opacity:0.4;\"/>\r\n   </g>\r\n   <g id=\"patch_46\">\r\n    <path clip-path=\"url(#p3294990b91)\" d=\"M 175.946611 225.595814 \r\nL 178.171265 225.595814 \r\nL 178.171265 223.449848 \r\nL 175.946611 223.449848 \r\nz\r\n\" style=\"fill:#2ca02c;opacity:0.4;\"/>\r\n   </g>\r\n   <g id=\"patch_47\">\r\n    <path clip-path=\"url(#p3294990b91)\" d=\"M 178.171265 225.595814 \r\nL 180.395919 225.595814 \r\nL 180.395919 221.303882 \r\nL 178.171265 221.303882 \r\nz\r\n\" style=\"fill:#2ca02c;opacity:0.4;\"/>\r\n   </g>\r\n   <g id=\"patch_48\">\r\n    <path clip-path=\"url(#p3294990b91)\" d=\"M 180.395919 225.595814 \r\nL 182.620573 225.595814 \r\nL 182.620573 215.938967 \r\nL 180.395919 215.938967 \r\nz\r\n\" style=\"fill:#2ca02c;opacity:0.4;\"/>\r\n   </g>\r\n   <g id=\"patch_49\">\r\n    <path clip-path=\"url(#p3294990b91)\" d=\"M 182.620573 225.595814 \r\nL 184.845227 225.595814 \r\nL 184.845227 211.647035 \r\nL 182.620573 211.647035 \r\nz\r\n\" style=\"fill:#2ca02c;opacity:0.4;\"/>\r\n   </g>\r\n   <g id=\"patch_50\">\r\n    <path clip-path=\"url(#p3294990b91)\" d=\"M 184.845227 225.595814 \r\nL 187.069881 225.595814 \r\nL 187.069881 199.844222 \r\nL 184.845227 199.844222 \r\nz\r\n\" style=\"fill:#2ca02c;opacity:0.4;\"/>\r\n   </g>\r\n   <g id=\"patch_51\">\r\n    <path clip-path=\"url(#p3294990b91)\" d=\"M 187.069881 225.595814 \r\nL 189.294535 225.595814 \r\nL 189.294535 190.187376 \r\nL 187.069881 190.187376 \r\nz\r\n\" style=\"fill:#2ca02c;opacity:0.4;\"/>\r\n   </g>\r\n   <g id=\"patch_52\">\r\n    <path clip-path=\"url(#p3294990b91)\" d=\"M 189.294535 225.595814 \r\nL 191.519189 225.595814 \r\nL 191.519189 154.778937 \r\nL 189.294535 154.778937 \r\nz\r\n\" style=\"fill:#2ca02c;opacity:0.4;\"/>\r\n   </g>\r\n   <g id=\"patch_53\">\r\n    <path clip-path=\"url(#p3294990b91)\" d=\"M 191.519189 225.595814 \r\nL 193.743844 225.595814 \r\nL 193.743844 108.64067 \r\nL 191.519189 108.64067 \r\nz\r\n\" style=\"fill:#2ca02c;opacity:0.4;\"/>\r\n   </g>\r\n   <g id=\"patch_54\">\r\n    <path clip-path=\"url(#p3294990b91)\" d=\"M 193.743844 225.595814 \r\nL 195.968498 225.595814 \r\nL 195.968498 22.802031 \r\nL 193.743844 22.802031 \r\nz\r\n\" style=\"fill:#2ca02c;opacity:0.4;\"/>\r\n   </g>\r\n   <g id=\"patch_55\">\r\n    <path clip-path=\"url(#p3294990b91)\" d=\"M 195.968498 225.595814 \r\nL 198.193152 225.595814 \r\nL 198.193152 18.5101 \r\nL 195.968498 18.5101 \r\nz\r\n\" style=\"fill:#2ca02c;opacity:0.4;\"/>\r\n   </g>\r\n   <g id=\"patch_56\">\r\n    <path clip-path=\"url(#p3294990b91)\" d=\"M 198.193152 225.595814 \r\nL 200.417806 225.595814 \r\nL 200.417806 64.648368 \r\nL 198.193152 64.648368 \r\nz\r\n\" style=\"fill:#2ca02c;opacity:0.4;\"/>\r\n   </g>\r\n   <g id=\"patch_57\">\r\n    <path clip-path=\"url(#p3294990b91)\" d=\"M 200.417806 225.595814 \r\nL 202.64246 225.595814 \r\nL 202.64246 142.976125 \r\nL 200.417806 142.976125 \r\nz\r\n\" style=\"fill:#2ca02c;opacity:0.4;\"/>\r\n   </g>\r\n   <g id=\"patch_58\">\r\n    <path clip-path=\"url(#p3294990b91)\" d=\"M 202.64246 225.595814 \r\nL 204.867114 225.595814 \r\nL 204.867114 184.822461 \r\nL 202.64246 184.822461 \r\nz\r\n\" style=\"fill:#2ca02c;opacity:0.4;\"/>\r\n   </g>\r\n   <g id=\"patch_59\">\r\n    <path clip-path=\"url(#p3294990b91)\" d=\"M 204.867114 225.595814 \r\nL 207.091768 225.595814 \r\nL 207.091768 205.209137 \r\nL 204.867114 205.209137 \r\nz\r\n\" style=\"fill:#2ca02c;opacity:0.4;\"/>\r\n   </g>\r\n   <g id=\"patch_60\">\r\n    <path clip-path=\"url(#p3294990b91)\" d=\"M 207.091768 225.595814 \r\nL 209.316422 225.595814 \r\nL 209.316422 213.793001 \r\nL 207.091768 213.793001 \r\nz\r\n\" style=\"fill:#2ca02c;opacity:0.4;\"/>\r\n   </g>\r\n   <g id=\"patch_61\">\r\n    <path clip-path=\"url(#p3294990b91)\" d=\"M 209.316422 225.595814 \r\nL 211.541076 225.595814 \r\nL 211.541076 222.376865 \r\nL 209.316422 222.376865 \r\nz\r\n\" style=\"fill:#2ca02c;opacity:0.4;\"/>\r\n   </g>\r\n   <g id=\"patch_62\">\r\n    <path clip-path=\"url(#p3294990b91)\" d=\"M 211.541076 225.595814 \r\nL 213.76573 225.595814 \r\nL 213.76573 223.449848 \r\nL 211.541076 223.449848 \r\nz\r\n\" style=\"fill:#2ca02c;opacity:0.4;\"/>\r\n   </g>\r\n   <g id=\"matplotlib.axis_1\">\r\n    <g id=\"xtick_1\">\r\n     <g id=\"line2d_1\">\r\n      <defs>\r\n       <path d=\"M 0 0 \r\nL 0 3.5 \r\n\" id=\"me7ebd90fae\" style=\"stroke:#000000;stroke-width:0.8;\"/>\r\n      </defs>\r\n      <g>\r\n       <use style=\"stroke:#000000;stroke-width:0.8;\" x=\"41.941989\" xlink:href=\"#me7ebd90fae\" y=\"225.595814\"/>\r\n      </g>\r\n     </g>\r\n     <g id=\"text_1\">\r\n      <!-- 1.5 -->\r\n      <g transform=\"translate(33.990426 240.194251)scale(0.1 -0.1)\">\r\n       <defs>\r\n        <path d=\"M 12.40625 8.296875 \r\nL 28.515625 8.296875 \r\nL 28.515625 63.921875 \r\nL 10.984375 60.40625 \r\nL 10.984375 69.390625 \r\nL 28.421875 72.90625 \r\nL 38.28125 72.90625 \r\nL 38.28125 8.296875 \r\nL 54.390625 8.296875 \r\nL 54.390625 0 \r\nL 12.40625 0 \r\nz\r\n\" id=\"DejaVuSans-49\"/>\r\n        <path d=\"M 10.6875 12.40625 \r\nL 21 12.40625 \r\nL 21 0 \r\nL 10.6875 0 \r\nz\r\n\" id=\"DejaVuSans-46\"/>\r\n        <path d=\"M 10.796875 72.90625 \r\nL 49.515625 72.90625 \r\nL 49.515625 64.59375 \r\nL 19.828125 64.59375 \r\nL 19.828125 46.734375 \r\nQ 21.96875 47.46875 24.109375 47.828125 \r\nQ 26.265625 48.1875 28.421875 48.1875 \r\nQ 40.625 48.1875 47.75 41.5 \r\nQ 54.890625 34.8125 54.890625 23.390625 \r\nQ 54.890625 11.625 47.5625 5.09375 \r\nQ 40.234375 -1.421875 26.90625 -1.421875 \r\nQ 22.3125 -1.421875 17.546875 -0.640625 \r\nQ 12.796875 0.140625 7.71875 1.703125 \r\nL 7.71875 11.625 \r\nQ 12.109375 9.234375 16.796875 8.0625 \r\nQ 21.484375 6.890625 26.703125 6.890625 \r\nQ 35.15625 6.890625 40.078125 11.328125 \r\nQ 45.015625 15.765625 45.015625 23.390625 \r\nQ 45.015625 31 40.078125 35.4375 \r\nQ 35.15625 39.890625 26.703125 39.890625 \r\nQ 22.75 39.890625 18.8125 39.015625 \r\nQ 14.890625 38.140625 10.796875 36.28125 \r\nz\r\n\" id=\"DejaVuSans-53\"/>\r\n       </defs>\r\n       <use xlink:href=\"#DejaVuSans-49\"/>\r\n       <use x=\"63.623047\" xlink:href=\"#DejaVuSans-46\"/>\r\n       <use x=\"95.410156\" xlink:href=\"#DejaVuSans-53\"/>\r\n      </g>\r\n     </g>\r\n    </g>\r\n    <g id=\"xtick_2\">\r\n     <g id=\"line2d_2\">\r\n      <g>\r\n       <use style=\"stroke:#000000;stroke-width:0.8;\" x=\"86.696606\" xlink:href=\"#me7ebd90fae\" y=\"225.595814\"/>\r\n      </g>\r\n     </g>\r\n     <g id=\"text_2\">\r\n      <!-- 2.0 -->\r\n      <g transform=\"translate(78.745044 240.194251)scale(0.1 -0.1)\">\r\n       <defs>\r\n        <path d=\"M 19.1875 8.296875 \r\nL 53.609375 8.296875 \r\nL 53.609375 0 \r\nL 7.328125 0 \r\nL 7.328125 8.296875 \r\nQ 12.9375 14.109375 22.625 23.890625 \r\nQ 32.328125 33.6875 34.8125 36.53125 \r\nQ 39.546875 41.84375 41.421875 45.53125 \r\nQ 43.3125 49.21875 43.3125 52.78125 \r\nQ 43.3125 58.59375 39.234375 62.25 \r\nQ 35.15625 65.921875 28.609375 65.921875 \r\nQ 23.96875 65.921875 18.8125 64.3125 \r\nQ 13.671875 62.703125 7.8125 59.421875 \r\nL 7.8125 69.390625 \r\nQ 13.765625 71.78125 18.9375 73 \r\nQ 24.125 74.21875 28.421875 74.21875 \r\nQ 39.75 74.21875 46.484375 68.546875 \r\nQ 53.21875 62.890625 53.21875 53.421875 \r\nQ 53.21875 48.921875 51.53125 44.890625 \r\nQ 49.859375 40.875 45.40625 35.40625 \r\nQ 44.1875 33.984375 37.640625 27.21875 \r\nQ 31.109375 20.453125 19.1875 8.296875 \r\nz\r\n\" id=\"DejaVuSans-50\"/>\r\n        <path d=\"M 31.78125 66.40625 \r\nQ 24.171875 66.40625 20.328125 58.90625 \r\nQ 16.5 51.421875 16.5 36.375 \r\nQ 16.5 21.390625 20.328125 13.890625 \r\nQ 24.171875 6.390625 31.78125 6.390625 \r\nQ 39.453125 6.390625 43.28125 13.890625 \r\nQ 47.125 21.390625 47.125 36.375 \r\nQ 47.125 51.421875 43.28125 58.90625 \r\nQ 39.453125 66.40625 31.78125 66.40625 \r\nz\r\nM 31.78125 74.21875 \r\nQ 44.046875 74.21875 50.515625 64.515625 \r\nQ 56.984375 54.828125 56.984375 36.375 \r\nQ 56.984375 17.96875 50.515625 8.265625 \r\nQ 44.046875 -1.421875 31.78125 -1.421875 \r\nQ 19.53125 -1.421875 13.0625 8.265625 \r\nQ 6.59375 17.96875 6.59375 36.375 \r\nQ 6.59375 54.828125 13.0625 64.515625 \r\nQ 19.53125 74.21875 31.78125 74.21875 \r\nz\r\n\" id=\"DejaVuSans-48\"/>\r\n       </defs>\r\n       <use xlink:href=\"#DejaVuSans-50\"/>\r\n       <use x=\"63.623047\" xlink:href=\"#DejaVuSans-46\"/>\r\n       <use x=\"95.410156\" xlink:href=\"#DejaVuSans-48\"/>\r\n      </g>\r\n     </g>\r\n    </g>\r\n    <g id=\"xtick_3\">\r\n     <g id=\"line2d_3\">\r\n      <g>\r\n       <use style=\"stroke:#000000;stroke-width:0.8;\" x=\"131.451224\" xlink:href=\"#me7ebd90fae\" y=\"225.595814\"/>\r\n      </g>\r\n     </g>\r\n     <g id=\"text_3\">\r\n      <!-- 2.5 -->\r\n      <g transform=\"translate(123.499661 240.194251)scale(0.1 -0.1)\">\r\n       <use xlink:href=\"#DejaVuSans-50\"/>\r\n       <use x=\"63.623047\" xlink:href=\"#DejaVuSans-46\"/>\r\n       <use x=\"95.410156\" xlink:href=\"#DejaVuSans-53\"/>\r\n      </g>\r\n     </g>\r\n    </g>\r\n    <g id=\"xtick_4\">\r\n     <g id=\"line2d_4\">\r\n      <g>\r\n       <use style=\"stroke:#000000;stroke-width:0.8;\" x=\"176.205841\" xlink:href=\"#me7ebd90fae\" y=\"225.595814\"/>\r\n      </g>\r\n     </g>\r\n     <g id=\"text_4\">\r\n      <!-- 3.0 -->\r\n      <g transform=\"translate(168.254279 240.194251)scale(0.1 -0.1)\">\r\n       <defs>\r\n        <path d=\"M 40.578125 39.3125 \r\nQ 47.65625 37.796875 51.625 33 \r\nQ 55.609375 28.21875 55.609375 21.1875 \r\nQ 55.609375 10.40625 48.1875 4.484375 \r\nQ 40.765625 -1.421875 27.09375 -1.421875 \r\nQ 22.515625 -1.421875 17.65625 -0.515625 \r\nQ 12.796875 0.390625 7.625 2.203125 \r\nL 7.625 11.71875 \r\nQ 11.71875 9.328125 16.59375 8.109375 \r\nQ 21.484375 6.890625 26.8125 6.890625 \r\nQ 36.078125 6.890625 40.9375 10.546875 \r\nQ 45.796875 14.203125 45.796875 21.1875 \r\nQ 45.796875 27.640625 41.28125 31.265625 \r\nQ 36.765625 34.90625 28.71875 34.90625 \r\nL 20.21875 34.90625 \r\nL 20.21875 43.015625 \r\nL 29.109375 43.015625 \r\nQ 36.375 43.015625 40.234375 45.921875 \r\nQ 44.09375 48.828125 44.09375 54.296875 \r\nQ 44.09375 59.90625 40.109375 62.90625 \r\nQ 36.140625 65.921875 28.71875 65.921875 \r\nQ 24.65625 65.921875 20.015625 65.03125 \r\nQ 15.375 64.15625 9.8125 62.3125 \r\nL 9.8125 71.09375 \r\nQ 15.4375 72.65625 20.34375 73.4375 \r\nQ 25.25 74.21875 29.59375 74.21875 \r\nQ 40.828125 74.21875 47.359375 69.109375 \r\nQ 53.90625 64.015625 53.90625 55.328125 \r\nQ 53.90625 49.265625 50.4375 45.09375 \r\nQ 46.96875 40.921875 40.578125 39.3125 \r\nz\r\n\" id=\"DejaVuSans-51\"/>\r\n       </defs>\r\n       <use xlink:href=\"#DejaVuSans-51\"/>\r\n       <use x=\"63.623047\" xlink:href=\"#DejaVuSans-46\"/>\r\n       <use x=\"95.410156\" xlink:href=\"#DejaVuSans-48\"/>\r\n      </g>\r\n     </g>\r\n    </g>\r\n    <g id=\"xtick_5\">\r\n     <g id=\"line2d_5\">\r\n      <g>\r\n       <use style=\"stroke:#000000;stroke-width:0.8;\" x=\"220.960459\" xlink:href=\"#me7ebd90fae\" y=\"225.595814\"/>\r\n      </g>\r\n     </g>\r\n     <g id=\"text_5\">\r\n      <!-- 3.5 -->\r\n      <g transform=\"translate(213.008897 240.194251)scale(0.1 -0.1)\">\r\n       <use xlink:href=\"#DejaVuSans-51\"/>\r\n       <use x=\"63.623047\" xlink:href=\"#DejaVuSans-46\"/>\r\n       <use x=\"95.410156\" xlink:href=\"#DejaVuSans-53\"/>\r\n      </g>\r\n     </g>\r\n    </g>\r\n    <g id=\"xtick_6\">\r\n     <g id=\"line2d_6\">\r\n      <g>\r\n       <use style=\"stroke:#000000;stroke-width:0.8;\" x=\"265.715077\" xlink:href=\"#me7ebd90fae\" y=\"225.595814\"/>\r\n      </g>\r\n     </g>\r\n     <g id=\"text_6\">\r\n      <!-- 4.0 -->\r\n      <g transform=\"translate(257.763514 240.194251)scale(0.1 -0.1)\">\r\n       <defs>\r\n        <path d=\"M 37.796875 64.3125 \r\nL 12.890625 25.390625 \r\nL 37.796875 25.390625 \r\nz\r\nM 35.203125 72.90625 \r\nL 47.609375 72.90625 \r\nL 47.609375 25.390625 \r\nL 58.015625 25.390625 \r\nL 58.015625 17.1875 \r\nL 47.609375 17.1875 \r\nL 47.609375 0 \r\nL 37.796875 0 \r\nL 37.796875 17.1875 \r\nL 4.890625 17.1875 \r\nL 4.890625 26.703125 \r\nz\r\n\" id=\"DejaVuSans-52\"/>\r\n       </defs>\r\n       <use xlink:href=\"#DejaVuSans-52\"/>\r\n       <use x=\"63.623047\" xlink:href=\"#DejaVuSans-46\"/>\r\n       <use x=\"95.410156\" xlink:href=\"#DejaVuSans-48\"/>\r\n      </g>\r\n     </g>\r\n    </g>\r\n    <g id=\"xtick_7\">\r\n     <g id=\"line2d_7\">\r\n      <g>\r\n       <use style=\"stroke:#000000;stroke-width:0.8;\" x=\"310.469694\" xlink:href=\"#me7ebd90fae\" y=\"225.595814\"/>\r\n      </g>\r\n     </g>\r\n     <g id=\"text_7\">\r\n      <!-- 4.5 -->\r\n      <g transform=\"translate(302.518132 240.194251)scale(0.1 -0.1)\">\r\n       <use xlink:href=\"#DejaVuSans-52\"/>\r\n       <use x=\"63.623047\" xlink:href=\"#DejaVuSans-46\"/>\r\n       <use x=\"95.410156\" xlink:href=\"#DejaVuSans-53\"/>\r\n      </g>\r\n     </g>\r\n    </g>\r\n    <g id=\"xtick_8\">\r\n     <g id=\"line2d_8\">\r\n      <g>\r\n       <use style=\"stroke:#000000;stroke-width:0.8;\" x=\"355.224312\" xlink:href=\"#me7ebd90fae\" y=\"225.595814\"/>\r\n      </g>\r\n     </g>\r\n     <g id=\"text_8\">\r\n      <!-- 5.0 -->\r\n      <g transform=\"translate(347.272749 240.194251)scale(0.1 -0.1)\">\r\n       <use xlink:href=\"#DejaVuSans-53\"/>\r\n       <use x=\"63.623047\" xlink:href=\"#DejaVuSans-46\"/>\r\n       <use x=\"95.410156\" xlink:href=\"#DejaVuSans-48\"/>\r\n      </g>\r\n     </g>\r\n    </g>\r\n   </g>\r\n   <g id=\"matplotlib.axis_2\">\r\n    <g id=\"ytick_1\">\r\n     <g id=\"line2d_9\">\r\n      <defs>\r\n       <path d=\"M 0 0 \r\nL -3.5 0 \r\n\" id=\"m81b94096cd\" style=\"stroke:#000000;stroke-width:0.8;\"/>\r\n      </defs>\r\n      <g>\r\n       <use style=\"stroke:#000000;stroke-width:0.8;\" x=\"33.2875\" xlink:href=\"#m81b94096cd\" y=\"225.595814\"/>\r\n      </g>\r\n     </g>\r\n     <g id=\"text_9\">\r\n      <!-- 0 -->\r\n      <g transform=\"translate(19.925 229.395033)scale(0.1 -0.1)\">\r\n       <use xlink:href=\"#DejaVuSans-48\"/>\r\n      </g>\r\n     </g>\r\n    </g>\r\n    <g id=\"ytick_2\">\r\n     <g id=\"line2d_10\">\r\n      <g>\r\n       <use style=\"stroke:#000000;stroke-width:0.8;\" x=\"33.2875\" xlink:href=\"#m81b94096cd\" y=\"198.771239\"/>\r\n      </g>\r\n     </g>\r\n     <g id=\"text_10\">\r\n      <!-- 25 -->\r\n      <g transform=\"translate(13.5625 202.570458)scale(0.1 -0.1)\">\r\n       <use xlink:href=\"#DejaVuSans-50\"/>\r\n       <use x=\"63.623047\" xlink:href=\"#DejaVuSans-53\"/>\r\n      </g>\r\n     </g>\r\n    </g>\r\n    <g id=\"ytick_3\">\r\n     <g id=\"line2d_11\">\r\n      <g>\r\n       <use style=\"stroke:#000000;stroke-width:0.8;\" x=\"33.2875\" xlink:href=\"#m81b94096cd\" y=\"171.946665\"/>\r\n      </g>\r\n     </g>\r\n     <g id=\"text_11\">\r\n      <!-- 50 -->\r\n      <g transform=\"translate(13.5625 175.745884)scale(0.1 -0.1)\">\r\n       <use xlink:href=\"#DejaVuSans-53\"/>\r\n       <use x=\"63.623047\" xlink:href=\"#DejaVuSans-48\"/>\r\n      </g>\r\n     </g>\r\n    </g>\r\n    <g id=\"ytick_4\">\r\n     <g id=\"line2d_12\">\r\n      <g>\r\n       <use style=\"stroke:#000000;stroke-width:0.8;\" x=\"33.2875\" xlink:href=\"#m81b94096cd\" y=\"145.122091\"/>\r\n      </g>\r\n     </g>\r\n     <g id=\"text_12\">\r\n      <!-- 75 -->\r\n      <g transform=\"translate(13.5625 148.921309)scale(0.1 -0.1)\">\r\n       <defs>\r\n        <path d=\"M 8.203125 72.90625 \r\nL 55.078125 72.90625 \r\nL 55.078125 68.703125 \r\nL 28.609375 0 \r\nL 18.3125 0 \r\nL 43.21875 64.59375 \r\nL 8.203125 64.59375 \r\nz\r\n\" id=\"DejaVuSans-55\"/>\r\n       </defs>\r\n       <use xlink:href=\"#DejaVuSans-55\"/>\r\n       <use x=\"63.623047\" xlink:href=\"#DejaVuSans-53\"/>\r\n      </g>\r\n     </g>\r\n    </g>\r\n    <g id=\"ytick_5\">\r\n     <g id=\"line2d_13\">\r\n      <g>\r\n       <use style=\"stroke:#000000;stroke-width:0.8;\" x=\"33.2875\" xlink:href=\"#m81b94096cd\" y=\"118.297516\"/>\r\n      </g>\r\n     </g>\r\n     <g id=\"text_13\">\r\n      <!-- 100 -->\r\n      <g transform=\"translate(7.2 122.096735)scale(0.1 -0.1)\">\r\n       <use xlink:href=\"#DejaVuSans-49\"/>\r\n       <use x=\"63.623047\" xlink:href=\"#DejaVuSans-48\"/>\r\n       <use x=\"127.246094\" xlink:href=\"#DejaVuSans-48\"/>\r\n      </g>\r\n     </g>\r\n    </g>\r\n    <g id=\"ytick_6\">\r\n     <g id=\"line2d_14\">\r\n      <g>\r\n       <use style=\"stroke:#000000;stroke-width:0.8;\" x=\"33.2875\" xlink:href=\"#m81b94096cd\" y=\"91.472942\"/>\r\n      </g>\r\n     </g>\r\n     <g id=\"text_14\">\r\n      <!-- 125 -->\r\n      <g transform=\"translate(7.2 95.272161)scale(0.1 -0.1)\">\r\n       <use xlink:href=\"#DejaVuSans-49\"/>\r\n       <use x=\"63.623047\" xlink:href=\"#DejaVuSans-50\"/>\r\n       <use x=\"127.246094\" xlink:href=\"#DejaVuSans-53\"/>\r\n      </g>\r\n     </g>\r\n    </g>\r\n    <g id=\"ytick_7\">\r\n     <g id=\"line2d_15\">\r\n      <g>\r\n       <use style=\"stroke:#000000;stroke-width:0.8;\" x=\"33.2875\" xlink:href=\"#m81b94096cd\" y=\"64.648368\"/>\r\n      </g>\r\n     </g>\r\n     <g id=\"text_15\">\r\n      <!-- 150 -->\r\n      <g transform=\"translate(7.2 68.447586)scale(0.1 -0.1)\">\r\n       <use xlink:href=\"#DejaVuSans-49\"/>\r\n       <use x=\"63.623047\" xlink:href=\"#DejaVuSans-53\"/>\r\n       <use x=\"127.246094\" xlink:href=\"#DejaVuSans-48\"/>\r\n      </g>\r\n     </g>\r\n    </g>\r\n    <g id=\"ytick_8\">\r\n     <g id=\"line2d_16\">\r\n      <g>\r\n       <use style=\"stroke:#000000;stroke-width:0.8;\" x=\"33.2875\" xlink:href=\"#m81b94096cd\" y=\"37.823793\"/>\r\n      </g>\r\n     </g>\r\n     <g id=\"text_16\">\r\n      <!-- 175 -->\r\n      <g transform=\"translate(7.2 41.623012)scale(0.1 -0.1)\">\r\n       <use xlink:href=\"#DejaVuSans-49\"/>\r\n       <use x=\"63.623047\" xlink:href=\"#DejaVuSans-55\"/>\r\n       <use x=\"127.246094\" xlink:href=\"#DejaVuSans-53\"/>\r\n      </g>\r\n     </g>\r\n    </g>\r\n    <g id=\"ytick_9\">\r\n     <g id=\"line2d_17\">\r\n      <g>\r\n       <use style=\"stroke:#000000;stroke-width:0.8;\" x=\"33.2875\" xlink:href=\"#m81b94096cd\" y=\"10.999219\"/>\r\n      </g>\r\n     </g>\r\n     <g id=\"text_17\">\r\n      <!-- 200 -->\r\n      <g transform=\"translate(7.2 14.798437)scale(0.1 -0.1)\">\r\n       <use xlink:href=\"#DejaVuSans-50\"/>\r\n       <use x=\"63.623047\" xlink:href=\"#DejaVuSans-48\"/>\r\n       <use x=\"127.246094\" xlink:href=\"#DejaVuSans-48\"/>\r\n      </g>\r\n     </g>\r\n    </g>\r\n   </g>\r\n   <g id=\"patch_63\">\r\n    <path d=\"M 33.2875 225.595814 \r\nL 33.2875 8.155814 \r\n\" style=\"fill:none;stroke:#000000;stroke-linecap:square;stroke-linejoin:miter;stroke-width:0.8;\"/>\r\n   </g>\r\n   <g id=\"patch_64\">\r\n    <path d=\"M 368.0875 225.595814 \r\nL 368.0875 8.155814 \r\n\" style=\"fill:none;stroke:#000000;stroke-linecap:square;stroke-linejoin:miter;stroke-width:0.8;\"/>\r\n   </g>\r\n   <g id=\"patch_65\">\r\n    <path d=\"M 33.2875 225.595814 \r\nL 368.0875 225.595814 \r\n\" style=\"fill:none;stroke:#000000;stroke-linecap:square;stroke-linejoin:miter;stroke-width:0.8;\"/>\r\n   </g>\r\n   <g id=\"patch_66\">\r\n    <path d=\"M 33.2875 8.155814 \r\nL 368.0875 8.155814 \r\n\" style=\"fill:none;stroke:#000000;stroke-linecap:square;stroke-linejoin:miter;stroke-width:0.8;\"/>\r\n   </g>\r\n  </g>\r\n </g>\r\n <defs>\r\n  <clipPath id=\"p3294990b91\">\r\n   <rect height=\"217.44\" width=\"334.8\" x=\"33.2875\" y=\"8.155814\"/>\r\n  </clipPath>\r\n </defs>\r\n</svg>\r\n",
      "image/png": "[encoded data removed]"
     },
     "metadata": {
      "needs_background": "light"
     }
    }
   ],
   "source": [
    "plt.hist(v1,bins=20,alpha=0.3)\n",
    "plt.hist(v2,bins=20,alpha=0.4)\n",
    "plt.hist(v3,bins=20,alpha=0.4);"
   ]
  },
  {
   "cell_type": "code",
   "execution_count": null,
   "metadata": {},
   "outputs": [],
   "source": []
  }
 ]
}