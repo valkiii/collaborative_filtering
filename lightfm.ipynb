{
 "metadata": {
  "language_info": {
   "codemirror_mode": {
    "name": "ipython",
    "version": 3
   },
   "file_extension": ".py",
   "mimetype": "text/x-python",
   "name": "python",
   "nbconvert_exporter": "python",
   "pygments_lexer": "ipython3",
   "version": "3.8.5-final"
  },
  "orig_nbformat": 2,
  "kernelspec": {
   "name": "python385jvsc74a57bd0e0999b5a854c9b6266d2044c3f63afb6ced6374340be65f90773ef6ca75ef785",
   "display_name": "Python 3.8.5 64-bit (conda)"
  }
 },
 "nbformat": 4,
 "nbformat_minor": 2,
 "cells": [
  {
   "cell_type": "code",
   "execution_count": 1,
   "metadata": {},
   "outputs": [],
   "source": [
    "# Source: https://github.com/aayushmnit/cookbook/blob/master/recsys.py\n",
    "# https://towardsdatascience.com/solving-business-usecases-by-recommender-system-using-lightfm-4ba7b3ac8e62"
   ]
  },
  {
   "cell_type": "code",
   "execution_count": 1,
   "metadata": {},
   "outputs": [
    {
     "output_type": "stream",
     "name": "stderr",
     "text": [
      "C:\\Users\\daape\\anaconda3\\lib\\site-packages\\lightfm\\_lightfm_fast.py:9: UserWarning: LightFM was compiled without OpenMP support. Only a single thread will be used.\n  warnings.warn(\n"
     ]
    }
   ],
   "source": [
    "import sys\n",
    "import os\n",
    "from recsys import *\n",
    "from generic_preprocessing import *\n"
   ]
  },
  {
   "cell_type": "code",
   "execution_count": 2,
   "metadata": {},
   "outputs": [
    {
     "output_type": "execute_result",
     "data": {
      "text/plain": [
       "   userId  movieId  rating  timestamp\n",
       "0       1        1     4.0  964982703\n",
       "1       1        3     4.0  964981247\n",
       "2       1        6     4.0  964982224\n",
       "3       1       47     5.0  964983815\n",
       "4       1       50     5.0  964982931"
      ],
      "text/html": "<div>\n<style scoped>\n    .dataframe tbody tr th:only-of-type {\n        vertical-align: middle;\n    }\n\n    .dataframe tbody tr th {\n        vertical-align: top;\n    }\n\n    .dataframe thead th {\n        text-align: right;\n    }\n</style>\n<table border=\"1\" class=\"dataframe\">\n  <thead>\n    <tr style=\"text-align: right;\">\n      <th></th>\n      <th>userId</th>\n      <th>movieId</th>\n      <th>rating</th>\n      <th>timestamp</th>\n    </tr>\n  </thead>\n  <tbody>\n    <tr>\n      <th>0</th>\n      <td>1</td>\n      <td>1</td>\n      <td>4.0</td>\n      <td>964982703</td>\n    </tr>\n    <tr>\n      <th>1</th>\n      <td>1</td>\n      <td>3</td>\n      <td>4.0</td>\n      <td>964981247</td>\n    </tr>\n    <tr>\n      <th>2</th>\n      <td>1</td>\n      <td>6</td>\n      <td>4.0</td>\n      <td>964982224</td>\n    </tr>\n    <tr>\n      <th>3</th>\n      <td>1</td>\n      <td>47</td>\n      <td>5.0</td>\n      <td>964983815</td>\n    </tr>\n    <tr>\n      <th>4</th>\n      <td>1</td>\n      <td>50</td>\n      <td>5.0</td>\n      <td>964982931</td>\n    </tr>\n  </tbody>\n</table>\n</div>"
     },
     "metadata": {},
     "execution_count": 2
    }
   ],
   "source": [
    "ratings = pd.read_csv('ml-latest-small/ratings.csv')\n",
    "ratings.head()"
   ]
  },
  {
   "cell_type": "code",
   "execution_count": 32,
   "metadata": {},
   "outputs": [
    {
     "output_type": "execute_result",
     "data": {
      "text/plain": [
       "array([4. , 5. , 3. , 2. , 1. , 4.5, 3.5, 2.5, 0.5, 1.5])"
      ]
     },
     "metadata": {},
     "execution_count": 32
    }
   ],
   "source": [
    "ratings['rating'].unique()"
   ]
  },
  {
   "cell_type": "code",
   "execution_count": 3,
   "metadata": {},
   "outputs": [
    {
     "output_type": "execute_result",
     "data": {
      "text/plain": [
       "   movieId                               title  \\\n",
       "0        1                    Toy Story (1995)   \n",
       "1        2                      Jumanji (1995)   \n",
       "2        3             Grumpier Old Men (1995)   \n",
       "3        4            Waiting to Exhale (1995)   \n",
       "4        5  Father of the Bride Part II (1995)   \n",
       "\n",
       "                                        genres  \n",
       "0  Adventure|Animation|Children|Comedy|Fantasy  \n",
       "1                   Adventure|Children|Fantasy  \n",
       "2                               Comedy|Romance  \n",
       "3                         Comedy|Drama|Romance  \n",
       "4                                       Comedy  "
      ],
      "text/html": "<div>\n<style scoped>\n    .dataframe tbody tr th:only-of-type {\n        vertical-align: middle;\n    }\n\n    .dataframe tbody tr th {\n        vertical-align: top;\n    }\n\n    .dataframe thead th {\n        text-align: right;\n    }\n</style>\n<table border=\"1\" class=\"dataframe\">\n  <thead>\n    <tr style=\"text-align: right;\">\n      <th></th>\n      <th>movieId</th>\n      <th>title</th>\n      <th>genres</th>\n    </tr>\n  </thead>\n  <tbody>\n    <tr>\n      <th>0</th>\n      <td>1</td>\n      <td>Toy Story (1995)</td>\n      <td>Adventure|Animation|Children|Comedy|Fantasy</td>\n    </tr>\n    <tr>\n      <th>1</th>\n      <td>2</td>\n      <td>Jumanji (1995)</td>\n      <td>Adventure|Children|Fantasy</td>\n    </tr>\n    <tr>\n      <th>2</th>\n      <td>3</td>\n      <td>Grumpier Old Men (1995)</td>\n      <td>Comedy|Romance</td>\n    </tr>\n    <tr>\n      <th>3</th>\n      <td>4</td>\n      <td>Waiting to Exhale (1995)</td>\n      <td>Comedy|Drama|Romance</td>\n    </tr>\n    <tr>\n      <th>4</th>\n      <td>5</td>\n      <td>Father of the Bride Part II (1995)</td>\n      <td>Comedy</td>\n    </tr>\n  </tbody>\n</table>\n</div>"
     },
     "metadata": {},
     "execution_count": 3
    }
   ],
   "source": [
    "movies = pd.read_csv('ml-latest-small/movies.csv')\n",
    "movies.head()"
   ]
  },
  {
   "cell_type": "code",
   "execution_count": 4,
   "metadata": {},
   "outputs": [
    {
     "output_type": "execute_result",
     "data": {
      "text/plain": [
       "(610, 9724)"
      ]
     },
     "metadata": {},
     "execution_count": 4
    }
   ],
   "source": [
    "interactions = create_interaction_matrix(df = ratings,\n",
    "                                         user_col = 'userId',\n",
    "                                         item_col = 'movieId',\n",
    "                                         rating_col = 'rating',\n",
    "                                         threshold = '3')\n",
    "interactions.shape"
   ]
  },
  {
   "cell_type": "code",
   "execution_count": 31,
   "metadata": {},
   "outputs": [
    {
     "output_type": "execute_result",
     "data": {
      "text/plain": [
       "movieId  1       2       3       4       5       6       7       8       \\\n",
       "userId                                                                    \n",
       "1           4.0     0.0     4.0     0.0     0.0     4.0     0.0     0.0   \n",
       "2           0.0     0.0     0.0     0.0     0.0     0.0     0.0     0.0   \n",
       "3           0.0     0.0     0.0     0.0     0.0     0.0     0.0     0.0   \n",
       "4           0.0     0.0     0.0     0.0     0.0     0.0     0.0     0.0   \n",
       "5           4.0     0.0     0.0     0.0     0.0     0.0     0.0     0.0   \n",
       "...         ...     ...     ...     ...     ...     ...     ...     ...   \n",
       "606         2.5     0.0     0.0     0.0     0.0     0.0     2.5     0.0   \n",
       "607         4.0     0.0     0.0     0.0     0.0     0.0     0.0     0.0   \n",
       "608         2.5     2.0     2.0     0.0     0.0     0.0     0.0     0.0   \n",
       "609         3.0     0.0     0.0     0.0     0.0     0.0     0.0     0.0   \n",
       "610         5.0     0.0     0.0     0.0     0.0     5.0     0.0     0.0   \n",
       "\n",
       "movieId  9       10      ...  193565  193567  193571  193573  193579  193581  \\\n",
       "userId                   ...                                                   \n",
       "1           0.0     0.0  ...     0.0     0.0     0.0     0.0     0.0     0.0   \n",
       "2           0.0     0.0  ...     0.0     0.0     0.0     0.0     0.0     0.0   \n",
       "3           0.0     0.0  ...     0.0     0.0     0.0     0.0     0.0     0.0   \n",
       "4           0.0     0.0  ...     0.0     0.0     0.0     0.0     0.0     0.0   \n",
       "5           0.0     0.0  ...     0.0     0.0     0.0     0.0     0.0     0.0   \n",
       "...         ...     ...  ...     ...     ...     ...     ...     ...     ...   \n",
       "606         0.0     0.0  ...     0.0     0.0     0.0     0.0     0.0     0.0   \n",
       "607         0.0     0.0  ...     0.0     0.0     0.0     0.0     0.0     0.0   \n",
       "608         0.0     4.0  ...     0.0     0.0     0.0     0.0     0.0     0.0   \n",
       "609         0.0     4.0  ...     0.0     0.0     0.0     0.0     0.0     0.0   \n",
       "610         0.0     0.0  ...     0.0     0.0     0.0     0.0     0.0     0.0   \n",
       "\n",
       "movieId  193583  193585  193587  193609  \n",
       "userId                                   \n",
       "1           0.0     0.0     0.0     0.0  \n",
       "2           0.0     0.0     0.0     0.0  \n",
       "3           0.0     0.0     0.0     0.0  \n",
       "4           0.0     0.0     0.0     0.0  \n",
       "5           0.0     0.0     0.0     0.0  \n",
       "...         ...     ...     ...     ...  \n",
       "606         0.0     0.0     0.0     0.0  \n",
       "607         0.0     0.0     0.0     0.0  \n",
       "608         0.0     0.0     0.0     0.0  \n",
       "609         0.0     0.0     0.0     0.0  \n",
       "610         0.0     0.0     0.0     0.0  \n",
       "\n",
       "[610 rows x 9724 columns]"
      ],
      "text/html": "<div>\n<style scoped>\n    .dataframe tbody tr th:only-of-type {\n        vertical-align: middle;\n    }\n\n    .dataframe tbody tr th {\n        vertical-align: top;\n    }\n\n    .dataframe thead th {\n        text-align: right;\n    }\n</style>\n<table border=\"1\" class=\"dataframe\">\n  <thead>\n    <tr style=\"text-align: right;\">\n      <th>movieId</th>\n      <th>1</th>\n      <th>2</th>\n      <th>3</th>\n      <th>4</th>\n      <th>5</th>\n      <th>6</th>\n      <th>7</th>\n      <th>8</th>\n      <th>9</th>\n      <th>10</th>\n      <th>...</th>\n      <th>193565</th>\n      <th>193567</th>\n      <th>193571</th>\n      <th>193573</th>\n      <th>193579</th>\n      <th>193581</th>\n      <th>193583</th>\n      <th>193585</th>\n      <th>193587</th>\n      <th>193609</th>\n    </tr>\n    <tr>\n      <th>userId</th>\n      <th></th>\n      <th></th>\n      <th></th>\n      <th></th>\n      <th></th>\n      <th></th>\n      <th></th>\n      <th></th>\n      <th></th>\n      <th></th>\n      <th></th>\n      <th></th>\n      <th></th>\n      <th></th>\n      <th></th>\n      <th></th>\n      <th></th>\n      <th></th>\n      <th></th>\n      <th></th>\n      <th></th>\n    </tr>\n  </thead>\n  <tbody>\n    <tr>\n      <th>1</th>\n      <td>4.0</td>\n      <td>0.0</td>\n      <td>4.0</td>\n      <td>0.0</td>\n      <td>0.0</td>\n      <td>4.0</td>\n      <td>0.0</td>\n      <td>0.0</td>\n      <td>0.0</td>\n      <td>0.0</td>\n      <td>...</td>\n      <td>0.0</td>\n      <td>0.0</td>\n      <td>0.0</td>\n      <td>0.0</td>\n      <td>0.0</td>\n      <td>0.0</td>\n      <td>0.0</td>\n      <td>0.0</td>\n      <td>0.0</td>\n      <td>0.0</td>\n    </tr>\n    <tr>\n      <th>2</th>\n      <td>0.0</td>\n      <td>0.0</td>\n      <td>0.0</td>\n      <td>0.0</td>\n      <td>0.0</td>\n      <td>0.0</td>\n      <td>0.0</td>\n      <td>0.0</td>\n      <td>0.0</td>\n      <td>0.0</td>\n      <td>...</td>\n      <td>0.0</td>\n      <td>0.0</td>\n      <td>0.0</td>\n      <td>0.0</td>\n      <td>0.0</td>\n      <td>0.0</td>\n      <td>0.0</td>\n      <td>0.0</td>\n      <td>0.0</td>\n      <td>0.0</td>\n    </tr>\n    <tr>\n      <th>3</th>\n      <td>0.0</td>\n      <td>0.0</td>\n      <td>0.0</td>\n      <td>0.0</td>\n      <td>0.0</td>\n      <td>0.0</td>\n      <td>0.0</td>\n      <td>0.0</td>\n      <td>0.0</td>\n      <td>0.0</td>\n      <td>...</td>\n      <td>0.0</td>\n      <td>0.0</td>\n      <td>0.0</td>\n      <td>0.0</td>\n      <td>0.0</td>\n      <td>0.0</td>\n      <td>0.0</td>\n      <td>0.0</td>\n      <td>0.0</td>\n      <td>0.0</td>\n    </tr>\n    <tr>\n      <th>4</th>\n      <td>0.0</td>\n      <td>0.0</td>\n      <td>0.0</td>\n      <td>0.0</td>\n      <td>0.0</td>\n      <td>0.0</td>\n      <td>0.0</td>\n      <td>0.0</td>\n      <td>0.0</td>\n      <td>0.0</td>\n      <td>...</td>\n      <td>0.0</td>\n      <td>0.0</td>\n      <td>0.0</td>\n      <td>0.0</td>\n      <td>0.0</td>\n      <td>0.0</td>\n      <td>0.0</td>\n      <td>0.0</td>\n      <td>0.0</td>\n      <td>0.0</td>\n    </tr>\n    <tr>\n      <th>5</th>\n      <td>4.0</td>\n      <td>0.0</td>\n      <td>0.0</td>\n      <td>0.0</td>\n      <td>0.0</td>\n      <td>0.0</td>\n      <td>0.0</td>\n      <td>0.0</td>\n      <td>0.0</td>\n      <td>0.0</td>\n      <td>...</td>\n      <td>0.0</td>\n      <td>0.0</td>\n      <td>0.0</td>\n      <td>0.0</td>\n      <td>0.0</td>\n      <td>0.0</td>\n      <td>0.0</td>\n      <td>0.0</td>\n      <td>0.0</td>\n      <td>0.0</td>\n    </tr>\n    <tr>\n      <th>...</th>\n      <td>...</td>\n      <td>...</td>\n      <td>...</td>\n      <td>...</td>\n      <td>...</td>\n      <td>...</td>\n      <td>...</td>\n      <td>...</td>\n      <td>...</td>\n      <td>...</td>\n      <td>...</td>\n      <td>...</td>\n      <td>...</td>\n      <td>...</td>\n      <td>...</td>\n      <td>...</td>\n      <td>...</td>\n      <td>...</td>\n      <td>...</td>\n      <td>...</td>\n      <td>...</td>\n    </tr>\n    <tr>\n      <th>606</th>\n      <td>2.5</td>\n      <td>0.0</td>\n      <td>0.0</td>\n      <td>0.0</td>\n      <td>0.0</td>\n      <td>0.0</td>\n      <td>2.5</td>\n      <td>0.0</td>\n      <td>0.0</td>\n      <td>0.0</td>\n      <td>...</td>\n      <td>0.0</td>\n      <td>0.0</td>\n      <td>0.0</td>\n      <td>0.0</td>\n      <td>0.0</td>\n      <td>0.0</td>\n      <td>0.0</td>\n      <td>0.0</td>\n      <td>0.0</td>\n      <td>0.0</td>\n    </tr>\n    <tr>\n      <th>607</th>\n      <td>4.0</td>\n      <td>0.0</td>\n      <td>0.0</td>\n      <td>0.0</td>\n      <td>0.0</td>\n      <td>0.0</td>\n      <td>0.0</td>\n      <td>0.0</td>\n      <td>0.0</td>\n      <td>0.0</td>\n      <td>...</td>\n      <td>0.0</td>\n      <td>0.0</td>\n      <td>0.0</td>\n      <td>0.0</td>\n      <td>0.0</td>\n      <td>0.0</td>\n      <td>0.0</td>\n      <td>0.0</td>\n      <td>0.0</td>\n      <td>0.0</td>\n    </tr>\n    <tr>\n      <th>608</th>\n      <td>2.5</td>\n      <td>2.0</td>\n      <td>2.0</td>\n      <td>0.0</td>\n      <td>0.0</td>\n      <td>0.0</td>\n      <td>0.0</td>\n      <td>0.0</td>\n      <td>0.0</td>\n      <td>4.0</td>\n      <td>...</td>\n      <td>0.0</td>\n      <td>0.0</td>\n      <td>0.0</td>\n      <td>0.0</td>\n      <td>0.0</td>\n      <td>0.0</td>\n      <td>0.0</td>\n      <td>0.0</td>\n      <td>0.0</td>\n      <td>0.0</td>\n    </tr>\n    <tr>\n      <th>609</th>\n      <td>3.0</td>\n      <td>0.0</td>\n      <td>0.0</td>\n      <td>0.0</td>\n      <td>0.0</td>\n      <td>0.0</td>\n      <td>0.0</td>\n      <td>0.0</td>\n      <td>0.0</td>\n      <td>4.0</td>\n      <td>...</td>\n      <td>0.0</td>\n      <td>0.0</td>\n      <td>0.0</td>\n      <td>0.0</td>\n      <td>0.0</td>\n      <td>0.0</td>\n      <td>0.0</td>\n      <td>0.0</td>\n      <td>0.0</td>\n      <td>0.0</td>\n    </tr>\n    <tr>\n      <th>610</th>\n      <td>5.0</td>\n      <td>0.0</td>\n      <td>0.0</td>\n      <td>0.0</td>\n      <td>0.0</td>\n      <td>5.0</td>\n      <td>0.0</td>\n      <td>0.0</td>\n      <td>0.0</td>\n      <td>0.0</td>\n      <td>...</td>\n      <td>0.0</td>\n      <td>0.0</td>\n      <td>0.0</td>\n      <td>0.0</td>\n      <td>0.0</td>\n      <td>0.0</td>\n      <td>0.0</td>\n      <td>0.0</td>\n      <td>0.0</td>\n      <td>0.0</td>\n    </tr>\n  </tbody>\n</table>\n<p>610 rows × 9724 columns</p>\n</div>"
     },
     "metadata": {},
     "execution_count": 31
    }
   ],
   "source": [
    "interactions"
   ]
  },
  {
   "cell_type": "code",
   "execution_count": 6,
   "metadata": {},
   "outputs": [],
   "source": [
    "user_dict = create_user_dict(interactions=interactions)"
   ]
  },
  {
   "cell_type": "code",
   "execution_count": 7,
   "metadata": {},
   "outputs": [],
   "source": [
    "movies_dict = create_item_dict(df = movies,\n",
    "                               id_col = 'movieId',\n",
    "                               name_col = 'title')"
   ]
  },
  {
   "cell_type": "code",
   "execution_count": 8,
   "metadata": {},
   "outputs": [],
   "source": [
    "mf_model = runMF(interactions = interactions,\n",
    "                 n_components = 30,\n",
    "                 loss = 'warp',\n",
    "                 k = 15,\n",
    "                 epoch = 30,\n",
    "                 n_jobs = 4)"
   ]
  },
  {
   "cell_type": "code",
   "execution_count": 9,
   "metadata": {},
   "outputs": [
    {
     "output_type": "stream",
     "name": "stdout",
     "text": [
      "Known Likes:\n1- Independence Day (a.k.a. ID4) (1996)\n2- Beauty and the Beast (1991)\n3- Silence of the Lambs, The (1991)\n4- Schindler's List (1993)\n5- Speed (1994)\n6- Lion King, The (1994)\n7- Forrest Gump (1994)\n8- Quiz Show (1994)\n9- Apollo 13 (1995)\n10- Mr. Holland's Opus (1995)\n\n Recommended Items:\n1- Pulp Fiction (1994)\n2- Crimson Tide (1995)\n3- Dances with Wolves (1990)\n4- Fugitive, The (1993)\n5- Shawshank Redemption, The (1994)\n6- True Lies (1994)\n7- Clear and Present Danger (1994)\n8- Aladdin (1992)\n9- Batman Forever (1995)\n10- Mrs. Doubtfire (1993)\n"
     ]
    }
   ],
   "source": [
    "rec_list = sample_recommendation_user(model = mf_model, \n",
    "                                      interactions = interactions, \n",
    "                                      user_id = 235, \n",
    "                                      user_dict = user_dict,\n",
    "                                      item_dict = movies_dict, \n",
    "                                      threshold = 4,\n",
    "                                      nrec_items = 10)"
   ]
  },
  {
   "cell_type": "code",
   "execution_count": 17,
   "metadata": {},
   "outputs": [
    {
     "output_type": "execute_result",
     "data": {
      "text/plain": [
       "['Pulp Fiction (1994)',\n",
       " 'Crimson Tide (1995)',\n",
       " 'Dances with Wolves (1990)',\n",
       " 'Fugitive, The (1993)',\n",
       " 'Shawshank Redemption, The (1994)',\n",
       " 'True Lies (1994)',\n",
       " 'Clear and Present Danger (1994)',\n",
       " 'Aladdin (1992)',\n",
       " 'Batman Forever (1995)',\n",
       " 'Mrs. Doubtfire (1993)']"
      ]
     },
     "metadata": {},
     "execution_count": 17
    }
   ],
   "source": [
    "[movies_dict[movie] for movie in rec_list]"
   ]
  },
  {
   "cell_type": "code",
   "execution_count": 20,
   "metadata": {},
   "outputs": [],
   "source": [
    "\n",
    "list_of_users = sample_recommendation_item(model = mf_model,\n",
    "                           interactions = interactions,\n",
    "                           item_id = 193583,\n",
    "                           user_dict = user_dict,\n",
    "                           item_dict = movies_dict,\n",
    "                           number_of_user = 15)"
   ]
  },
  {
   "cell_type": "code",
   "execution_count": 21,
   "metadata": {},
   "outputs": [
    {
     "output_type": "execute_result",
     "data": {
      "text/plain": [
       "[184, 515, 550, 291, 154, 148, 300, 25, 582, 433, 49, 30, 459, 581, 598]"
      ]
     },
     "metadata": {},
     "execution_count": 21
    }
   ],
   "source": [
    "list_of_users"
   ]
  },
  {
   "cell_type": "code",
   "execution_count": 29,
   "metadata": {},
   "outputs": [
    {
     "output_type": "stream",
     "name": "stdout",
     "text": [
      "Known Likes:\n1- Pinocchio (1940)\n2- Beauty and the Beast (1991)\n3- Snow White and the Seven Dwarfs (1937)\n4- Dances with Wolves (1990)\n5- Schindler's List (1993)\n6- In the Name of the Father (1993)\n7- Pulp Fiction (1994)\n8- Once Were Warriors (1994)\n9- Heavenly Creatures (1994)\n10- Postman, The (Postino, Il) (1994)\n\n Recommended Items:\n1- Forrest Gump (1994)\n2- Fugitive, The (1993)\n3- Shawshank Redemption, The (1994)\n4- Apollo 13 (1995)\n5- Crimson Tide (1995)\n6- Silence of the Lambs, The (1991)\n7- Speed (1994)\n8- Ghost (1990)\n9- Aladdin (1992)\n10- Fargo (1996)\n"
     ]
    }
   ],
   "source": [
    "rec_list = sample_recommendation_user(model = mf_model, \n",
    "                                      interactions = interactions, \n",
    "                                      user_id = 5, \n",
    "                                      user_dict = user_dict,\n",
    "                                      item_dict = movies_dict, \n",
    "                                      threshold = 4,\n",
    "                                      nrec_items = 10)"
   ]
  },
  {
   "cell_type": "code",
   "execution_count": 24,
   "metadata": {},
   "outputs": [
    {
     "output_type": "stream",
     "name": "stdout",
     "text": [
      "Known Likes:\n1- Deadpool (2016)\n2- The Imitation Game (2014)\n3- Ex Machina (2015)\n4- Guardians of the Galaxy (2014)\n5- Interstellar (2014)\n6- Avengers, The (2012)\n7- Inception (2010)\n8- Up (2009)\n9- Iron Man (2008)\n10- Matrix, The (1999)\n\n Recommended Items:\n1- Dark Knight, The (2008)\n2- Edge of Tomorrow (2014)\n3- Mad Max: Fury Road (2015)\n4- The Martian (2015)\n5- Dark Knight Rises, The (2012)\n6- Skyfall (2012)\n7- Django Unchained (2012)\n8- Captain America: The Winter Soldier (2014)\n9- Grand Budapest Hotel, The (2014)\n10- Avatar (2009)\n"
     ]
    }
   ],
   "source": [
    "rec_list = sample_recommendation_user(model = mf_model, \n",
    "                                      interactions = interactions, \n",
    "                                      user_id = 550, \n",
    "                                      user_dict = user_dict,\n",
    "                                      item_dict = movies_dict, \n",
    "                                      threshold = 4,\n",
    "                                      nrec_items = 10)"
   ]
  },
  {
   "cell_type": "code",
   "execution_count": null,
   "metadata": {},
   "outputs": [],
   "source": [
    "rec_list = sample_recommendation_user(model = mf_model, \n",
    "                                      interactions = interactions, \n",
    "                                      user_id = 184, \n",
    "                                      user_dict = user_dict,\n",
    "                                      item_dict = movies_dict, \n",
    "                                      threshold = 4,\n",
    "                                      nrec_items = 10)"
   ]
  },
  {
   "cell_type": "code",
   "execution_count": null,
   "metadata": {},
   "outputs": [],
   "source": []
  },
  {
   "cell_type": "code",
   "execution_count": 26,
   "metadata": {},
   "outputs": [],
   "source": [
    "item_item_dist = create_item_embedding_distance_matrix(model = mf_model,\n",
    "                                                       interactions = interactions)"
   ]
  },
  {
   "cell_type": "code",
   "execution_count": 27,
   "metadata": {},
   "outputs": [
    {
     "output_type": "stream",
     "name": "stdout",
     "text": [
      "Item of interest :No Game No Life: Zero (2017)\nItem similar to the above item:\n1- The Night Is Short, Walk on Girl (2017)\n2- Steins;Gate the Movie: The Burden of Déjà vu (2013)\n3- Kizumonogatari III: Cold Blood (2017)\n4- Silver Spoon (2014)\n5- Tokyo Idols (2017)\n6- Fullmetal Alchemist: The Sacred Star of Milos (2011)\n7- Ferdinand (2017)\n8- Tickling Giants (2017)\n9- Fireworks, Should We See It from the Side or the Bottom? (2017)\n10- Kizumonogatari II: Passionate Blood (2016)\n"
     ]
    }
   ],
   "source": [
    "\n",
    "rec_list = item_item_recommendation(item_embedding_distance_matrix = item_item_dist,\n",
    "                                    item_id = 193583,\n",
    "                                    item_dict = movies_dict,\n",
    "                                    n_items = 10)"
   ]
  },
  {
   "cell_type": "code",
   "execution_count": 28,
   "metadata": {},
   "outputs": [
    {
     "output_type": "execute_result",
     "data": {
      "text/plain": [
       "movieId    1         2         3         4         5         6         7       \\\n",
       "movieId                                                                         \n",
       "1        1.000000  0.796735  0.412812  0.052299  0.588450  0.559913  0.305062   \n",
       "2        0.796735  1.000000  0.483865  0.130941  0.594046  0.475346  0.259082   \n",
       "3        0.412812  0.483865  1.000000  0.258686  0.592923  0.427575  0.571586   \n",
       "4        0.052299  0.130941  0.258686  1.000000  0.392658 -0.049164  0.561296   \n",
       "5        0.588450  0.594046  0.592923  0.392658  1.000000  0.294284  0.655605   \n",
       "...           ...       ...       ...       ...       ...       ...       ...   \n",
       "193581  -0.673018 -0.687876 -0.430282  0.099795 -0.282848 -0.522804 -0.203650   \n",
       "193583  -0.656940 -0.642230 -0.518273  0.041656 -0.352420 -0.629438 -0.350663   \n",
       "193585  -0.638694 -0.578902 -0.502609  0.062406 -0.262459 -0.660005 -0.249876   \n",
       "193587  -0.657969 -0.615664 -0.537014  0.025807 -0.289006 -0.619202 -0.296065   \n",
       "193609  -0.156552 -0.160710 -0.426733 -0.247939 -0.088158 -0.176209 -0.468926   \n",
       "\n",
       "movieId    8         9         10      ...    193565    193567    193571  \\\n",
       "movieId                                ...                                 \n",
       "1        0.370084  0.335008  0.809096  ... -0.689838 -0.687533 -0.689636   \n",
       "2        0.462800  0.251379  0.735052  ... -0.679724 -0.666431 -0.701883   \n",
       "3        0.422335  0.568336  0.571218  ... -0.508588 -0.536114 -0.504227   \n",
       "4        0.405947  0.317658  0.113397  ...  0.005223  0.073306  0.033315   \n",
       "5        0.446476  0.516017  0.595986  ... -0.332088 -0.340502 -0.328398   \n",
       "...           ...       ...       ...  ...       ...       ...       ...   \n",
       "193581  -0.343104 -0.038292 -0.608057  ...  0.964039  0.928008  0.970913   \n",
       "193583  -0.490261 -0.140065 -0.634086  ...  0.951453  0.947480  0.970796   \n",
       "193585  -0.346914 -0.106731 -0.597644  ...  0.933976  0.923563  0.937916   \n",
       "193587  -0.409545 -0.126173 -0.651004  ...  0.962016  0.943117  0.957090   \n",
       "193609  -0.394258 -0.198179 -0.188590  ...  0.291489  0.402014  0.235151   \n",
       "\n",
       "movieId    193573    193579    193581    193583    193585    193587    193609  \n",
       "movieId                                                                        \n",
       "1       -0.664347 -0.789128 -0.673018 -0.656940 -0.638694 -0.657969 -0.156552  \n",
       "2       -0.674163 -0.750012 -0.687876 -0.642230 -0.578902 -0.615664 -0.160710  \n",
       "3       -0.492843 -0.430411 -0.430282 -0.518273 -0.502609 -0.537014 -0.426733  \n",
       "4        0.040603  0.080751  0.099795  0.041656  0.062406  0.025807 -0.247939  \n",
       "5       -0.297081 -0.355593 -0.282848 -0.352420 -0.262459 -0.289006 -0.088158  \n",
       "...           ...       ...       ...       ...       ...       ...       ...  \n",
       "193581   0.971803  0.945962  1.000000  0.941828  0.901017  0.937077  0.228011  \n",
       "193583   0.958436  0.905775  0.941828  1.000000  0.934719  0.953914  0.304562  \n",
       "193585   0.934305  0.875569  0.901017  0.934719  1.000000  0.968046  0.370776  \n",
       "193587   0.961474  0.912841  0.937077  0.953914  0.968046  1.000000  0.402116  \n",
       "193609   0.279469  0.122107  0.228011  0.304562  0.370776  0.402116  1.000000  \n",
       "\n",
       "[9724 rows x 9724 columns]"
      ],
      "text/html": "<div>\n<style scoped>\n    .dataframe tbody tr th:only-of-type {\n        vertical-align: middle;\n    }\n\n    .dataframe tbody tr th {\n        vertical-align: top;\n    }\n\n    .dataframe thead th {\n        text-align: right;\n    }\n</style>\n<table border=\"1\" class=\"dataframe\">\n  <thead>\n    <tr style=\"text-align: right;\">\n      <th>movieId</th>\n      <th>1</th>\n      <th>2</th>\n      <th>3</th>\n      <th>4</th>\n      <th>5</th>\n      <th>6</th>\n      <th>7</th>\n      <th>8</th>\n      <th>9</th>\n      <th>10</th>\n      <th>...</th>\n      <th>193565</th>\n      <th>193567</th>\n      <th>193571</th>\n      <th>193573</th>\n      <th>193579</th>\n      <th>193581</th>\n      <th>193583</th>\n      <th>193585</th>\n      <th>193587</th>\n      <th>193609</th>\n    </tr>\n    <tr>\n      <th>movieId</th>\n      <th></th>\n      <th></th>\n      <th></th>\n      <th></th>\n      <th></th>\n      <th></th>\n      <th></th>\n      <th></th>\n      <th></th>\n      <th></th>\n      <th></th>\n      <th></th>\n      <th></th>\n      <th></th>\n      <th></th>\n      <th></th>\n      <th></th>\n      <th></th>\n      <th></th>\n      <th></th>\n      <th></th>\n    </tr>\n  </thead>\n  <tbody>\n    <tr>\n      <th>1</th>\n      <td>1.000000</td>\n      <td>0.796735</td>\n      <td>0.412812</td>\n      <td>0.052299</td>\n      <td>0.588450</td>\n      <td>0.559913</td>\n      <td>0.305062</td>\n      <td>0.370084</td>\n      <td>0.335008</td>\n      <td>0.809096</td>\n      <td>...</td>\n      <td>-0.689838</td>\n      <td>-0.687533</td>\n      <td>-0.689636</td>\n      <td>-0.664347</td>\n      <td>-0.789128</td>\n      <td>-0.673018</td>\n      <td>-0.656940</td>\n      <td>-0.638694</td>\n      <td>-0.657969</td>\n      <td>-0.156552</td>\n    </tr>\n    <tr>\n      <th>2</th>\n      <td>0.796735</td>\n      <td>1.000000</td>\n      <td>0.483865</td>\n      <td>0.130941</td>\n      <td>0.594046</td>\n      <td>0.475346</td>\n      <td>0.259082</td>\n      <td>0.462800</td>\n      <td>0.251379</td>\n      <td>0.735052</td>\n      <td>...</td>\n      <td>-0.679724</td>\n      <td>-0.666431</td>\n      <td>-0.701883</td>\n      <td>-0.674163</td>\n      <td>-0.750012</td>\n      <td>-0.687876</td>\n      <td>-0.642230</td>\n      <td>-0.578902</td>\n      <td>-0.615664</td>\n      <td>-0.160710</td>\n    </tr>\n    <tr>\n      <th>3</th>\n      <td>0.412812</td>\n      <td>0.483865</td>\n      <td>1.000000</td>\n      <td>0.258686</td>\n      <td>0.592923</td>\n      <td>0.427575</td>\n      <td>0.571586</td>\n      <td>0.422335</td>\n      <td>0.568336</td>\n      <td>0.571218</td>\n      <td>...</td>\n      <td>-0.508588</td>\n      <td>-0.536114</td>\n      <td>-0.504227</td>\n      <td>-0.492843</td>\n      <td>-0.430411</td>\n      <td>-0.430282</td>\n      <td>-0.518273</td>\n      <td>-0.502609</td>\n      <td>-0.537014</td>\n      <td>-0.426733</td>\n    </tr>\n    <tr>\n      <th>4</th>\n      <td>0.052299</td>\n      <td>0.130941</td>\n      <td>0.258686</td>\n      <td>1.000000</td>\n      <td>0.392658</td>\n      <td>-0.049164</td>\n      <td>0.561296</td>\n      <td>0.405947</td>\n      <td>0.317658</td>\n      <td>0.113397</td>\n      <td>...</td>\n      <td>0.005223</td>\n      <td>0.073306</td>\n      <td>0.033315</td>\n      <td>0.040603</td>\n      <td>0.080751</td>\n      <td>0.099795</td>\n      <td>0.041656</td>\n      <td>0.062406</td>\n      <td>0.025807</td>\n      <td>-0.247939</td>\n    </tr>\n    <tr>\n      <th>5</th>\n      <td>0.588450</td>\n      <td>0.594046</td>\n      <td>0.592923</td>\n      <td>0.392658</td>\n      <td>1.000000</td>\n      <td>0.294284</td>\n      <td>0.655605</td>\n      <td>0.446476</td>\n      <td>0.516017</td>\n      <td>0.595986</td>\n      <td>...</td>\n      <td>-0.332088</td>\n      <td>-0.340502</td>\n      <td>-0.328398</td>\n      <td>-0.297081</td>\n      <td>-0.355593</td>\n      <td>-0.282848</td>\n      <td>-0.352420</td>\n      <td>-0.262459</td>\n      <td>-0.289006</td>\n      <td>-0.088158</td>\n    </tr>\n    <tr>\n      <th>...</th>\n      <td>...</td>\n      <td>...</td>\n      <td>...</td>\n      <td>...</td>\n      <td>...</td>\n      <td>...</td>\n      <td>...</td>\n      <td>...</td>\n      <td>...</td>\n      <td>...</td>\n      <td>...</td>\n      <td>...</td>\n      <td>...</td>\n      <td>...</td>\n      <td>...</td>\n      <td>...</td>\n      <td>...</td>\n      <td>...</td>\n      <td>...</td>\n      <td>...</td>\n      <td>...</td>\n    </tr>\n    <tr>\n      <th>193581</th>\n      <td>-0.673018</td>\n      <td>-0.687876</td>\n      <td>-0.430282</td>\n      <td>0.099795</td>\n      <td>-0.282848</td>\n      <td>-0.522804</td>\n      <td>-0.203650</td>\n      <td>-0.343104</td>\n      <td>-0.038292</td>\n      <td>-0.608057</td>\n      <td>...</td>\n      <td>0.964039</td>\n      <td>0.928008</td>\n      <td>0.970913</td>\n      <td>0.971803</td>\n      <td>0.945962</td>\n      <td>1.000000</td>\n      <td>0.941828</td>\n      <td>0.901017</td>\n      <td>0.937077</td>\n      <td>0.228011</td>\n    </tr>\n    <tr>\n      <th>193583</th>\n      <td>-0.656940</td>\n      <td>-0.642230</td>\n      <td>-0.518273</td>\n      <td>0.041656</td>\n      <td>-0.352420</td>\n      <td>-0.629438</td>\n      <td>-0.350663</td>\n      <td>-0.490261</td>\n      <td>-0.140065</td>\n      <td>-0.634086</td>\n      <td>...</td>\n      <td>0.951453</td>\n      <td>0.947480</td>\n      <td>0.970796</td>\n      <td>0.958436</td>\n      <td>0.905775</td>\n      <td>0.941828</td>\n      <td>1.000000</td>\n      <td>0.934719</td>\n      <td>0.953914</td>\n      <td>0.304562</td>\n    </tr>\n    <tr>\n      <th>193585</th>\n      <td>-0.638694</td>\n      <td>-0.578902</td>\n      <td>-0.502609</td>\n      <td>0.062406</td>\n      <td>-0.262459</td>\n      <td>-0.660005</td>\n      <td>-0.249876</td>\n      <td>-0.346914</td>\n      <td>-0.106731</td>\n      <td>-0.597644</td>\n      <td>...</td>\n      <td>0.933976</td>\n      <td>0.923563</td>\n      <td>0.937916</td>\n      <td>0.934305</td>\n      <td>0.875569</td>\n      <td>0.901017</td>\n      <td>0.934719</td>\n      <td>1.000000</td>\n      <td>0.968046</td>\n      <td>0.370776</td>\n    </tr>\n    <tr>\n      <th>193587</th>\n      <td>-0.657969</td>\n      <td>-0.615664</td>\n      <td>-0.537014</td>\n      <td>0.025807</td>\n      <td>-0.289006</td>\n      <td>-0.619202</td>\n      <td>-0.296065</td>\n      <td>-0.409545</td>\n      <td>-0.126173</td>\n      <td>-0.651004</td>\n      <td>...</td>\n      <td>0.962016</td>\n      <td>0.943117</td>\n      <td>0.957090</td>\n      <td>0.961474</td>\n      <td>0.912841</td>\n      <td>0.937077</td>\n      <td>0.953914</td>\n      <td>0.968046</td>\n      <td>1.000000</td>\n      <td>0.402116</td>\n    </tr>\n    <tr>\n      <th>193609</th>\n      <td>-0.156552</td>\n      <td>-0.160710</td>\n      <td>-0.426733</td>\n      <td>-0.247939</td>\n      <td>-0.088158</td>\n      <td>-0.176209</td>\n      <td>-0.468926</td>\n      <td>-0.394258</td>\n      <td>-0.198179</td>\n      <td>-0.188590</td>\n      <td>...</td>\n      <td>0.291489</td>\n      <td>0.402014</td>\n      <td>0.235151</td>\n      <td>0.279469</td>\n      <td>0.122107</td>\n      <td>0.228011</td>\n      <td>0.304562</td>\n      <td>0.370776</td>\n      <td>0.402116</td>\n      <td>1.000000</td>\n    </tr>\n  </tbody>\n</table>\n<p>9724 rows × 9724 columns</p>\n</div>"
     },
     "metadata": {},
     "execution_count": 28
    }
   ],
   "source": [
    "item_item_dist"
   ]
  }
 ]
}